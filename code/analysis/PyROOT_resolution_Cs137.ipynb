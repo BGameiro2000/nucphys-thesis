{
 "cells": [
  {
   "cell_type": "code",
   "execution_count": 1,
   "id": "17f6fa13-8962-4f8c-81e5-1bac23eae574",
   "metadata": {
    "tags": []
   },
   "outputs": [
    {
     "name": "stdout",
     "output_type": "stream",
     "text": [
      "uproot              4.3.5\n",
      "Welcome to JupyROOT 6.26/10\n",
      "sklearn             1.2.0\n",
      "torch               1.13.1\n",
      "scipy               1.10.1\n",
      "numpy               1.24.2\n",
      "pandas              1.5.3\n",
      "modin               0.18.1\n",
      "uncertainties       3.1.7\n",
      "dexplot             0.1.4\n",
      "matplotlib          3.6.2\n",
      "tqdm                4.62.3\n"
     ]
    }
   ],
   "source": [
    "pkg_ver = lambda pkg: \"{:<20}{:}\".format(pkg.__name__,pkg.__version__)\n",
    "\n",
    "# ROOT\n",
    "import uproot\n",
    "print(pkg_ver(uproot))\n",
    "import ROOT\n",
    "\n",
    "# Machine Learning\n",
    "import sklearn\n",
    "print(pkg_ver(sklearn))\n",
    "import torch\n",
    "print(pkg_ver(torch))\n",
    "\n",
    "# Data science\n",
    "import scipy\n",
    "print(pkg_ver(scipy))\n",
    "import numpy\n",
    "print(pkg_ver(numpy))\n",
    "import pandas\n",
    "print(pkg_ver(pandas))\n",
    "import modin\n",
    "from modin import pandas as ppandas\n",
    "print(pkg_ver(modin))\n",
    "\n",
    "# Uncertainty support\n",
    "import uncertainties\n",
    "print(pkg_ver(uncertainties))\n",
    "\n",
    "# Visualizations\n",
    "import dexplot\n",
    "print(pkg_ver(dexplot))\n",
    "import matplotlib\n",
    "print(pkg_ver(matplotlib))\n",
    "plt = matplotlib.pyplot\n",
    "\n",
    "import tqdm\n",
    "print(pkg_ver(tqdm))"
   ]
  },
  {
   "cell_type": "code",
   "execution_count": 2,
   "id": "c3603164-e1d9-491c-bd72-b2aaeda218d4",
   "metadata": {
    "tags": []
   },
   "outputs": [],
   "source": [
    "%jsroot"
   ]
  },
  {
   "cell_type": "code",
   "execution_count": 3,
   "id": "d3cbd696-3d74-4651-a9e5-08c516eff054",
   "metadata": {},
   "outputs": [],
   "source": [
    "class spectrum:\n",
    "    \n",
    "    def __init__(self, TH1D_, id_):  \n",
    "\n",
    "        self.__TH1D = TH1D_\n",
    "        self.__id   = id_\n",
    "        \n",
    "    def __call__(self):\n",
    "        \n",
    "        stdev_ = (self.__func(e_))**0.5\n",
    "    \n",
    "        return prng_.normal(e_,stdev_) # Change for our function"
   ]
  },
  {
   "cell_type": "code",
   "execution_count": 4,
   "id": "e304d573-3e04-4a83-9a9d-96ca4905b834",
   "metadata": {},
   "outputs": [
    {
     "data": {
      "text/html": [
       "<div>\n",
       "<style scoped>\n",
       "    .dataframe tbody tr th:only-of-type {\n",
       "        vertical-align: middle;\n",
       "    }\n",
       "\n",
       "    .dataframe tbody tr th {\n",
       "        vertical-align: top;\n",
       "    }\n",
       "\n",
       "    .dataframe thead tr th {\n",
       "        text-align: left;\n",
       "    }\n",
       "</style>\n",
       "<table border=\"1\" class=\"dataframe\">\n",
       "  <thead>\n",
       "    <tr>\n",
       "      <th></th>\n",
       "      <th colspan=\"5\" halign=\"left\">A</th>\n",
       "      <th colspan=\"5\" halign=\"left\">B</th>\n",
       "      <th colspan=\"5\" halign=\"left\">C</th>\n",
       "      <th colspan=\"5\" halign=\"left\">D</th>\n",
       "    </tr>\n",
       "    <tr>\n",
       "      <th></th>\n",
       "      <th>0</th>\n",
       "      <th>1</th>\n",
       "      <th>2</th>\n",
       "      <th>3</th>\n",
       "      <th>4</th>\n",
       "      <th>0</th>\n",
       "      <th>1</th>\n",
       "      <th>2</th>\n",
       "      <th>3</th>\n",
       "      <th>4</th>\n",
       "      <th>0</th>\n",
       "      <th>1</th>\n",
       "      <th>2</th>\n",
       "      <th>3</th>\n",
       "      <th>4</th>\n",
       "      <th>0</th>\n",
       "      <th>1</th>\n",
       "      <th>2</th>\n",
       "      <th>3</th>\n",
       "      <th>4</th>\n",
       "    </tr>\n",
       "  </thead>\n",
       "  <tbody>\n",
       "    <tr>\n",
       "      <th>P0</th>\n",
       "      <td>110.61900</td>\n",
       "      <td>149.122000</td>\n",
       "      <td>191.620000</td>\n",
       "      <td>117.97700</td>\n",
       "      <td>209.411000</td>\n",
       "      <td>137.653000</td>\n",
       "      <td>194.732000</td>\n",
       "      <td>195.436000</td>\n",
       "      <td>168.661000</td>\n",
       "      <td>180.225000</td>\n",
       "      <td>181.190000</td>\n",
       "      <td>206.42100</td>\n",
       "      <td>199.223000</td>\n",
       "      <td>213.161000</td>\n",
       "      <td>195.264000</td>\n",
       "      <td>104.174000</td>\n",
       "      <td>164.759000</td>\n",
       "      <td>150.91700</td>\n",
       "      <td>157.390000</td>\n",
       "      <td>141.421000</td>\n",
       "    </tr>\n",
       "    <tr>\n",
       "      <th>P1</th>\n",
       "      <td>1.83959</td>\n",
       "      <td>1.586990</td>\n",
       "      <td>1.904910</td>\n",
       "      <td>1.61805</td>\n",
       "      <td>1.993920</td>\n",
       "      <td>2.077180</td>\n",
       "      <td>2.466150</td>\n",
       "      <td>1.772110</td>\n",
       "      <td>2.052320</td>\n",
       "      <td>1.953760</td>\n",
       "      <td>1.897540</td>\n",
       "      <td>1.62356</td>\n",
       "      <td>1.943850</td>\n",
       "      <td>2.117480</td>\n",
       "      <td>2.084960</td>\n",
       "      <td>2.027700</td>\n",
       "      <td>1.910040</td>\n",
       "      <td>1.83602</td>\n",
       "      <td>1.977390</td>\n",
       "      <td>1.816370</td>\n",
       "    </tr>\n",
       "    <tr>\n",
       "      <th>P2</th>\n",
       "      <td>0.00061</td>\n",
       "      <td>0.000873</td>\n",
       "      <td>0.001742</td>\n",
       "      <td>0.00072</td>\n",
       "      <td>0.001584</td>\n",
       "      <td>0.000714</td>\n",
       "      <td>0.001284</td>\n",
       "      <td>0.001758</td>\n",
       "      <td>0.000866</td>\n",
       "      <td>0.001206</td>\n",
       "      <td>0.001287</td>\n",
       "      <td>0.00163</td>\n",
       "      <td>0.001658</td>\n",
       "      <td>0.001264</td>\n",
       "      <td>0.001542</td>\n",
       "      <td>0.000469</td>\n",
       "      <td>0.000965</td>\n",
       "      <td>0.00090</td>\n",
       "      <td>0.001071</td>\n",
       "      <td>0.000824</td>\n",
       "    </tr>\n",
       "  </tbody>\n",
       "</table>\n",
       "</div>"
      ],
      "text/plain": [
       "            A                                                          B  \\\n",
       "            0           1           2          3           4           0   \n",
       "P0  110.61900  149.122000  191.620000  117.97700  209.411000  137.653000   \n",
       "P1    1.83959    1.586990    1.904910    1.61805    1.993920    2.077180   \n",
       "P2    0.00061    0.000873    0.001742    0.00072    0.001584    0.000714   \n",
       "\n",
       "                                                             C             \\\n",
       "             1           2           3           4           0          1   \n",
       "P0  194.732000  195.436000  168.661000  180.225000  181.190000  206.42100   \n",
       "P1    2.466150    1.772110    2.052320    1.953760    1.897540    1.62356   \n",
       "P2    0.001284    0.001758    0.000866    0.001206    0.001287    0.00163   \n",
       "\n",
       "                                                 D                         \\\n",
       "             2           3           4           0           1          2   \n",
       "P0  199.223000  213.161000  195.264000  104.174000  164.759000  150.91700   \n",
       "P1    1.943850    2.117480    2.084960    2.027700    1.910040    1.83602   \n",
       "P2    0.001658    0.001264    0.001542    0.000469    0.000965    0.00090   \n",
       "\n",
       "                            \n",
       "             3           4  \n",
       "P0  157.390000  141.421000  \n",
       "P1    1.977390    1.816370  \n",
       "P2    0.001071    0.000824  "
      ]
     },
     "execution_count": 4,
     "metadata": {},
     "output_type": "execute_result"
    }
   ],
   "source": [
    "E_cal = lambda ch, p: p[0] + p[1]*ch + p[2]*ch**2\n",
    "\n",
    "iTEDA_cal = pandas.read_csv(\n",
    "    \"../../data/nTOF_March2022/Energy_Calibrations_02_03_2022/Energy_Calibrations_iTEDA.dat\",\n",
    "    delim_whitespace=True,\n",
    "    names=[\"P0\",\"P1\",\"P2\"]\n",
    ")\n",
    "\n",
    "iTEDB_cal = pandas.read_csv(\n",
    "    \"../../data/nTOF_March2022/Energy_Calibrations_02_03_2022/Energy_Calibrations_iTEDB.dat\",\n",
    "    delim_whitespace=True,\n",
    "    names=[\"P0\",\"P1\",\"P2\"]\n",
    ")\n",
    "\n",
    "iTEDC_cal = pandas.read_csv(\n",
    "    \"../../data/nTOF_March2022/Energy_Calibrations_02_03_2022/Energy_Calibrations_iTEDC.dat\",\n",
    "    delim_whitespace=True,\n",
    "    names=[\"P0\",\"P1\",\"P2\"]\n",
    ")\n",
    "\n",
    "iTEDD_cal = pandas.read_csv(\n",
    "    \"../../data/nTOF_March2022/Energy_Calibrations_02_03_2022/Energy_Calibrations_iTEDD.dat\",\n",
    "    delim_whitespace=True,\n",
    "    names=[\"P0\",\"P1\",\"P2\"]\n",
    ")\n",
    "\n",
    "iTED_cal = pandas.concat([iTEDA_cal.T, iTEDB_cal.T, iTEDC_cal.T, iTEDD_cal.T], axis=1, keys=['A', 'B', 'C', 'D'])\n",
    "\n",
    "iTED_cal"
   ]
  },
  {
   "cell_type": "code",
   "execution_count": 5,
   "id": "60087a0d-c0d4-4f4d-ab6c-cc9679ca2da6",
   "metadata": {
    "tags": []
   },
   "outputs": [
    {
     "ename": "NameError",
     "evalue": "name 'calibration' is not defined",
     "output_type": "error",
     "traceback": [
      "\u001b[0;31m---------------------------------------------------------------------------\u001b[0m",
      "\u001b[0;31mNameError\u001b[0m                                 Traceback (most recent call last)",
      "Cell \u001b[0;32mIn[5], line 8\u001b[0m\n\u001b[1;32m      4\u001b[0m ited \u001b[38;5;241m=\u001b[39m [\u001b[38;5;124m\"\u001b[39m\u001b[38;5;124mA\u001b[39m\u001b[38;5;124m\"\u001b[39m,\u001b[38;5;124m\"\u001b[39m\u001b[38;5;124mB\u001b[39m\u001b[38;5;124m\"\u001b[39m,\u001b[38;5;124m\"\u001b[39m\u001b[38;5;124mC\u001b[39m\u001b[38;5;124m\"\u001b[39m,\u001b[38;5;124m\"\u001b[39m\u001b[38;5;124mD\u001b[39m\u001b[38;5;124m\"\u001b[39m]\n\u001b[1;32m      5\u001b[0m crystal \u001b[38;5;241m=\u001b[39m [\u001b[38;5;241m0\u001b[39m,\u001b[38;5;241m1\u001b[39m,\u001b[38;5;241m2\u001b[39m,\u001b[38;5;241m3\u001b[39m,\u001b[38;5;241m4\u001b[39m]\n\u001b[1;32m      7\u001b[0m midx \u001b[38;5;241m=\u001b[39m pandas\u001b[38;5;241m.\u001b[39mMultiIndex\u001b[38;5;241m.\u001b[39mfrom_product(\n\u001b[0;32m----> 8\u001b[0m     [\u001b[43mcalibration\u001b[49m, config, CW],\n\u001b[1;32m      9\u001b[0m     names\u001b[38;5;241m=\u001b[39m[\u001b[38;5;124m'\u001b[39m\u001b[38;5;124mConfiguration\u001b[39m\u001b[38;5;124m'\u001b[39m, \u001b[38;5;124m'\u001b[39m\u001b[38;5;124mWindow\u001b[39m\u001b[38;5;124m'\u001b[39m]\n\u001b[1;32m     10\u001b[0m )\n\u001b[1;32m     12\u001b[0m mcol \u001b[38;5;241m=\u001b[39m pandas\u001b[38;5;241m.\u001b[39mMultiIndex\u001b[38;5;241m.\u001b[39mfrom_product(\n\u001b[1;32m     13\u001b[0m     [ited, crystal],\n\u001b[1;32m     14\u001b[0m     names\u001b[38;5;241m=\u001b[39m[\u001b[38;5;124m'\u001b[39m\u001b[38;5;124miTED\u001b[39m\u001b[38;5;124m'\u001b[39m, \u001b[38;5;124m'\u001b[39m\u001b[38;5;124mCrystal\u001b[39m\u001b[38;5;124m'\u001b[39m]\n\u001b[1;32m     15\u001b[0m ) \n\u001b[1;32m     17\u001b[0m spectra \u001b[38;5;241m=\u001b[39m pandas\u001b[38;5;241m.\u001b[39mDataFrame(index \u001b[38;5;241m=\u001b[39m midx, columns \u001b[38;5;241m=\u001b[39m mcol)\n",
      "\u001b[0;31mNameError\u001b[0m: name 'calibration' is not defined"
     ]
    }
   ],
   "source": [
    "config = [885, 888, 8811]\n",
    "CW = [100, 200]\n",
    "\n",
    "ited = [\"A\",\"B\",\"C\",\"D\"]\n",
    "crystal = [0,1,2,3,4]\n",
    "\n",
    "midx = pandas.MultiIndex.from_product(\n",
    "    [config, CW],\n",
    "    names=['Configuration', 'Window']\n",
    ")\n",
    "\n",
    "mcol = pandas.MultiIndex.from_product(\n",
    "    [ited, crystal],\n",
    "    names=['iTED', 'Crystal']\n",
    ") \n",
    "\n",
    "spectra = pandas.DataFrame(index = midx, columns = mcol)\n",
    "\n",
    "# Access using spectra[iTED,Crystal][Configuration,Window]\n",
    "\n",
    "spectra"
   ]
  },
  {
   "cell_type": "code",
   "execution_count": null,
   "id": "62418106-d1c6-4725-b5fe-1bded40c0b2f",
   "metadata": {
    "tags": []
   },
   "outputs": [],
   "source": [
    "iTEDA = {\n",
    "    \"8811\": ROOT.TFile.Open(\"../../data/2023-02-23/8811/CW100ns/Cs137-iTEDA-A2_D.2023_02_23_T.12_21_13_C.itedABCD_lab_2023.02.22_4.0v_8811_300s.root\",\"READ\"),\n",
    "     \"888\": ROOT.TFile.Open(\"../../data/2023-02-23/888/CW100ns/Cs137-iTEDA-A2_D.2023_02_23_T.13_40_46_C.itedABCD_lab_2023.02.22_4.0v_888_300s.root\",\"READ\"  )\n",
    "}\n",
    "\n",
    "iTEDB = {\n",
    "    \"8811\": ROOT.TFile.Open(\"../../data/2023-02-23/8811/CW100ns/Cs137-iTEDB-A2_D.2023_02_23_T.12_29_30_C.itedABCD_lab_2023.02.22_4.0v_8811_300s.root\",\"READ\"),\n",
    "     \"888\": ROOT.TFile.Open(\"../../data/2023-02-23/888/CW100ns/Cs137-iTEDB-A2_D.2023_02_23_T.13_33_41_C.itedABCD_lab_2023.02.22_4.0v_888_300s.root\",\"READ\"  )\n",
    "}\n",
    "\n",
    "iTEDC = {\n",
    "    \"8811\": ROOT.TFile.Open(\"../../data/2023-02-23/8811/CW100ns/Cs137-iTEDC-A1_D.2023_02_23_T.12_41_32_C.itedABCD_lab_2023.02.22_4.0v_8811_300s.root\",\"READ\"),\n",
    "     \"888\": ROOT.TFile.Open(\"../../data/2023-02-23/888/CW100ns/Cs137-iTEDC-A1_D.2023_02_23_T.13_26_03_C.itedABCD_lab_2023.02.22_4.0v_888_300s.root\",\"READ\"  )\n",
    "}\n",
    "\n",
    "iTEDD = {\n",
    "    \"8811\": ROOT.TFile.Open(\"../../data/2023-02-23/8811/CW100ns/Cs137-iTEDD-A1_D.2023_02_23_T.12_48_46_C.itedABCD_lab_2023.02.22_4.0v_8811_300s.root\",\"READ\"),\n",
    "     \"888\": ROOT.TFile.Open(\"../../data/2023-02-23/888/CW100ns/Cs137-iTEDD-A1_D.2023_02_23_T.13_03_18_C.itedABCD_lab_2023.02.22_4.0v_888_300s.root\",\"READ\"  )\n",
    "}"
   ]
  },
  {
   "cell_type": "code",
   "execution_count": null,
   "id": "e3554fc8-3fea-4560-a845-daf029ababd2",
   "metadata": {},
   "outputs": [],
   "source": [
    "for iTED in[0,1,2,3]:\n",
    "    for Crystal in [0,1,2,3,4]:\n",
    "        for Configuration in [888,8811]:\n",
    "            \n",
    "            spectra[\n",
    "                [\"A\",\"B\",\"C\",\"D\"][iTED], Crystal\n",
    "            ][\n",
    "                Configuration, 100\n",
    "            ] = [[iTEDA,iTEDB,iTEDC,iTEDD][iTED][str(Configuration)].Get(\n",
    "                \"{}_{}_amplitude_spectra;1\".format(\n",
    "                    \"SCATTERER\" if Crystal==0 else \"ABSORBER\",\n",
    "                    [\"A\",\"B\",\"C\",\"D\"][iTED] if Crystal==0 else \"{}_{}\".format([\"A\",\"B\",\"C\",\"D\"][iTED],Crystal)\n",
    "                )\n",
    "            ),\"{}.{}.{}.{}\".format([\"A\",\"B\",\"C\",\"D\"][iTED],Crystal,Configuration,100)]"
   ]
  },
  {
   "cell_type": "code",
   "execution_count": null,
   "id": "abe08ccf-328b-4d46-95fd-8aff86d9ffb8",
   "metadata": {
    "tags": []
   },
   "outputs": [],
   "source": [
    "spectra.dropna(inplace=True)\n",
    "spectra.applymap(lambda x: type(x[0]).__name__)"
   ]
  },
  {
   "cell_type": "code",
   "execution_count": null,
   "id": "8d387cf8-7e6d-4702-9ca6-d1456db1a11d",
   "metadata": {
    "tags": []
   },
   "outputs": [],
   "source": [
    "def get_resolution(cell,calibration=False):\n",
    "    \n",
    "    TH1D, label = cell\n",
    "    iTED, Crystal, Config, Window = label.split(\".\")\n",
    "    \n",
    "    TH1D.GetXaxis().SetRange(TH1D.FindBin(100),TH1D.FindBin(400))\n",
    "    \n",
    "    MaxBin   = TH1D.FindBin(TH1D.GetMaximumBin())\n",
    "    \n",
    "    ADC_Low  = MaxBin-60\n",
    "    ADC_High = MaxBin+40\n",
    "\n",
    "    gaussFit = ROOT.TF1(\"gaussFit\", \"pol1(0)+gaus(2)\", ADC_Low, ADC_High)\n",
    "    gaussFit.SetParameters(1000,-1,TH1D.GetMaximum(),MaxBin,10)\n",
    "    TH1D.Fit(gaussFit,\"QR\")\n",
    "    \n",
    "    sigma = abs(gaussFit.GetParameter(4))\n",
    "    centroid = gaussFit.GetParameter(3)\n",
    "    \n",
    "    if not calibration:\n",
    "        x1 = centroid+sigma*numpy.sqrt(2*numpy.log(2))\n",
    "        x2 = centroid-sigma*numpy.sqrt(2*numpy.log(2))\n",
    "    else:\n",
    "        x1 = calibration(centroid+sigma*numpy.sqrt(2*numpy.log(2)),iTED_cal[:][iTED,int(Crystal)])\n",
    "        x2 = calibration(centroid-sigma*numpy.sqrt(2*numpy.log(2)),iTED_cal[:][iTED,int(Crystal)])\n",
    "        centroid = calibration(centroid,iTED_cal[:][iTED,int(Crystal)])\n",
    "        \n",
    "    fwhm = x1-x2\n",
    "            \n",
    "    return centroid, (fwhm/centroid)*100    "
   ]
  },
  {
   "cell_type": "code",
   "execution_count": null,
   "id": "01822275-ab0d-4cb0-9ace-71e9b93659cf",
   "metadata": {
    "tags": []
   },
   "outputs": [],
   "source": [
    "def TH1D_draw(cell):\n",
    "    \n",
    "    TH1D, label = cell\n",
    "    \n",
    "    canvas = ROOT.TCanvas()\n",
    "    canvas.cd()\n",
    "    \n",
    "    TH1D.SetTitle(\"iTED: {},Crystal: {},Configuration: {},Window: {}\".format(*label.split(\".\")))\n",
    "    TH1D.SetStats(False)\n",
    "    \n",
    "    latex = ROOT.TLatex()\n",
    "    latex.SetNDC()\n",
    "    latex.SetTextSize(0.06)\n",
    "    \n",
    "    TH1D.Draw(\"pe\")\n",
    "    \n",
    "    res_ch = get_resolution(cell)\n",
    "    res_en = get_resolution(cell,E_cal)\n",
    "    \n",
    "    latex.DrawText(0.6, 0.8, \"R_ch:\\t{}%\".format(round(res_ch[1],2)))\n",
    "    latex.DrawText(0.6, 0.7, \"R_E:\\t{}%\".format(round(res_en[1],2)))\n",
    "    latex.DrawText(0.6, 0.6, \"E:\\t{}keV\".format(round(res_en[0],0)))\n",
    "    \n",
    "    return canvas"
   ]
  },
  {
   "cell_type": "code",
   "execution_count": null,
   "id": "e4264958-ae0c-4dd8-8d7d-71b2adad64f5",
   "metadata": {
    "tags": []
   },
   "outputs": [],
   "source": [
    "spectra.applymap(lambda x: get_resolution(x,E_cal)[0]).T.describe()"
   ]
  },
  {
   "cell_type": "code",
   "execution_count": null,
   "id": "959d5c36-0499-4887-99e5-cf7d299788a7",
   "metadata": {
    "tags": []
   },
   "outputs": [],
   "source": [
    "spectra.applymap(lambda x: get_resolution(x,E_cal)[1]).T.describe()"
   ]
  },
  {
   "cell_type": "code",
   "execution_count": null,
   "id": "938f911a-fb26-45fa-ba2e-fdf8dd20c7e0",
   "metadata": {
    "tags": []
   },
   "outputs": [],
   "source": [
    "canvas = spectra.applymap(TH1D_draw)\n",
    "canvas.applymap(lambda x: type(x).__name__)"
   ]
  },
  {
   "cell_type": "code",
   "execution_count": null,
   "id": "7b33dc3a-1116-47dc-b8ac-a7e639266ec2",
   "metadata": {
    "tags": []
   },
   "outputs": [],
   "source": [
    "for col in canvas.columns:\n",
    "    for row in canvas.index:\n",
    "        canvas.loc[row,col].Draw()"
   ]
  },
  {
   "cell_type": "code",
   "execution_count": null,
   "id": "28d826de-468d-4408-a470-7996f6b74c04",
   "metadata": {},
   "outputs": [],
   "source": []
  }
 ],
 "metadata": {
  "kernelspec": {
   "display_name": "Python 3 (ipykernel)",
   "language": "python",
   "name": "python3"
  },
  "language_info": {
   "codemirror_mode": {
    "name": "ipython",
    "version": 3
   },
   "file_extension": ".py",
   "mimetype": "text/x-python",
   "name": "python",
   "nbconvert_exporter": "python",
   "pygments_lexer": "ipython3",
   "version": "3.10.9"
  }
 },
 "nbformat": 4,
 "nbformat_minor": 5
}
