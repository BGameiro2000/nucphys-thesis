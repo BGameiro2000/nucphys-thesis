{
 "cells": [
  {
   "cell_type": "code",
   "execution_count": 1,
   "id": "17f6fa13-8962-4f8c-81e5-1bac23eae574",
   "metadata": {
    "tags": []
   },
   "outputs": [
    {
     "name": "stdout",
     "output_type": "stream",
     "text": [
      "uproot              4.3.5\n",
      "Welcome to JupyROOT 6.26/10\n",
      "sklearn             1.2.0\n",
      "torch               1.13.1\n",
      "scipy               1.10.1\n",
      "numpy               1.24.2\n",
      "pandas              1.5.3\n",
      "modin               0.18.1\n",
      "uncertainties       3.1.7\n",
      "dexplot             0.1.4\n",
      "matplotlib          3.6.2\n",
      "tqdm                4.62.3\n"
     ]
    }
   ],
   "source": [
    "pkg_ver = lambda pkg: \"{:<20}{:}\".format(pkg.__name__,pkg.__version__)\n",
    "\n",
    "# ROOT\n",
    "import uproot\n",
    "print(pkg_ver(uproot))\n",
    "import ROOT\n",
    "\n",
    "# Machine Learning\n",
    "import sklearn\n",
    "print(pkg_ver(sklearn))\n",
    "import torch\n",
    "print(pkg_ver(torch))\n",
    "\n",
    "# Data science\n",
    "import scipy\n",
    "print(pkg_ver(scipy))\n",
    "import numpy\n",
    "print(pkg_ver(numpy))\n",
    "import pandas\n",
    "print(pkg_ver(pandas))\n",
    "import modin\n",
    "from modin import pandas as ppandas\n",
    "print(pkg_ver(modin))\n",
    "\n",
    "# Uncertainty support\n",
    "import uncertainties\n",
    "print(pkg_ver(uncertainties))\n",
    "\n",
    "# Visualizations\n",
    "import dexplot\n",
    "print(pkg_ver(dexplot))\n",
    "import matplotlib\n",
    "print(pkg_ver(matplotlib))\n",
    "plt = matplotlib.pyplot\n",
    "\n",
    "import tqdm\n",
    "print(pkg_ver(tqdm))"
   ]
  },
  {
   "cell_type": "code",
   "execution_count": 5,
   "id": "62418106-d1c6-4725-b5fe-1bded40c0b2f",
   "metadata": {
    "tags": []
   },
   "outputs": [],
   "source": [
    "iTEDA_8811 = uproot.open(\"../../data/2023-02-23/8811/CW100ns/Cs137-iTEDA-A2_D.2023_02_23_T.12_21_13_C.itedABCD_lab_2023.02.22_4.0v_8811_300s.root\")\n",
    "iTEDB_8811 = uproot.open(\"../../data/2023-02-23/8811/CW100ns/Cs137-iTEDB-A2_D.2023_02_23_T.12_29_30_C.itedABCD_lab_2023.02.22_4.0v_8811_300s.root\")\n",
    "iTEDC_8811 = uproot.open(\"../../data/2023-02-23/8811/CW100ns/Cs137-iTEDC-A1_D.2023_02_23_T.12_41_32_C.itedABCD_lab_2023.02.22_4.0v_8811_300s.root\")\n",
    "iTEDD_8811 = uproot.open(\"../../data/2023-02-23/8811/CW100ns/Cs137-iTEDD-A1_D.2023_02_23_T.12_48_46_C.itedABCD_lab_2023.02.22_4.0v_8811_300s.root\")\n",
    "\n",
    "iTEDA_888  = uproot.open(\"../../data/2023-02-23/888/CW100ns/Cs137-iTEDA-A2_D.2023_02_23_T.13_40_46_C.itedABCD_lab_2023.02.22_4.0v_888_300s.root\")\n",
    "iTEDB_888  = uproot.open(\"../../data/2023-02-23/888/CW100ns/Cs137-iTEDB-A2_D.2023_02_23_T.13_33_41_C.itedABCD_lab_2023.02.22_4.0v_888_300s.root\")\n",
    "iTEDC_888  = uproot.open(\"../../data/2023-02-23/888/CW100ns/Cs137-iTEDC-A1_D.2023_02_23_T.13_26_03_C.itedABCD_lab_2023.02.22_4.0v_888_300s.root\")\n",
    "iTEDD_888  = uproot.open(\"../../data/2023-02-23/888/CW100ns/Cs137-iTEDD-A1_D.2023_02_23_T.13_03_18_C.itedABCD_lab_2023.02.22_4.0v_888_300s.root\")"
   ]
  },
  {
   "cell_type": "code",
   "execution_count": 6,
   "id": "e3554fc8-3fea-4560-a845-daf029ababd2",
   "metadata": {},
   "outputs": [],
   "source": [
    "iTEDA_8811_S  = iTEDA_8811[\"SCATTERER_A_amplitude_spectra;1\" ]\n",
    "iTEDA_8811_A1 = iTEDA_8811[\"ABSORBER_A_1_amplitude_spectra;1\"]\n",
    "iTEDA_8811_A2 = iTEDA_8811[\"ABSORBER_A_2_amplitude_spectra;1\"]\n",
    "iTEDA_8811_A3 = iTEDA_8811[\"ABSORBER_A_3_amplitude_spectra;1\"]\n",
    "iTEDA_8811_A4 = iTEDA_8811[\"ABSORBER_A_4_amplitude_spectra;1\"]\n",
    "\n",
    "iTEDB_8811_S  = iTEDB_8811[\"SCATTERER_B_amplitude_spectra;1\" ]\n",
    "iTEDB_8811_A1 = iTEDB_8811[\"ABSORBER_B_1_amplitude_spectra;1\"]\n",
    "iTEDB_8811_A2 = iTEDB_8811[\"ABSORBER_B_2_amplitude_spectra;1\"]\n",
    "iTEDB_8811_A3 = iTEDB_8811[\"ABSORBER_B_3_amplitude_spectra;1\"]\n",
    "iTEDB_8811_A4 = iTEDB_8811[\"ABSORBER_B_4_amplitude_spectra;1\"]\n",
    "\n",
    "iTEDC_8811_S  = iTEDC_8811[\"SCATTERER_C_amplitude_spectra;1\" ]\n",
    "iTEDC_8811_A1 = iTEDC_8811[\"ABSORBER_C_1_amplitude_spectra;1\"]\n",
    "iTEDC_8811_A2 = iTEDC_8811[\"ABSORBER_C_2_amplitude_spectra;1\"]\n",
    "iTEDC_8811_A3 = iTEDC_8811[\"ABSORBER_C_3_amplitude_spectra;1\"]\n",
    "iTEDC_8811_A4 = iTEDC_8811[\"ABSORBER_C_4_amplitude_spectra;1\"]\n",
    "\n",
    "iTEDD_8811_S  = iTEDD_8811[\"SCATTERER_D_amplitude_spectra;1\" ]\n",
    "iTEDD_8811_A1 = iTEDD_8811[\"ABSORBER_D_1_amplitude_spectra;1\"]\n",
    "iTEDD_8811_A2 = iTEDD_8811[\"ABSORBER_D_2_amplitude_spectra;1\"]\n",
    "iTEDD_8811_A3 = iTEDD_8811[\"ABSORBER_D_3_amplitude_spectra;1\"]\n",
    "iTEDD_8811_A4 = iTEDD_8811[\"ABSORBER_D_4_amplitude_spectra;1\"]\n",
    "\n",
    "iTEDA_888_S   =  iTEDA_888[\"SCATTERER_A_amplitude_spectra;1\" ]\n",
    "iTEDA_888_A1  =  iTEDA_888[\"ABSORBER_A_1_amplitude_spectra;1\"]\n",
    "iTEDA_888_A2  =  iTEDA_888[\"ABSORBER_A_2_amplitude_spectra;1\"]\n",
    "iTEDA_888_A3  =  iTEDA_888[\"ABSORBER_A_3_amplitude_spectra;1\"]\n",
    "iTEDA_888_A4  =  iTEDA_888[\"ABSORBER_A_4_amplitude_spectra;1\"]\n",
    "\n",
    "iTEDB_888_S   =  iTEDB_888[\"SCATTERER_B_amplitude_spectra;1\" ]\n",
    "iTEDB_888_A1  =  iTEDB_888[\"ABSORBER_B_1_amplitude_spectra;1\"]\n",
    "iTEDB_888_A2  =  iTEDB_888[\"ABSORBER_B_2_amplitude_spectra;1\"]\n",
    "iTEDB_888_A3  =  iTEDB_888[\"ABSORBER_B_3_amplitude_spectra;1\"]\n",
    "iTEDB_888_A4  =  iTEDB_888[\"ABSORBER_B_4_amplitude_spectra;1\"]\n",
    "\n",
    "iTEDC_888_S   =  iTEDC_888[\"SCATTERER_C_amplitude_spectra;1\" ]\n",
    "iTEDC_888_A1  =  iTEDC_888[\"ABSORBER_C_1_amplitude_spectra;1\"]\n",
    "iTEDC_888_A2  =  iTEDC_888[\"ABSORBER_C_2_amplitude_spectra;1\"]\n",
    "iTEDC_888_A3  =  iTEDC_888[\"ABSORBER_C_3_amplitude_spectra;1\"]\n",
    "iTEDC_888_A4  =  iTEDC_888[\"ABSORBER_C_4_amplitude_spectra;1\"]\n",
    "\n",
    "iTEDD_888_S   =  iTEDD_888[\"SCATTERER_D_amplitude_spectra;1\" ]\n",
    "iTEDD_888_A1  =  iTEDD_888[\"ABSORBER_D_1_amplitude_spectra;1\"]\n",
    "iTEDD_888_A2  =  iTEDD_888[\"ABSORBER_D_2_amplitude_spectra;1\"]\n",
    "iTEDD_888_A3  =  iTEDD_888[\"ABSORBER_D_3_amplitude_spectra;1\"]\n",
    "iTEDD_888_A4  =  iTEDD_888[\"ABSORBER_D_4_amplitude_spectra;1\"]"
   ]
  },
  {
   "cell_type": "code",
   "execution_count": 22,
   "id": "f7c36d3f-6a39-45ff-8b17-ae867d421fef",
   "metadata": {
    "tags": []
   },
   "outputs": [
    {
     "name": "stdout",
     "output_type": "stream",
     "text": [
      "(array([0., 0., 0., ..., 0., 0., 0.]), array([0.000e+00, 1.000e+00, 2.000e+00, ..., 1.998e+03, 1.999e+03,\n",
      "       2.000e+03]))\n",
      "{'peak_heights': array([2050.,  463.]), 'prominences': array([2050.,  426.]), 'left_bases': array([  3, 204]), 'right_bases': array([556, 556])}\n"
     ]
    },
    {
     "data": {
      "image/png": "[encoded data removed]",
      "text/plain": [
       "<Figure size 640x480 with 1 Axes>"
      ]
     },
     "metadata": {},
     "output_type": "display_data"
    }
   ],
   "source": [
    "iTEDA_8811_S_hist = iTEDA_8811_S.to_numpy()\n",
    "print(iTEDA_8811_S_hist)\n",
    "plt.stairs(*iTEDA_8811_S_hist)\n",
    "peaks, _ = scipy.signal.find_peaks(iTEDA_8811_S_hist[0], height=300, prominence=100)\n",
    "print(_)\n",
    "plt.plot(iTEDA_8811_S_hist[1][peaks], iTEDA_8811_S_hist[0][peaks], \"x\")\n",
    "plt.show()"
   ]
  },
  {
   "cell_type": "code",
   "execution_count": null,
   "id": "c4d2e930-b213-44b5-be3a-6f548a807efc",
   "metadata": {},
   "outputs": [],
   "source": []
  }
 ],
 "metadata": {
  "kernelspec": {
   "display_name": "Python 3 (ipykernel)",
   "language": "python",
   "name": "python3"
  },
  "language_info": {
   "codemirror_mode": {
    "name": "ipython",
    "version": 3
   },
   "file_extension": ".py",
   "mimetype": "text/x-python",
   "name": "python",
   "nbconvert_exporter": "python",
   "pygments_lexer": "ipython3",
   "version": "3.10.9"
  }
 },
 "nbformat": 4,
 "nbformat_minor": 5
}
