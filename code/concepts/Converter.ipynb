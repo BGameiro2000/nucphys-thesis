{
 "cells": [
  {
   "cell_type": "code",
   "execution_count": 1,
   "id": "0182fbb3-49f0-439b-a967-e05f1131e3d2",
   "metadata": {
    "tags": []
   },
   "outputs": [
    {
     "name": "stderr",
     "output_type": "stream",
     "text": [
      "telnet: Unable to connect to remote host: No route to host\n"
     ]
    },
    {
     "name": "stdout",
     "output_type": "stream",
     "text": [
      "Trying 192.168.1.90...\n"
     ]
    },
    {
     "data": {
      "text/html": [
       "<pre style=\"white-space:pre;overflow-x:auto;line-height:normal;font-family:Menlo,'DejaVu Sans Mono',consolas,'Courier New',monospace\">23:15:52.854 | <span style=\"color: #008080; text-decoration-color: #008080\">INFO</span>    | distributed.scheduler - State start\n",
       "</pre>\n"
      ],
      "text/plain": [
       "23:15:52.854 | \u001b[36mINFO\u001b[0m    | distributed.scheduler - State start\n"
      ]
     },
     "metadata": {},
     "output_type": "display_data"
    },
    {
     "data": {
      "text/html": [
       "<pre style=\"white-space:pre;overflow-x:auto;line-height:normal;font-family:Menlo,'DejaVu Sans Mono',consolas,'Courier New',monospace\">23:15:52.864 | <span style=\"color: #008080; text-decoration-color: #008080\">INFO</span>    | distributed.scheduler -   Scheduler at:     tcp://127.0.0.1:39839\n",
       "</pre>\n"
      ],
      "text/plain": [
       "23:15:52.864 | \u001b[36mINFO\u001b[0m    | distributed.scheduler -   Scheduler at:     tcp://127.0.0.1:39839\n"
      ]
     },
     "metadata": {},
     "output_type": "display_data"
    },
    {
     "data": {
      "text/html": [
       "<pre style=\"white-space:pre;overflow-x:auto;line-height:normal;font-family:Menlo,'DejaVu Sans Mono',consolas,'Courier New',monospace\">23:15:52.866 | <span style=\"color: #008080; text-decoration-color: #008080\">INFO</span>    | distributed.scheduler -   dashboard at:            127.0.0.1:8787\n",
       "</pre>\n"
      ],
      "text/plain": [
       "23:15:52.866 | \u001b[36mINFO\u001b[0m    | distributed.scheduler -   dashboard at:            127.0.0.1:8787\n"
      ]
     },
     "metadata": {},
     "output_type": "display_data"
    },
    {
     "data": {
      "text/html": [
       "<pre style=\"white-space:pre;overflow-x:auto;line-height:normal;font-family:Menlo,'DejaVu Sans Mono',consolas,'Courier New',monospace\">23:15:52.890 | <span style=\"color: #008080; text-decoration-color: #008080\">INFO</span>    | distributed.nanny -         Start Nanny at: 'tcp://127.0.0.1:44145'\n",
       "</pre>\n"
      ],
      "text/plain": [
       "23:15:52.890 | \u001b[36mINFO\u001b[0m    | distributed.nanny -         Start Nanny at: 'tcp://127.0.0.1:44145'\n"
      ]
     },
     "metadata": {},
     "output_type": "display_data"
    },
    {
     "data": {
      "text/html": [
       "<pre style=\"white-space:pre;overflow-x:auto;line-height:normal;font-family:Menlo,'DejaVu Sans Mono',consolas,'Courier New',monospace\">23:15:52.895 | <span style=\"color: #008080; text-decoration-color: #008080\">INFO</span>    | distributed.nanny -         Start Nanny at: 'tcp://127.0.0.1:36223'\n",
       "</pre>\n"
      ],
      "text/plain": [
       "23:15:52.895 | \u001b[36mINFO\u001b[0m    | distributed.nanny -         Start Nanny at: 'tcp://127.0.0.1:36223'\n"
      ]
     },
     "metadata": {},
     "output_type": "display_data"
    },
    {
     "data": {
      "text/html": [
       "<pre style=\"white-space:pre;overflow-x:auto;line-height:normal;font-family:Menlo,'DejaVu Sans Mono',consolas,'Courier New',monospace\">23:15:52.898 | <span style=\"color: #008080; text-decoration-color: #008080\">INFO</span>    | distributed.nanny -         Start Nanny at: 'tcp://127.0.0.1:33441'\n",
       "</pre>\n"
      ],
      "text/plain": [
       "23:15:52.898 | \u001b[36mINFO\u001b[0m    | distributed.nanny -         Start Nanny at: 'tcp://127.0.0.1:33441'\n"
      ]
     },
     "metadata": {},
     "output_type": "display_data"
    },
    {
     "data": {
      "text/html": [
       "<pre style=\"white-space:pre;overflow-x:auto;line-height:normal;font-family:Menlo,'DejaVu Sans Mono',consolas,'Courier New',monospace\">23:15:52.904 | <span style=\"color: #008080; text-decoration-color: #008080\">INFO</span>    | distributed.nanny -         Start Nanny at: 'tcp://127.0.0.1:37829'\n",
       "</pre>\n"
      ],
      "text/plain": [
       "23:15:52.904 | \u001b[36mINFO\u001b[0m    | distributed.nanny -         Start Nanny at: 'tcp://127.0.0.1:37829'\n"
      ]
     },
     "metadata": {},
     "output_type": "display_data"
    },
    {
     "data": {
      "text/html": [
       "<pre style=\"white-space:pre;overflow-x:auto;line-height:normal;font-family:Menlo,'DejaVu Sans Mono',consolas,'Courier New',monospace\">23:15:52.909 | <span style=\"color: #008080; text-decoration-color: #008080\">INFO</span>    | distributed.nanny -         Start Nanny at: 'tcp://127.0.0.1:40379'\n",
       "</pre>\n"
      ],
      "text/plain": [
       "23:15:52.909 | \u001b[36mINFO\u001b[0m    | distributed.nanny -         Start Nanny at: 'tcp://127.0.0.1:40379'\n"
      ]
     },
     "metadata": {},
     "output_type": "display_data"
    },
    {
     "data": {
      "text/html": [
       "<pre style=\"white-space:pre;overflow-x:auto;line-height:normal;font-family:Menlo,'DejaVu Sans Mono',consolas,'Courier New',monospace\">23:15:52.969 | <span style=\"color: #008080; text-decoration-color: #008080\">INFO</span>    | distributed.nanny -         Start Nanny at: 'tcp://127.0.0.1:41849'\n",
       "</pre>\n"
      ],
      "text/plain": [
       "23:15:52.969 | \u001b[36mINFO\u001b[0m    | distributed.nanny -         Start Nanny at: 'tcp://127.0.0.1:41849'\n"
      ]
     },
     "metadata": {},
     "output_type": "display_data"
    },
    {
     "data": {
      "text/html": [
       "<pre style=\"white-space:pre;overflow-x:auto;line-height:normal;font-family:Menlo,'DejaVu Sans Mono',consolas,'Courier New',monospace\">23:15:52.975 | <span style=\"color: #008080; text-decoration-color: #008080\">INFO</span>    | distributed.nanny -         Start Nanny at: 'tcp://127.0.0.1:38523'\n",
       "</pre>\n"
      ],
      "text/plain": [
       "23:15:52.975 | \u001b[36mINFO\u001b[0m    | distributed.nanny -         Start Nanny at: 'tcp://127.0.0.1:38523'\n"
      ]
     },
     "metadata": {},
     "output_type": "display_data"
    },
    {
     "name": "stderr",
     "output_type": "stream",
     "text": [
      "2023-04-23 23:15:53,295 - distributed.diskutils - INFO - Found stale lock file and directory '/tmp/dask-worker-space/worker-mb2wrvpn', purging\n"
     ]
    },
    {
     "data": {
      "text/html": [
       "<pre style=\"white-space:pre;overflow-x:auto;line-height:normal;font-family:Menlo,'DejaVu Sans Mono',consolas,'Courier New',monospace\">23:15:53.588 | <span style=\"color: #008080; text-decoration-color: #008080\">INFO</span>    | distributed.scheduler - Register worker &lt;WorkerState 'tcp://127.0.0.1:32971', name: 1, status: init, memory: 0, processing: 0&gt;\n",
       "</pre>\n"
      ],
      "text/plain": [
       "23:15:53.588 | \u001b[36mINFO\u001b[0m    | distributed.scheduler - Register worker <WorkerState 'tcp://127.0.0.1:32971', name: 1, status: init, memory: 0, processing: 0>\n"
      ]
     },
     "metadata": {},
     "output_type": "display_data"
    },
    {
     "data": {
      "text/html": [
       "<pre style=\"white-space:pre;overflow-x:auto;line-height:normal;font-family:Menlo,'DejaVu Sans Mono',consolas,'Courier New',monospace\">23:15:53.592 | <span style=\"color: #008080; text-decoration-color: #008080\">INFO</span>    | distributed.scheduler - Starting worker compute stream, tcp://127.0.0.1:32971\n",
       "</pre>\n"
      ],
      "text/plain": [
       "23:15:53.592 | \u001b[36mINFO\u001b[0m    | distributed.scheduler - Starting worker compute stream, tcp://127.0.0.1:32971\n"
      ]
     },
     "metadata": {},
     "output_type": "display_data"
    },
    {
     "data": {
      "text/html": [
       "<pre style=\"white-space:pre;overflow-x:auto;line-height:normal;font-family:Menlo,'DejaVu Sans Mono',consolas,'Courier New',monospace\">23:15:53.594 | <span style=\"color: #008080; text-decoration-color: #008080\">INFO</span>    | distributed.core - Starting established connection to tcp://127.0.0.1:54082\n",
       "</pre>\n"
      ],
      "text/plain": [
       "23:15:53.594 | \u001b[36mINFO\u001b[0m    | distributed.core - Starting established connection to tcp://127.0.0.1:54082\n"
      ]
     },
     "metadata": {},
     "output_type": "display_data"
    },
    {
     "data": {
      "text/html": [
       "<pre style=\"white-space:pre;overflow-x:auto;line-height:normal;font-family:Menlo,'DejaVu Sans Mono',consolas,'Courier New',monospace\">23:15:53.597 | <span style=\"color: #008080; text-decoration-color: #008080\">INFO</span>    | distributed.scheduler - Register worker &lt;WorkerState 'tcp://127.0.0.1:44407', name: 0, status: init, memory: 0, processing: 0&gt;\n",
       "</pre>\n"
      ],
      "text/plain": [
       "23:15:53.597 | \u001b[36mINFO\u001b[0m    | distributed.scheduler - Register worker <WorkerState 'tcp://127.0.0.1:44407', name: 0, status: init, memory: 0, processing: 0>\n"
      ]
     },
     "metadata": {},
     "output_type": "display_data"
    },
    {
     "data": {
      "text/html": [
       "<pre style=\"white-space:pre;overflow-x:auto;line-height:normal;font-family:Menlo,'DejaVu Sans Mono',consolas,'Courier New',monospace\">23:15:53.599 | <span style=\"color: #008080; text-decoration-color: #008080\">INFO</span>    | distributed.scheduler - Starting worker compute stream, tcp://127.0.0.1:44407\n",
       "</pre>\n"
      ],
      "text/plain": [
       "23:15:53.599 | \u001b[36mINFO\u001b[0m    | distributed.scheduler - Starting worker compute stream, tcp://127.0.0.1:44407\n"
      ]
     },
     "metadata": {},
     "output_type": "display_data"
    },
    {
     "data": {
      "text/html": [
       "<pre style=\"white-space:pre;overflow-x:auto;line-height:normal;font-family:Menlo,'DejaVu Sans Mono',consolas,'Courier New',monospace\">23:15:53.601 | <span style=\"color: #008080; text-decoration-color: #008080\">INFO</span>    | distributed.core - Starting established connection to tcp://127.0.0.1:54094\n",
       "</pre>\n"
      ],
      "text/plain": [
       "23:15:53.601 | \u001b[36mINFO\u001b[0m    | distributed.core - Starting established connection to tcp://127.0.0.1:54094\n"
      ]
     },
     "metadata": {},
     "output_type": "display_data"
    },
    {
     "data": {
      "text/html": [
       "<pre style=\"white-space:pre;overflow-x:auto;line-height:normal;font-family:Menlo,'DejaVu Sans Mono',consolas,'Courier New',monospace\">23:15:53.669 | <span style=\"color: #008080; text-decoration-color: #008080\">INFO</span>    | distributed.scheduler - Register worker &lt;WorkerState 'tcp://127.0.0.1:42491', name: 2, status: init, memory: 0, processing: 0&gt;\n",
       "</pre>\n"
      ],
      "text/plain": [
       "23:15:53.669 | \u001b[36mINFO\u001b[0m    | distributed.scheduler - Register worker <WorkerState 'tcp://127.0.0.1:42491', name: 2, status: init, memory: 0, processing: 0>\n"
      ]
     },
     "metadata": {},
     "output_type": "display_data"
    },
    {
     "data": {
      "text/html": [
       "<pre style=\"white-space:pre;overflow-x:auto;line-height:normal;font-family:Menlo,'DejaVu Sans Mono',consolas,'Courier New',monospace\">23:15:53.671 | <span style=\"color: #008080; text-decoration-color: #008080\">INFO</span>    | distributed.scheduler - Starting worker compute stream, tcp://127.0.0.1:42491\n",
       "</pre>\n"
      ],
      "text/plain": [
       "23:15:53.671 | \u001b[36mINFO\u001b[0m    | distributed.scheduler - Starting worker compute stream, tcp://127.0.0.1:42491\n"
      ]
     },
     "metadata": {},
     "output_type": "display_data"
    },
    {
     "data": {
      "text/html": [
       "<pre style=\"white-space:pre;overflow-x:auto;line-height:normal;font-family:Menlo,'DejaVu Sans Mono',consolas,'Courier New',monospace\">23:15:53.673 | <span style=\"color: #008080; text-decoration-color: #008080\">INFO</span>    | distributed.core - Starting established connection to tcp://127.0.0.1:54100\n",
       "</pre>\n"
      ],
      "text/plain": [
       "23:15:53.673 | \u001b[36mINFO\u001b[0m    | distributed.core - Starting established connection to tcp://127.0.0.1:54100\n"
      ]
     },
     "metadata": {},
     "output_type": "display_data"
    },
    {
     "data": {
      "text/html": [
       "<pre style=\"white-space:pre;overflow-x:auto;line-height:normal;font-family:Menlo,'DejaVu Sans Mono',consolas,'Courier New',monospace\">23:15:53.677 | <span style=\"color: #008080; text-decoration-color: #008080\">INFO</span>    | distributed.scheduler - Register worker &lt;WorkerState 'tcp://127.0.0.1:44939', name: 3, status: init, memory: 0, processing: 0&gt;\n",
       "</pre>\n"
      ],
      "text/plain": [
       "23:15:53.677 | \u001b[36mINFO\u001b[0m    | distributed.scheduler - Register worker <WorkerState 'tcp://127.0.0.1:44939', name: 3, status: init, memory: 0, processing: 0>\n"
      ]
     },
     "metadata": {},
     "output_type": "display_data"
    },
    {
     "data": {
      "text/html": [
       "<pre style=\"white-space:pre;overflow-x:auto;line-height:normal;font-family:Menlo,'DejaVu Sans Mono',consolas,'Courier New',monospace\">23:15:53.679 | <span style=\"color: #008080; text-decoration-color: #008080\">INFO</span>    | distributed.scheduler - Starting worker compute stream, tcp://127.0.0.1:44939\n",
       "</pre>\n"
      ],
      "text/plain": [
       "23:15:53.679 | \u001b[36mINFO\u001b[0m    | distributed.scheduler - Starting worker compute stream, tcp://127.0.0.1:44939\n"
      ]
     },
     "metadata": {},
     "output_type": "display_data"
    },
    {
     "data": {
      "text/html": [
       "<pre style=\"white-space:pre;overflow-x:auto;line-height:normal;font-family:Menlo,'DejaVu Sans Mono',consolas,'Courier New',monospace\">23:15:53.680 | <span style=\"color: #008080; text-decoration-color: #008080\">INFO</span>    | distributed.core - Starting established connection to tcp://127.0.0.1:54106\n",
       "</pre>\n"
      ],
      "text/plain": [
       "23:15:53.680 | \u001b[36mINFO\u001b[0m    | distributed.core - Starting established connection to tcp://127.0.0.1:54106\n"
      ]
     },
     "metadata": {},
     "output_type": "display_data"
    },
    {
     "data": {
      "text/html": [
       "<pre style=\"white-space:pre;overflow-x:auto;line-height:normal;font-family:Menlo,'DejaVu Sans Mono',consolas,'Courier New',monospace\">23:15:53.691 | <span style=\"color: #008080; text-decoration-color: #008080\">INFO</span>    | distributed.scheduler - Register worker &lt;WorkerState 'tcp://127.0.0.1:44349', name: 6, status: init, memory: 0, processing: 0&gt;\n",
       "</pre>\n"
      ],
      "text/plain": [
       "23:15:53.691 | \u001b[36mINFO\u001b[0m    | distributed.scheduler - Register worker <WorkerState 'tcp://127.0.0.1:44349', name: 6, status: init, memory: 0, processing: 0>\n"
      ]
     },
     "metadata": {},
     "output_type": "display_data"
    },
    {
     "data": {
      "text/html": [
       "<pre style=\"white-space:pre;overflow-x:auto;line-height:normal;font-family:Menlo,'DejaVu Sans Mono',consolas,'Courier New',monospace\">23:15:53.693 | <span style=\"color: #008080; text-decoration-color: #008080\">INFO</span>    | distributed.scheduler - Starting worker compute stream, tcp://127.0.0.1:44349\n",
       "</pre>\n"
      ],
      "text/plain": [
       "23:15:53.693 | \u001b[36mINFO\u001b[0m    | distributed.scheduler - Starting worker compute stream, tcp://127.0.0.1:44349\n"
      ]
     },
     "metadata": {},
     "output_type": "display_data"
    },
    {
     "data": {
      "text/html": [
       "<pre style=\"white-space:pre;overflow-x:auto;line-height:normal;font-family:Menlo,'DejaVu Sans Mono',consolas,'Courier New',monospace\">23:15:53.694 | <span style=\"color: #008080; text-decoration-color: #008080\">INFO</span>    | distributed.core - Starting established connection to tcp://127.0.0.1:54118\n",
       "</pre>\n"
      ],
      "text/plain": [
       "23:15:53.694 | \u001b[36mINFO\u001b[0m    | distributed.core - Starting established connection to tcp://127.0.0.1:54118\n"
      ]
     },
     "metadata": {},
     "output_type": "display_data"
    },
    {
     "data": {
      "text/html": [
       "<pre style=\"white-space:pre;overflow-x:auto;line-height:normal;font-family:Menlo,'DejaVu Sans Mono',consolas,'Courier New',monospace\">23:15:53.696 | <span style=\"color: #008080; text-decoration-color: #008080\">INFO</span>    | distributed.scheduler - Register worker &lt;WorkerState 'tcp://127.0.0.1:44253', name: 4, status: init, memory: 0, processing: 0&gt;\n",
       "</pre>\n"
      ],
      "text/plain": [
       "23:15:53.696 | \u001b[36mINFO\u001b[0m    | distributed.scheduler - Register worker <WorkerState 'tcp://127.0.0.1:44253', name: 4, status: init, memory: 0, processing: 0>\n"
      ]
     },
     "metadata": {},
     "output_type": "display_data"
    },
    {
     "data": {
      "text/html": [
       "<pre style=\"white-space:pre;overflow-x:auto;line-height:normal;font-family:Menlo,'DejaVu Sans Mono',consolas,'Courier New',monospace\">23:15:53.697 | <span style=\"color: #008080; text-decoration-color: #008080\">INFO</span>    | distributed.scheduler - Starting worker compute stream, tcp://127.0.0.1:44253\n",
       "</pre>\n"
      ],
      "text/plain": [
       "23:15:53.697 | \u001b[36mINFO\u001b[0m    | distributed.scheduler - Starting worker compute stream, tcp://127.0.0.1:44253\n"
      ]
     },
     "metadata": {},
     "output_type": "display_data"
    },
    {
     "data": {
      "text/html": [
       "<pre style=\"white-space:pre;overflow-x:auto;line-height:normal;font-family:Menlo,'DejaVu Sans Mono',consolas,'Courier New',monospace\">23:15:53.698 | <span style=\"color: #008080; text-decoration-color: #008080\">INFO</span>    | distributed.core - Starting established connection to tcp://127.0.0.1:54124\n",
       "</pre>\n"
      ],
      "text/plain": [
       "23:15:53.698 | \u001b[36mINFO\u001b[0m    | distributed.core - Starting established connection to tcp://127.0.0.1:54124\n"
      ]
     },
     "metadata": {},
     "output_type": "display_data"
    },
    {
     "data": {
      "text/html": [
       "<pre style=\"white-space:pre;overflow-x:auto;line-height:normal;font-family:Menlo,'DejaVu Sans Mono',consolas,'Courier New',monospace\">23:15:53.708 | <span style=\"color: #008080; text-decoration-color: #008080\">INFO</span>    | distributed.scheduler - Register worker &lt;WorkerState 'tcp://127.0.0.1:40407', name: 5, status: init, memory: 0, processing: 0&gt;\n",
       "</pre>\n"
      ],
      "text/plain": [
       "23:15:53.708 | \u001b[36mINFO\u001b[0m    | distributed.scheduler - Register worker <WorkerState 'tcp://127.0.0.1:40407', name: 5, status: init, memory: 0, processing: 0>\n"
      ]
     },
     "metadata": {},
     "output_type": "display_data"
    },
    {
     "data": {
      "text/html": [
       "<pre style=\"white-space:pre;overflow-x:auto;line-height:normal;font-family:Menlo,'DejaVu Sans Mono',consolas,'Courier New',monospace\">23:15:53.710 | <span style=\"color: #008080; text-decoration-color: #008080\">INFO</span>    | distributed.scheduler - Starting worker compute stream, tcp://127.0.0.1:40407\n",
       "</pre>\n"
      ],
      "text/plain": [
       "23:15:53.710 | \u001b[36mINFO\u001b[0m    | distributed.scheduler - Starting worker compute stream, tcp://127.0.0.1:40407\n"
      ]
     },
     "metadata": {},
     "output_type": "display_data"
    },
    {
     "data": {
      "text/html": [
       "<pre style=\"white-space:pre;overflow-x:auto;line-height:normal;font-family:Menlo,'DejaVu Sans Mono',consolas,'Courier New',monospace\">23:15:53.711 | <span style=\"color: #008080; text-decoration-color: #008080\">INFO</span>    | distributed.core - Starting established connection to tcp://127.0.0.1:54138\n",
       "</pre>\n"
      ],
      "text/plain": [
       "23:15:53.711 | \u001b[36mINFO\u001b[0m    | distributed.core - Starting established connection to tcp://127.0.0.1:54138\n"
      ]
     },
     "metadata": {},
     "output_type": "display_data"
    },
    {
     "data": {
      "text/html": [
       "<pre style=\"white-space:pre;overflow-x:auto;line-height:normal;font-family:Menlo,'DejaVu Sans Mono',consolas,'Courier New',monospace\">23:15:53.761 | <span style=\"color: #008080; text-decoration-color: #008080\">INFO</span>    | distributed.scheduler - Receive client connection: Client-07279a40-e21c-11ed-9dad-525400942f32\n",
       "</pre>\n"
      ],
      "text/plain": [
       "23:15:53.761 | \u001b[36mINFO\u001b[0m    | distributed.scheduler - Receive client connection: Client-07279a40-e21c-11ed-9dad-525400942f32\n"
      ]
     },
     "metadata": {},
     "output_type": "display_data"
    },
    {
     "data": {
      "text/html": [
       "<pre style=\"white-space:pre;overflow-x:auto;line-height:normal;font-family:Menlo,'DejaVu Sans Mono',consolas,'Courier New',monospace\">23:15:53.763 | <span style=\"color: #008080; text-decoration-color: #008080\">INFO</span>    | distributed.core - Starting established connection to tcp://127.0.0.1:54142\n",
       "</pre>\n"
      ],
      "text/plain": [
       "23:15:53.763 | \u001b[36mINFO\u001b[0m    | distributed.core - Starting established connection to tcp://127.0.0.1:54142\n"
      ]
     },
     "metadata": {},
     "output_type": "display_data"
    }
   ],
   "source": [
    "import pandas, numpy, dask, bokeh, numba, scipy\n",
    "from prefect import flow, task\n",
    "import dask.dataframe as dd\n",
    "from dask.distributed import Client\n",
    "\n",
    "import os, struct\n",
    "\n",
    "server,port = \"192.168.1.90\",\"8786\"\n",
    "\n",
    "client = Client(n_workers=7,processes=True,threads_per_worker=2) if os.system(f\"telnet {server} {port}\") else Client(f\"tcp://{server}:{port}\") "
   ]
  },
  {
   "cell_type": "code",
   "execution_count": 2,
   "id": "408e93cd-c07e-4cfb-9dc3-caabcd89d662",
   "metadata": {},
   "outputs": [],
   "source": [
    "file = \"../../data/Multi_iTED_characterization/test_D.2023_03_31_T.16_26_55_C.itedABCD_lab_custom_2023.02.22_4.0v_887_5s.singles.ldat\""
   ]
  },
  {
   "cell_type": "code",
   "execution_count": 3,
   "id": "86874f00-e9d1-4cfa-aa87-a0501b32cf3d",
   "metadata": {},
   "outputs": [],
   "source": [
    "deconvolution_dict = {\n",
    "    0:{\n",
    "        \"iTED\": 1,\n",
    "        \"Crystal\": 0,\n",
    "        \"Offset\": 0\n",
    "    },\n",
    "    1:{\n",
    "        \"iTED\": 1,\n",
    "        \"Crystal\": 1,\n",
    "        \"Offset\": 128\n",
    "    },\n",
    "    2:{\n",
    "        \"iTED\": 1,\n",
    "        \"Crystal\": 2,\n",
    "        \"Offset\": 256\n",
    "    },\n",
    "    3:{\n",
    "        \"iTED\": 1,\n",
    "        \"Crystal\": 3,\n",
    "        \"Offset\": 384\n",
    "    },\n",
    "    4:{\n",
    "        \"iTED\": 1,\n",
    "        \"Crystal\": 4,\n",
    "        \"Offset\": 512\n",
    "    },\n",
    "    5:{\n",
    "        \"iTED\": 2,\n",
    "        \"Crystal\": 0,\n",
    "        \"Offset\": 640\n",
    "    },\n",
    "    6:{\n",
    "        \"iTED\": 2,\n",
    "        \"Crystal\": 1,\n",
    "        \"Offset\": 768\n",
    "    },\n",
    "    7:{\n",
    "        \"iTED\": 2,\n",
    "        \"Crystal\": 2,\n",
    "        \"Offset\": 896\n",
    "    },\n",
    "    8:{\n",
    "        \"iTED\": 3,\n",
    "        \"Crystal\": 0,\n",
    "        \"Offset\": 131072\n",
    "    },\n",
    "    10:{\n",
    "        \"iTED\": 3,\n",
    "        \"Crystal\": 1,\n",
    "        \"Offset\": 131328\n",
    "    },\n",
    "    11:{\n",
    "        \"iTED\": 3,\n",
    "        \"Crystal\": 2,\n",
    "        \"Offset\": 131456\n",
    "    },\n",
    "    12:{\n",
    "        \"iTED\": 3,\n",
    "        \"Crystal\": 3,\n",
    "        \"Offset\": 131584\n",
    "    },\n",
    "    13:{\n",
    "        \"iTED\": 3,\n",
    "        \"Crystal\": 4,\n",
    "        \"Offset\": 131712\n",
    "    },\n",
    "    14:{\n",
    "        \"iTED\": 2,\n",
    "        \"Crystal\": 3,\n",
    "        \"Offset\": 131840\n",
    "    },\n",
    "    15:{\n",
    "        \"iTED\": 2,\n",
    "        \"Crystal\": 4,\n",
    "        \"Offset\": 131968\n",
    "    },\n",
    "    16:{\n",
    "        \"iTED\": 4,\n",
    "        \"Crystal\": 0,\n",
    "        \"Offset\": 262144\n",
    "    },\n",
    "    18:{\n",
    "        \"iTED\": 4,\n",
    "        \"Crystal\": 1,\n",
    "        \"Offset\": 262400\n",
    "    },\n",
    "    19:{\n",
    "        \"iTED\": 4,\n",
    "        \"Crystal\": 2,\n",
    "        \"Offset\": 262528\n",
    "    },\n",
    "    20:{\n",
    "        \"iTED\": 4,\n",
    "        \"Crystal\": 3,\n",
    "        \"Offset\": 262656\n",
    "    },\n",
    "    21:{\n",
    "        \"iTED\": 4,\n",
    "        \"Crystal\": 4,\n",
    "        \"Offset\": 262784\n",
    "    }\n",
    "}\n",
    "\n",
    "deconvolution_df = pandas.DataFrame(deconvolution_dict).T"
   ]
  },
  {
   "cell_type": "code",
   "execution_count": 4,
   "id": "eacdf1a2-a72b-4426-8924-045bb3500535",
   "metadata": {},
   "outputs": [],
   "source": [
    "@dask.delayed\n",
    "def get_entry_from_binary(file_name, chunk_size=8+4+4):\n",
    "    with open(file_name, \"rb\") as f: \n",
    "        while (entry := f.read(chunk_size)):\n",
    "            yield dict(zip((\"time\",\"energy\",\"id\"), struct.unpack(\"qfi\", entry)))\n",
    "\n",
    "def identification(record):\n",
    "    deconvolute = lambda x: deconvolution_dict[(x % (131072 * 2) + 2048) // 128 if x >= 131072 * 2 else (x % 131072 + 1024) // 128 if x >= 131072 else x // 128]\n",
    "    \n",
    "    ited, crystal, offset = deconvolute(record['id']).values()\n",
    "    \n",
    "    return {\n",
    "        'time': record['time'], # in ps\n",
    "        'energy': record['energy'],\n",
    "        'iTED': ited,\n",
    "        'crystal': crystal,\n",
    "        'pixel': record['id']-offset,\n",
    "    }\n",
    "\n",
    "thresholds = lambda current_group, threshold_energy, threshold_events: current_group.energy.sum() >= threshold_energy and len(current_group) >= threshold_events\n",
    "\n",
    "@dask.delayed\n",
    "def get_groups(df, interval, thresholds,threshold_energy,threshold_events):\n",
    "        \n",
    "    start_time = df['time'].min()\n",
    "    end_time = start_time + interval\n",
    "    \n",
    "    current_group = pandas.DataFrame(\n",
    "        columns=[\"time\",\"energy\",\"iTED\",\"crystal\",\"pixel\"]\n",
    "    ).astype(dtype={\"time\": \"int64\", \"energy\": \"float32\", \"iTED\": \"int8\", \"crystal\": \"int8\", \"pixel\": \"int8\"})\n",
    "    \n",
    "    for _, row in df.iterrows():\n",
    "        \n",
    "        if row['time'] > end_time:\n",
    "            if thresholds(current_group,threshold_energy,threshold_events):\n",
    "                yield current_group\n",
    "                \n",
    "            current_group = pandas.DataFrame(\n",
    "                columns=[\"time\",\"energy\",\"iTED\",\"crystal\",\"pixel\"]\n",
    "            ).astype(dtype={\"time\": \"int64\", \"energy\": \"float32\", \"iTED\": \"int8\", \"crystal\": \"int8\", \"pixel\": \"int8\"})\n",
    "            \n",
    "            start_time = row['time']\n",
    "            end_time = start_time + interval\n",
    "        \n",
    "        current_group.loc[len(current_group)] = row\n",
    "    \n",
    "    if thresholds(current_group,threshold_energy,threshold_events):\n",
    "        yield current_group\n",
    "\n",
    "def group_by_crystal(df):\n",
    "    return df.groupby([\"iTED\",\"crystal\"])\n",
    "\n",
    "def branches(event):\n",
    "    \n",
    "    return {\n",
    "        \"time_first_event\": event.iloc[0].time.round(0), #int64\n",
    "        \"timestamp\": event.iloc[:9].time.mean().round(0), #int64\n",
    "        \"energy\": event.energy.sum(), #float32\n",
    "        \"iTED\": event.iloc[0].iTED, #int8\n",
    "        \"crystal\": event.iloc[0].crystal #int8\n",
    "    }"
   ]
  },
  {
   "cell_type": "code",
   "execution_count": 6,
   "id": "1dadb872-d9f2-4f69-96d8-8b2e7a1ab929",
   "metadata": {},
   "outputs": [],
   "source": [
    "def get_interactions(file_name):\n",
    "    \n",
    "    entries_bag = dask.bag.from_delayed(get_entry_from_binary(file_name))\n",
    "\n",
    "    entires_df  = entries_bag.map(identification).to_dataframe(\n",
    "        meta={\"time\": \"int64\", \"energy\": \"float32\", \"iTED\": \"int8\", \"crystal\": \"int8\", \"pixel\": \"int8\"},\n",
    "        optimize_graph=True\n",
    "    )\n",
    "\n",
    "    events_series = group_by_crystal(entires_df)\n",
    "\n",
    "    events_bag = dask.bag.from_delayed(\n",
    "        events_series.apply(lambda x : get_groups(x, 100_000, thresholds,10,1), meta=('x', 'object'))\n",
    "    )\n",
    "        \n",
    "    events_df = events_bag.map(branches).to_dataframe(\n",
    "        meta={\"time_first_event\": \"int64\", \"timestamp\": \"int64\", \"iTED\": \"int8\", \"crystal\": \"int8\", \"energy\": \"float32\"},\n",
    "        optimize_graph=True\n",
    "    )\n",
    "    \n",
    "    return events_df.compute()"
   ]
  },
  {
   "cell_type": "code",
   "execution_count": 7,
   "id": "ed33cfc0-4c8c-4577-9d0f-5cdf782e984f",
   "metadata": {
    "tags": []
   },
   "outputs": [
    {
     "name": "stderr",
     "output_type": "stream",
     "text": [
      "2023-04-23 23:40:44,941 - tornado.application - ERROR - Exception in callback functools.partial(<bound method IOLoop._discard_future_result of <tornado.platform.asyncio.AsyncIOLoop object at 0x7f7a22138f40>>, <Task finished name='Task-717801' coro=<Hardware.__init__.<locals>.f() done, defined at /usr/lib/python3.10/site-packages/distributed/dashboard/components/scheduler.py:848> exception=CommClosedError('in <TCP (closed) ConnectionPool.benchmark_network local=tcp://127.0.0.1:38444 remote=tcp://127.0.0.1:44349>: Stream is closed')>)\n",
      "Traceback (most recent call last):\n",
      "  File \"/usr/lib/python3.10/site-packages/distributed/comm/tcp.py\", line 225, in read\n",
      "    frames_nbytes = await stream.read_bytes(fmt_size)\n",
      "tornado.iostream.StreamClosedError: Stream is closed\n",
      "\n",
      "The above exception was the direct cause of the following exception:\n",
      "\n",
      "Traceback (most recent call last):\n",
      "  File \"/usr/lib/python3.10/site-packages/tornado/ioloop.py\", line 740, in _run_callback\n",
      "    ret = callback()\n",
      "  File \"/usr/lib/python3.10/site-packages/tornado/ioloop.py\", line 764, in _discard_future_result\n",
      "    future.result()\n",
      "  File \"/usr/lib/python3.10/site-packages/distributed/dashboard/components/scheduler.py\", line 849, in f\n",
      "    result = await self.scheduler.benchmark_hardware()\n",
      "  File \"/usr/lib/python3.10/site-packages/distributed/scheduler.py\", line 7057, in benchmark_hardware\n",
      "    responses = await asyncio.gather(*futures)\n",
      "  File \"/usr/lib/python3.10/site-packages/distributed/core.py\", line 1221, in send_recv_from_rpc\n",
      "    return await send_recv(comm=comm, op=key, **kwargs)\n",
      "  File \"/usr/lib/python3.10/site-packages/distributed/core.py\", line 986, in send_recv\n",
      "    response = await comm.read(deserializers=deserializers)\n",
      "  File \"/usr/lib/python3.10/site-packages/distributed/comm/tcp.py\", line 241, in read\n",
      "    convert_stream_closed_error(self, e)\n",
      "  File \"/usr/lib/python3.10/site-packages/distributed/comm/tcp.py\", line 144, in convert_stream_closed_error\n",
      "    raise CommClosedError(f\"in {obj}: {exc}\") from exc\n",
      "distributed.comm.core.CommClosedError: in <TCP (closed) ConnectionPool.benchmark_network local=tcp://127.0.0.1:38444 remote=tcp://127.0.0.1:44349>: Stream is closed\n",
      "ERROR:tornado.application:Exception in callback functools.partial(<bound method IOLoop._discard_future_result of <tornado.platform.asyncio.AsyncIOLoop object at 0x7f7a22138f40>>, <Task finished name='Task-717801' coro=<Hardware.__init__.<locals>.f() done, defined at /usr/lib/python3.10/site-packages/distributed/dashboard/components/scheduler.py:848> exception=CommClosedError('in <TCP (closed) ConnectionPool.benchmark_network local=tcp://127.0.0.1:38444 remote=tcp://127.0.0.1:44349>: Stream is closed')>)\n",
      "Traceback (most recent call last):\n",
      "  File \"/usr/lib/python3.10/site-packages/distributed/comm/tcp.py\", line 225, in read\n",
      "    frames_nbytes = await stream.read_bytes(fmt_size)\n",
      "tornado.iostream.StreamClosedError: Stream is closed\n",
      "\n",
      "The above exception was the direct cause of the following exception:\n",
      "\n",
      "Traceback (most recent call last):\n",
      "  File \"/usr/lib/python3.10/site-packages/tornado/ioloop.py\", line 740, in _run_callback\n",
      "    ret = callback()\n",
      "  File \"/usr/lib/python3.10/site-packages/tornado/ioloop.py\", line 764, in _discard_future_result\n",
      "    future.result()\n",
      "  File \"/usr/lib/python3.10/site-packages/distributed/dashboard/components/scheduler.py\", line 849, in f\n",
      "    result = await self.scheduler.benchmark_hardware()\n",
      "  File \"/usr/lib/python3.10/site-packages/distributed/scheduler.py\", line 7057, in benchmark_hardware\n",
      "    responses = await asyncio.gather(*futures)\n",
      "  File \"/usr/lib/python3.10/site-packages/distributed/core.py\", line 1221, in send_recv_from_rpc\n",
      "    return await send_recv(comm=comm, op=key, **kwargs)\n",
      "  File \"/usr/lib/python3.10/site-packages/distributed/core.py\", line 986, in send_recv\n",
      "    response = await comm.read(deserializers=deserializers)\n",
      "  File \"/usr/lib/python3.10/site-packages/distributed/comm/tcp.py\", line 241, in read\n",
      "    convert_stream_closed_error(self, e)\n",
      "  File \"/usr/lib/python3.10/site-packages/distributed/comm/tcp.py\", line 144, in convert_stream_closed_error\n",
      "    raise CommClosedError(f\"in {obj}: {exc}\") from exc\n",
      "distributed.comm.core.CommClosedError: in <TCP (closed) ConnectionPool.benchmark_network local=tcp://127.0.0.1:38444 remote=tcp://127.0.0.1:44349>: Stream is closed\n"
     ]
    },
    {
     "data": {
      "text/html": [
       "<pre style=\"white-space:pre;overflow-x:auto;line-height:normal;font-family:Menlo,'DejaVu Sans Mono',consolas,'Courier New',monospace\">23:40:44.941 | <span style=\"color: #d70000; text-decoration-color: #d70000\">ERROR</span>   | tornado.application - Exception in callback functools.partial(&lt;bound method IOLoop._discard_future_result of &lt;tornado.platform.asyncio.AsyncIOLoop object at 0x7f7a22138f40&gt;&gt;, &lt;Task finished name='Task-717801' coro=&lt;Hardware.__init__.&lt;locals&gt;.f() done, defined at /usr/lib/python3.10/site-packages/distributed/dashboard/components/scheduler.py:848&gt; exception=CommClosedError('in &lt;TCP (closed) ConnectionPool.benchmark_network local=tcp://127.0.0.1:38444 remote=tcp://127.0.0.1:44349&gt;: Stream is closed')&gt;)\n",
       "Traceback (most recent call last):\n",
       "  File \"/usr/lib/python3.10/site-packages/distributed/comm/tcp.py\", line 225, in read\n",
       "    frames_nbytes = await stream.read_bytes(fmt_size)\n",
       "tornado.iostream.StreamClosedError: Stream is closed\n",
       "\n",
       "The above exception was the direct cause of the following exception:\n",
       "\n",
       "Traceback (most recent call last):\n",
       "  File \"/usr/lib/python3.10/site-packages/tornado/ioloop.py\", line 740, in _run_callback\n",
       "    ret = callback()\n",
       "  File \"/usr/lib/python3.10/site-packages/tornado/ioloop.py\", line 764, in _discard_future_result\n",
       "    future.result()\n",
       "  File \"/usr/lib/python3.10/site-packages/distributed/dashboard/components/scheduler.py\", line 849, in f\n",
       "    result = await self.scheduler.benchmark_hardware()\n",
       "  File \"/usr/lib/python3.10/site-packages/distributed/scheduler.py\", line 7057, in benchmark_hardware\n",
       "    responses = await asyncio.gather(*futures)\n",
       "  File \"/usr/lib/python3.10/site-packages/distributed/core.py\", line 1221, in send_recv_from_rpc\n",
       "    return await send_recv(comm=comm, op=key, **kwargs)\n",
       "  File \"/usr/lib/python3.10/site-packages/distributed/core.py\", line 986, in send_recv\n",
       "    response = await comm.read(deserializers=deserializers)\n",
       "  File \"/usr/lib/python3.10/site-packages/distributed/comm/tcp.py\", line 241, in read\n",
       "    convert_stream_closed_error(self, e)\n",
       "  File \"/usr/lib/python3.10/site-packages/distributed/comm/tcp.py\", line 144, in convert_stream_closed_error\n",
       "    raise CommClosedError(f\"in {obj}: {exc}\") from exc\n",
       "distributed.comm.core.CommClosedError: in &lt;TCP (closed) ConnectionPool.benchmark_network local=tcp://127.0.0.1:38444 remote=tcp://127.0.0.1:44349&gt;: Stream is closed\n",
       "</pre>\n"
      ],
      "text/plain": [
       "23:40:44.941 | \u001b[38;5;160mERROR\u001b[0m   | tornado.application - Exception in callback functools.partial(<bound method IOLoop._discard_future_result of <tornado.platform.asyncio.AsyncIOLoop object at 0x7f7a22138f40>>, <Task finished name='Task-717801' coro=<Hardware.__init__.<locals>.f() done, defined at /usr/lib/python3.10/site-packages/distributed/dashboard/components/scheduler.py:848> exception=CommClosedError('in <TCP (closed) ConnectionPool.benchmark_network local=tcp://127.0.0.1:38444 remote=tcp://127.0.0.1:44349>: Stream is closed')>)\n",
       "Traceback (most recent call last):\n",
       "  File \"/usr/lib/python3.10/site-packages/distributed/comm/tcp.py\", line 225, in read\n",
       "    frames_nbytes = await stream.read_bytes(fmt_size)\n",
       "tornado.iostream.StreamClosedError: Stream is closed\n",
       "\n",
       "The above exception was the direct cause of the following exception:\n",
       "\n",
       "Traceback (most recent call last):\n",
       "  File \"/usr/lib/python3.10/site-packages/tornado/ioloop.py\", line 740, in _run_callback\n",
       "    ret = callback()\n",
       "  File \"/usr/lib/python3.10/site-packages/tornado/ioloop.py\", line 764, in _discard_future_result\n",
       "    future.result()\n",
       "  File \"/usr/lib/python3.10/site-packages/distributed/dashboard/components/scheduler.py\", line 849, in f\n",
       "    result = await self.scheduler.benchmark_hardware()\n",
       "  File \"/usr/lib/python3.10/site-packages/distributed/scheduler.py\", line 7057, in benchmark_hardware\n",
       "    responses = await asyncio.gather(*futures)\n",
       "  File \"/usr/lib/python3.10/site-packages/distributed/core.py\", line 1221, in send_recv_from_rpc\n",
       "    return await send_recv(comm=comm, op=key, **kwargs)\n",
       "  File \"/usr/lib/python3.10/site-packages/distributed/core.py\", line 986, in send_recv\n",
       "    response = await comm.read(deserializers=deserializers)\n",
       "  File \"/usr/lib/python3.10/site-packages/distributed/comm/tcp.py\", line 241, in read\n",
       "    convert_stream_closed_error(self, e)\n",
       "  File \"/usr/lib/python3.10/site-packages/distributed/comm/tcp.py\", line 144, in convert_stream_closed_error\n",
       "    raise CommClosedError(f\"in {obj}: {exc}\") from exc\n",
       "distributed.comm.core.CommClosedError: in <TCP (closed) ConnectionPool.benchmark_network local=tcp://127.0.0.1:38444 remote=tcp://127.0.0.1:44349>: Stream is closed\n"
      ]
     },
     "metadata": {},
     "output_type": "display_data"
    },
    {
     "ename": "AttributeError",
     "evalue": "'DataFrame' object has no attribute 'visualize'",
     "output_type": "error",
     "traceback": [
      "\u001b[0;31m---------------------------------------------------------------------------\u001b[0m",
      "\u001b[0;31mAttributeError\u001b[0m                            Traceback (most recent call last)",
      "Cell \u001b[0;32mIn[7], line 1\u001b[0m\n",
      "File \u001b[0;32m/usr/lib/python3.10/site-packages/pandas/core/generic.py:5902\u001b[0m, in \u001b[0;36mNDFrame.__getattr__\u001b[0;34m(self, name)\u001b[0m\n\u001b[1;32m   5895\u001b[0m \u001b[38;5;28;01mif\u001b[39;00m (\n\u001b[1;32m   5896\u001b[0m     name \u001b[38;5;129;01mnot\u001b[39;00m \u001b[38;5;129;01min\u001b[39;00m \u001b[38;5;28mself\u001b[39m\u001b[38;5;241m.\u001b[39m_internal_names_set\n\u001b[1;32m   5897\u001b[0m     \u001b[38;5;129;01mand\u001b[39;00m name \u001b[38;5;129;01mnot\u001b[39;00m \u001b[38;5;129;01min\u001b[39;00m \u001b[38;5;28mself\u001b[39m\u001b[38;5;241m.\u001b[39m_metadata\n\u001b[1;32m   5898\u001b[0m     \u001b[38;5;129;01mand\u001b[39;00m name \u001b[38;5;129;01mnot\u001b[39;00m \u001b[38;5;129;01min\u001b[39;00m \u001b[38;5;28mself\u001b[39m\u001b[38;5;241m.\u001b[39m_accessors\n\u001b[1;32m   5899\u001b[0m     \u001b[38;5;129;01mand\u001b[39;00m \u001b[38;5;28mself\u001b[39m\u001b[38;5;241m.\u001b[39m_info_axis\u001b[38;5;241m.\u001b[39m_can_hold_identifiers_and_holds_name(name)\n\u001b[1;32m   5900\u001b[0m ):\n\u001b[1;32m   5901\u001b[0m     \u001b[38;5;28;01mreturn\u001b[39;00m \u001b[38;5;28mself\u001b[39m[name]\n\u001b[0;32m-> 5902\u001b[0m \u001b[38;5;28;01mreturn\u001b[39;00m \u001b[38;5;28;43mobject\u001b[39;49m\u001b[38;5;241;43m.\u001b[39;49m\u001b[38;5;21;43m__getattribute__\u001b[39;49m\u001b[43m(\u001b[49m\u001b[38;5;28;43mself\u001b[39;49m\u001b[43m,\u001b[49m\u001b[43m \u001b[49m\u001b[43mname\u001b[49m\u001b[43m)\u001b[49m\n",
      "\u001b[0;31mAttributeError\u001b[0m: 'DataFrame' object has no attribute 'visualize'"
     ]
    }
   ],
   "source": [
    "get_interactions(file)"
   ]
  },
  {
   "cell_type": "code",
   "execution_count": 25,
   "id": "4804d90a-f286-47f2-ad22-8c2da5593507",
   "metadata": {
    "tags": []
   },
   "outputs": [
    {
     "name": "stderr",
     "output_type": "stream",
     "text": [
      "/tmp/ipykernel_10712/1485200435.py:1: UserWarning: `meta` is not specified, inferred from partial data. Please provide `meta` if the result is unexpected.\n",
      "  Before: .apply(func)\n",
      "  After:  .apply(func, meta={'x': 'f8', 'y': 'f8'}) for dataframe result\n",
      "  or:     .apply(func, meta=('x', 'f8'))            for series result\n",
      "  a.apply(lambda x : type(x))\n"
     ]
    },
    {
     "data": {
      "text/plain": [
       "Dask Series Structure:\n",
       "npartitions=1\n",
       "    object\n",
       "       ...\n",
       "dtype: object\n",
       "Dask Name: lambda, 7 graph layers"
      ]
     },
     "execution_count": 25,
     "metadata": {},
     "output_type": "execute_result"
    }
   ],
   "source": [
    "a.apply(lambda x : type(x))"
   ]
  },
  {
   "cell_type": "code",
   "execution_count": 16,
   "id": "015dcda6-20aa-4a45-a223-62d45f7ac13d",
   "metadata": {},
   "outputs": [
    {
     "name": "stderr",
     "output_type": "stream",
     "text": [
      "/tmp/ipykernel_10086/768978514.py:13: UserWarning: `meta` is not specified, inferred from partial data. Please provide `meta` if the result is unexpected.\n",
      "  Before: .apply(func)\n",
      "  After:  .apply(func, meta={'x': 'f8', 'y': 'f8'}) for dataframe result\n",
      "  or:     .apply(func, meta=('x', 'f8'))            for series result\n",
      "  events_series.apply(lambda x : get_groups(x, 100_000, thresholds,10,1))\n"
     ]
    },
    {
     "data": {
      "text/html": [
       "<pre style=\"white-space:pre;overflow-x:auto;line-height:normal;font-family:Menlo,'DejaVu Sans Mono',consolas,'Courier New',monospace\">19:26:40.463 | <span style=\"color: #d70000; text-decoration-color: #d70000\">ERROR</span>   | asyncio - Task exception was never retrieved\n",
       "future: &lt;Task finished name='Task-10572' coro=&lt;Client._gather.&lt;locals&gt;.wait() done, defined at /usr/lib/python3.10/site-packages/distributed/client.py:2122&gt; exception=AllExit()&gt;\n",
       "Traceback (most recent call last):\n",
       "  File \"/usr/lib/python3.10/site-packages/distributed/client.py\", line 2131, in wait\n",
       "    raise AllExit()\n",
       "distributed.client.AllExit\n",
       "</pre>\n"
      ],
      "text/plain": [
       "19:26:40.463 | \u001b[38;5;160mERROR\u001b[0m   | asyncio - Task exception was never retrieved\n",
       "future: <Task finished name='Task-10572' coro=<Client._gather.<locals>.wait() done, defined at /usr/lib/python3.10/site-packages/distributed/client.py:2122> exception=AllExit()>\n",
       "Traceback (most recent call last):\n",
       "  File \"/usr/lib/python3.10/site-packages/distributed/client.py\", line 2131, in wait\n",
       "    raise AllExit()\n",
       "distributed.client.AllExit\n"
      ]
     },
     "metadata": {},
     "output_type": "display_data"
    },
    {
     "ename": "KeyboardInterrupt",
     "evalue": "",
     "output_type": "error",
     "traceback": [
      "\u001b[0;31m---------------------------------------------------------------------------\u001b[0m",
      "\u001b[0;31mKeyboardInterrupt\u001b[0m                         Traceback (most recent call last)",
      "Cell \u001b[0;32mIn[16], line 1\u001b[0m\n\u001b[0;32m----> 1\u001b[0m \u001b[43mget_ipython\u001b[49m\u001b[43m(\u001b[49m\u001b[43m)\u001b[49m\u001b[38;5;241;43m.\u001b[39;49m\u001b[43mrun_cell_magic\u001b[49m\u001b[43m(\u001b[49m\u001b[38;5;124;43m'\u001b[39;49m\u001b[38;5;124;43mprun\u001b[39;49m\u001b[38;5;124;43m'\u001b[39;49m\u001b[43m,\u001b[49m\u001b[43m \u001b[49m\u001b[38;5;124;43m'\u001b[39;49m\u001b[38;5;124;43m-l 10\u001b[39;49m\u001b[38;5;124;43m'\u001b[39;49m\u001b[43m,\u001b[49m\u001b[43m \u001b[49m\u001b[38;5;124;43m'\u001b[39;49m\u001b[38;5;130;43;01m\\n\u001b[39;49;00m\u001b[38;5;124;43ma=get_interactions(file)\u001b[39;49m\u001b[38;5;130;43;01m\\n\u001b[39;49;00m\u001b[38;5;124;43m'\u001b[39;49m\u001b[43m)\u001b[49m\n",
      "File \u001b[0;32m/usr/lib/python3.10/site-packages/IPython/core/interactiveshell.py:2475\u001b[0m, in \u001b[0;36mInteractiveShell.run_cell_magic\u001b[0;34m(self, magic_name, line, cell)\u001b[0m\n\u001b[1;32m   2473\u001b[0m \u001b[38;5;28;01mwith\u001b[39;00m \u001b[38;5;28mself\u001b[39m\u001b[38;5;241m.\u001b[39mbuiltin_trap:\n\u001b[1;32m   2474\u001b[0m     args \u001b[38;5;241m=\u001b[39m (magic_arg_s, cell)\n\u001b[0;32m-> 2475\u001b[0m     result \u001b[38;5;241m=\u001b[39m \u001b[43mfn\u001b[49m\u001b[43m(\u001b[49m\u001b[38;5;241;43m*\u001b[39;49m\u001b[43margs\u001b[49m\u001b[43m,\u001b[49m\u001b[43m \u001b[49m\u001b[38;5;241;43m*\u001b[39;49m\u001b[38;5;241;43m*\u001b[39;49m\u001b[43mkwargs\u001b[49m\u001b[43m)\u001b[49m\n\u001b[1;32m   2477\u001b[0m \u001b[38;5;66;03m# The code below prevents the output from being displayed\u001b[39;00m\n\u001b[1;32m   2478\u001b[0m \u001b[38;5;66;03m# when using magics with decodator @output_can_be_silenced\u001b[39;00m\n\u001b[1;32m   2479\u001b[0m \u001b[38;5;66;03m# when the last Python token in the expression is a ';'.\u001b[39;00m\n\u001b[1;32m   2480\u001b[0m \u001b[38;5;28;01mif\u001b[39;00m \u001b[38;5;28mgetattr\u001b[39m(fn, magic\u001b[38;5;241m.\u001b[39mMAGIC_OUTPUT_CAN_BE_SILENCED, \u001b[38;5;28;01mFalse\u001b[39;00m):\n",
      "File \u001b[0;32m/usr/lib/python3.10/site-packages/IPython/core/magics/execution.py:298\u001b[0m, in \u001b[0;36mExecutionMagics.prun\u001b[0;34m(self, parameter_s, cell)\u001b[0m\n\u001b[1;32m    296\u001b[0m     arg_str \u001b[38;5;241m+\u001b[39m\u001b[38;5;241m=\u001b[39m \u001b[38;5;124m'\u001b[39m\u001b[38;5;130;01m\\n\u001b[39;00m\u001b[38;5;124m'\u001b[39m \u001b[38;5;241m+\u001b[39m cell\n\u001b[1;32m    297\u001b[0m arg_str \u001b[38;5;241m=\u001b[39m \u001b[38;5;28mself\u001b[39m\u001b[38;5;241m.\u001b[39mshell\u001b[38;5;241m.\u001b[39mtransform_cell(arg_str)\n\u001b[0;32m--> 298\u001b[0m \u001b[38;5;28;01mreturn\u001b[39;00m \u001b[38;5;28;43mself\u001b[39;49m\u001b[38;5;241;43m.\u001b[39;49m\u001b[43m_run_with_profiler\u001b[49m\u001b[43m(\u001b[49m\u001b[43marg_str\u001b[49m\u001b[43m,\u001b[49m\u001b[43m \u001b[49m\u001b[43mopts\u001b[49m\u001b[43m,\u001b[49m\u001b[43m \u001b[49m\u001b[38;5;28;43mself\u001b[39;49m\u001b[38;5;241;43m.\u001b[39;49m\u001b[43mshell\u001b[49m\u001b[38;5;241;43m.\u001b[39;49m\u001b[43muser_ns\u001b[49m\u001b[43m)\u001b[49m\n",
      "File \u001b[0;32m/usr/lib/python3.10/site-packages/IPython/core/magics/execution.py:320\u001b[0m, in \u001b[0;36mExecutionMagics._run_with_profiler\u001b[0;34m(self, code, opts, namespace)\u001b[0m\n\u001b[1;32m    318\u001b[0m prof \u001b[38;5;241m=\u001b[39m profile\u001b[38;5;241m.\u001b[39mProfile()\n\u001b[1;32m    319\u001b[0m \u001b[38;5;28;01mtry\u001b[39;00m:\n\u001b[0;32m--> 320\u001b[0m     prof \u001b[38;5;241m=\u001b[39m \u001b[43mprof\u001b[49m\u001b[38;5;241;43m.\u001b[39;49m\u001b[43mrunctx\u001b[49m\u001b[43m(\u001b[49m\u001b[43mcode\u001b[49m\u001b[43m,\u001b[49m\u001b[43m \u001b[49m\u001b[43mnamespace\u001b[49m\u001b[43m,\u001b[49m\u001b[43m \u001b[49m\u001b[43mnamespace\u001b[49m\u001b[43m)\u001b[49m\n\u001b[1;32m    321\u001b[0m     sys_exit \u001b[38;5;241m=\u001b[39m \u001b[38;5;124m'\u001b[39m\u001b[38;5;124m'\u001b[39m\n\u001b[1;32m    322\u001b[0m \u001b[38;5;28;01mexcept\u001b[39;00m \u001b[38;5;167;01mSystemExit\u001b[39;00m:\n",
      "File \u001b[0;32m/usr/lib/python3.10/cProfile.py:100\u001b[0m, in \u001b[0;36mProfile.runctx\u001b[0;34m(self, cmd, globals, locals)\u001b[0m\n\u001b[1;32m     98\u001b[0m \u001b[38;5;28mself\u001b[39m\u001b[38;5;241m.\u001b[39menable()\n\u001b[1;32m     99\u001b[0m \u001b[38;5;28;01mtry\u001b[39;00m:\n\u001b[0;32m--> 100\u001b[0m     \u001b[43mexec\u001b[49m\u001b[43m(\u001b[49m\u001b[43mcmd\u001b[49m\u001b[43m,\u001b[49m\u001b[43m \u001b[49m\u001b[38;5;28;43mglobals\u001b[39;49m\u001b[43m,\u001b[49m\u001b[43m \u001b[49m\u001b[38;5;28;43mlocals\u001b[39;49m\u001b[43m)\u001b[49m\n\u001b[1;32m    101\u001b[0m \u001b[38;5;28;01mfinally\u001b[39;00m:\n\u001b[1;32m    102\u001b[0m     \u001b[38;5;28mself\u001b[39m\u001b[38;5;241m.\u001b[39mdisable()\n",
      "File \u001b[0;32m<string>:1\u001b[0m\n",
      "Cell \u001b[0;32mIn[15], line 12\u001b[0m, in \u001b[0;36mget_interactions\u001b[0;34m(file_name)\u001b[0m\n\u001b[1;32m      5\u001b[0m entires_df  \u001b[38;5;241m=\u001b[39m entries_bag\u001b[38;5;241m.\u001b[39mmap(identification)\u001b[38;5;241m.\u001b[39mto_dataframe(\n\u001b[1;32m      6\u001b[0m     meta\u001b[38;5;241m=\u001b[39m{\u001b[38;5;124m\"\u001b[39m\u001b[38;5;124mtime\u001b[39m\u001b[38;5;124m\"\u001b[39m: \u001b[38;5;124m\"\u001b[39m\u001b[38;5;124mint64\u001b[39m\u001b[38;5;124m\"\u001b[39m, \u001b[38;5;124m\"\u001b[39m\u001b[38;5;124menergy\u001b[39m\u001b[38;5;124m\"\u001b[39m: \u001b[38;5;124m\"\u001b[39m\u001b[38;5;124mfloat32\u001b[39m\u001b[38;5;124m\"\u001b[39m, \u001b[38;5;124m\"\u001b[39m\u001b[38;5;124miTED\u001b[39m\u001b[38;5;124m\"\u001b[39m: \u001b[38;5;124m\"\u001b[39m\u001b[38;5;124mint8\u001b[39m\u001b[38;5;124m\"\u001b[39m, \u001b[38;5;124m\"\u001b[39m\u001b[38;5;124mcrystal\u001b[39m\u001b[38;5;124m\"\u001b[39m: \u001b[38;5;124m\"\u001b[39m\u001b[38;5;124mint8\u001b[39m\u001b[38;5;124m\"\u001b[39m, \u001b[38;5;124m\"\u001b[39m\u001b[38;5;124mpixel\u001b[39m\u001b[38;5;124m\"\u001b[39m: \u001b[38;5;124m\"\u001b[39m\u001b[38;5;124mint8\u001b[39m\u001b[38;5;124m\"\u001b[39m},\n\u001b[1;32m      7\u001b[0m     optimize_graph\u001b[38;5;241m=\u001b[39m\u001b[38;5;28;01mTrue\u001b[39;00m\n\u001b[1;32m      8\u001b[0m )\n\u001b[1;32m     10\u001b[0m events_series \u001b[38;5;241m=\u001b[39m group_by_crystal(entires_df)\n\u001b[0;32m---> 12\u001b[0m events_bag \u001b[38;5;241m=\u001b[39m \u001b[43mdask\u001b[49m\u001b[38;5;241;43m.\u001b[39;49m\u001b[43mbag\u001b[49m\u001b[38;5;241;43m.\u001b[39;49m\u001b[43mfrom_delayed\u001b[49m\u001b[43m(\u001b[49m\n\u001b[1;32m     13\u001b[0m \u001b[43m    \u001b[49m\u001b[43mevents_series\u001b[49m\u001b[38;5;241;43m.\u001b[39;49m\u001b[43mapply\u001b[49m\u001b[43m(\u001b[49m\u001b[38;5;28;43;01mlambda\u001b[39;49;00m\u001b[43m \u001b[49m\u001b[43mx\u001b[49m\u001b[43m \u001b[49m\u001b[43m:\u001b[49m\u001b[43m \u001b[49m\u001b[43mget_groups\u001b[49m\u001b[43m(\u001b[49m\u001b[43mx\u001b[49m\u001b[43m,\u001b[49m\u001b[43m \u001b[49m\u001b[38;5;241;43m100_000\u001b[39;49m\u001b[43m,\u001b[49m\u001b[43m \u001b[49m\u001b[43mthresholds\u001b[49m\u001b[43m,\u001b[49m\u001b[38;5;241;43m10\u001b[39;49m\u001b[43m,\u001b[49m\u001b[38;5;241;43m1\u001b[39;49m\u001b[43m)\u001b[49m\u001b[43m)\u001b[49m\n\u001b[1;32m     14\u001b[0m \u001b[43m\u001b[49m\u001b[43m)\u001b[49m\n\u001b[1;32m     16\u001b[0m events_df \u001b[38;5;241m=\u001b[39m events_bag\u001b[38;5;241m.\u001b[39mmap(branches)\u001b[38;5;241m.\u001b[39mto_dataframe(\n\u001b[1;32m     17\u001b[0m     meta\u001b[38;5;241m=\u001b[39m{\u001b[38;5;124m\"\u001b[39m\u001b[38;5;124mtime_first_event\u001b[39m\u001b[38;5;124m\"\u001b[39m: \u001b[38;5;124m\"\u001b[39m\u001b[38;5;124mint64\u001b[39m\u001b[38;5;124m\"\u001b[39m, \u001b[38;5;124m\"\u001b[39m\u001b[38;5;124mtimestamp\u001b[39m\u001b[38;5;124m\"\u001b[39m: \u001b[38;5;124m\"\u001b[39m\u001b[38;5;124mint64\u001b[39m\u001b[38;5;124m\"\u001b[39m, \u001b[38;5;124m\"\u001b[39m\u001b[38;5;124miTED\u001b[39m\u001b[38;5;124m\"\u001b[39m: \u001b[38;5;124m\"\u001b[39m\u001b[38;5;124mint8\u001b[39m\u001b[38;5;124m\"\u001b[39m, \u001b[38;5;124m\"\u001b[39m\u001b[38;5;124mcrystal\u001b[39m\u001b[38;5;124m\"\u001b[39m: \u001b[38;5;124m\"\u001b[39m\u001b[38;5;124mint8\u001b[39m\u001b[38;5;124m\"\u001b[39m, \u001b[38;5;124m\"\u001b[39m\u001b[38;5;124menergy\u001b[39m\u001b[38;5;124m\"\u001b[39m: \u001b[38;5;124m\"\u001b[39m\u001b[38;5;124mfloat32\u001b[39m\u001b[38;5;124m\"\u001b[39m},\n\u001b[1;32m     18\u001b[0m     optimize_graph\u001b[38;5;241m=\u001b[39m\u001b[38;5;28;01mTrue\u001b[39;00m\n\u001b[1;32m     19\u001b[0m )\n\u001b[1;32m     21\u001b[0m \u001b[38;5;28;01mreturn\u001b[39;00m events_df\n",
      "File \u001b[0;32m~/.local/lib/python3.10/site-packages/dask/bag/core.py:1889\u001b[0m, in \u001b[0;36mfrom_delayed\u001b[0;34m(values)\u001b[0m\n\u001b[1;32m   1887\u001b[0m \u001b[38;5;28;01mif\u001b[39;00m \u001b[38;5;28misinstance\u001b[39m(values, Delayed):\n\u001b[1;32m   1888\u001b[0m     values \u001b[38;5;241m=\u001b[39m [values]\n\u001b[0;32m-> 1889\u001b[0m values \u001b[38;5;241m=\u001b[39m [\n\u001b[1;32m   1890\u001b[0m     delayed(v) \u001b[38;5;28;01mif\u001b[39;00m \u001b[38;5;129;01mnot\u001b[39;00m \u001b[38;5;28misinstance\u001b[39m(v, Delayed) \u001b[38;5;129;01mand\u001b[39;00m \u001b[38;5;28mhasattr\u001b[39m(v, \u001b[38;5;124m\"\u001b[39m\u001b[38;5;124mkey\u001b[39m\u001b[38;5;124m\"\u001b[39m) \u001b[38;5;28;01melse\u001b[39;00m v\n\u001b[1;32m   1891\u001b[0m     \u001b[38;5;28;01mfor\u001b[39;00m v \u001b[38;5;129;01min\u001b[39;00m values\n\u001b[1;32m   1892\u001b[0m ]\n\u001b[1;32m   1894\u001b[0m name \u001b[38;5;241m=\u001b[39m \u001b[38;5;124m\"\u001b[39m\u001b[38;5;124mbag-from-delayed-\u001b[39m\u001b[38;5;124m\"\u001b[39m \u001b[38;5;241m+\u001b[39m tokenize(\u001b[38;5;241m*\u001b[39mvalues)\n\u001b[1;32m   1895\u001b[0m names \u001b[38;5;241m=\u001b[39m [(name, i) \u001b[38;5;28;01mfor\u001b[39;00m i \u001b[38;5;129;01min\u001b[39;00m \u001b[38;5;28mrange\u001b[39m(\u001b[38;5;28mlen\u001b[39m(values))]\n",
      "File \u001b[0;32m~/.local/lib/python3.10/site-packages/dask/bag/core.py:1889\u001b[0m, in \u001b[0;36m<listcomp>\u001b[0;34m(.0)\u001b[0m\n\u001b[1;32m   1887\u001b[0m \u001b[38;5;28;01mif\u001b[39;00m \u001b[38;5;28misinstance\u001b[39m(values, Delayed):\n\u001b[1;32m   1888\u001b[0m     values \u001b[38;5;241m=\u001b[39m [values]\n\u001b[0;32m-> 1889\u001b[0m values \u001b[38;5;241m=\u001b[39m [\n\u001b[1;32m   1890\u001b[0m     delayed(v) \u001b[38;5;28;01mif\u001b[39;00m \u001b[38;5;129;01mnot\u001b[39;00m \u001b[38;5;28misinstance\u001b[39m(v, Delayed) \u001b[38;5;129;01mand\u001b[39;00m \u001b[38;5;28mhasattr\u001b[39m(v, \u001b[38;5;124m\"\u001b[39m\u001b[38;5;124mkey\u001b[39m\u001b[38;5;124m\"\u001b[39m) \u001b[38;5;28;01melse\u001b[39;00m v\n\u001b[1;32m   1891\u001b[0m     \u001b[38;5;28;01mfor\u001b[39;00m v \u001b[38;5;129;01min\u001b[39;00m values\n\u001b[1;32m   1892\u001b[0m ]\n\u001b[1;32m   1894\u001b[0m name \u001b[38;5;241m=\u001b[39m \u001b[38;5;124m\"\u001b[39m\u001b[38;5;124mbag-from-delayed-\u001b[39m\u001b[38;5;124m\"\u001b[39m \u001b[38;5;241m+\u001b[39m tokenize(\u001b[38;5;241m*\u001b[39mvalues)\n\u001b[1;32m   1895\u001b[0m names \u001b[38;5;241m=\u001b[39m [(name, i) \u001b[38;5;28;01mfor\u001b[39;00m i \u001b[38;5;129;01min\u001b[39;00m \u001b[38;5;28mrange\u001b[39m(\u001b[38;5;28mlen\u001b[39m(values))]\n",
      "File \u001b[0;32m~/.local/lib/python3.10/site-packages/dask/dataframe/core.py:3785\u001b[0m, in \u001b[0;36mSeries.__iter__\u001b[0;34m(self)\u001b[0m\n\u001b[1;32m   3782\u001b[0m \u001b[38;5;129m@derived_from\u001b[39m(pd\u001b[38;5;241m.\u001b[39mSeries)\n\u001b[1;32m   3783\u001b[0m \u001b[38;5;28;01mdef\u001b[39;00m \u001b[38;5;21m__iter__\u001b[39m(\u001b[38;5;28mself\u001b[39m):\n\u001b[1;32m   3784\u001b[0m     \u001b[38;5;28;01mfor\u001b[39;00m i \u001b[38;5;129;01min\u001b[39;00m \u001b[38;5;28mrange\u001b[39m(\u001b[38;5;28mself\u001b[39m\u001b[38;5;241m.\u001b[39mnpartitions):\n\u001b[0;32m-> 3785\u001b[0m         s \u001b[38;5;241m=\u001b[39m \u001b[38;5;28;43mself\u001b[39;49m\u001b[38;5;241;43m.\u001b[39;49m\u001b[43mget_partition\u001b[49m\u001b[43m(\u001b[49m\u001b[43mi\u001b[49m\u001b[43m)\u001b[49m\u001b[38;5;241;43m.\u001b[39;49m\u001b[43mcompute\u001b[49m\u001b[43m(\u001b[49m\u001b[43m)\u001b[49m\n\u001b[1;32m   3786\u001b[0m         \u001b[38;5;28;01myield from\u001b[39;00m s\n",
      "File \u001b[0;32m~/.local/lib/python3.10/site-packages/dask/base.py:315\u001b[0m, in \u001b[0;36mDaskMethodsMixin.compute\u001b[0;34m(self, **kwargs)\u001b[0m\n\u001b[1;32m    291\u001b[0m \u001b[38;5;28;01mdef\u001b[39;00m \u001b[38;5;21mcompute\u001b[39m(\u001b[38;5;28mself\u001b[39m, \u001b[38;5;241m*\u001b[39m\u001b[38;5;241m*\u001b[39mkwargs):\n\u001b[1;32m    292\u001b[0m \u001b[38;5;250m    \u001b[39m\u001b[38;5;124;03m\"\"\"Compute this dask collection\u001b[39;00m\n\u001b[1;32m    293\u001b[0m \n\u001b[1;32m    294\u001b[0m \u001b[38;5;124;03m    This turns a lazy Dask collection into its in-memory equivalent.\u001b[39;00m\n\u001b[0;32m   (...)\u001b[0m\n\u001b[1;32m    313\u001b[0m \u001b[38;5;124;03m    dask.base.compute\u001b[39;00m\n\u001b[1;32m    314\u001b[0m \u001b[38;5;124;03m    \"\"\"\u001b[39;00m\n\u001b[0;32m--> 315\u001b[0m     (result,) \u001b[38;5;241m=\u001b[39m \u001b[43mcompute\u001b[49m\u001b[43m(\u001b[49m\u001b[38;5;28;43mself\u001b[39;49m\u001b[43m,\u001b[49m\u001b[43m \u001b[49m\u001b[43mtraverse\u001b[49m\u001b[38;5;241;43m=\u001b[39;49m\u001b[38;5;28;43;01mFalse\u001b[39;49;00m\u001b[43m,\u001b[49m\u001b[43m \u001b[49m\u001b[38;5;241;43m*\u001b[39;49m\u001b[38;5;241;43m*\u001b[39;49m\u001b[43mkwargs\u001b[49m\u001b[43m)\u001b[49m\n\u001b[1;32m    316\u001b[0m     \u001b[38;5;28;01mreturn\u001b[39;00m result\n",
      "File \u001b[0;32m~/.local/lib/python3.10/site-packages/dask/base.py:600\u001b[0m, in \u001b[0;36mcompute\u001b[0;34m(traverse, optimize_graph, scheduler, get, *args, **kwargs)\u001b[0m\n\u001b[1;32m    597\u001b[0m     keys\u001b[38;5;241m.\u001b[39mappend(x\u001b[38;5;241m.\u001b[39m__dask_keys__())\n\u001b[1;32m    598\u001b[0m     postcomputes\u001b[38;5;241m.\u001b[39mappend(x\u001b[38;5;241m.\u001b[39m__dask_postcompute__())\n\u001b[0;32m--> 600\u001b[0m results \u001b[38;5;241m=\u001b[39m \u001b[43mschedule\u001b[49m\u001b[43m(\u001b[49m\u001b[43mdsk\u001b[49m\u001b[43m,\u001b[49m\u001b[43m \u001b[49m\u001b[43mkeys\u001b[49m\u001b[43m,\u001b[49m\u001b[43m \u001b[49m\u001b[38;5;241;43m*\u001b[39;49m\u001b[38;5;241;43m*\u001b[39;49m\u001b[43mkwargs\u001b[49m\u001b[43m)\u001b[49m\n\u001b[1;32m    601\u001b[0m \u001b[38;5;28;01mreturn\u001b[39;00m repack([f(r, \u001b[38;5;241m*\u001b[39ma) \u001b[38;5;28;01mfor\u001b[39;00m r, (f, a) \u001b[38;5;129;01min\u001b[39;00m \u001b[38;5;28mzip\u001b[39m(results, postcomputes)])\n",
      "File \u001b[0;32m/usr/lib/python3.10/site-packages/distributed/client.py:3125\u001b[0m, in \u001b[0;36mClient.get\u001b[0;34m(self, dsk, keys, workers, allow_other_workers, resources, sync, asynchronous, direct, retries, priority, fifo_timeout, actors, **kwargs)\u001b[0m\n\u001b[1;32m   3123\u001b[0m         should_rejoin \u001b[38;5;241m=\u001b[39m \u001b[38;5;28;01mFalse\u001b[39;00m\n\u001b[1;32m   3124\u001b[0m \u001b[38;5;28;01mtry\u001b[39;00m:\n\u001b[0;32m-> 3125\u001b[0m     results \u001b[38;5;241m=\u001b[39m \u001b[38;5;28;43mself\u001b[39;49m\u001b[38;5;241;43m.\u001b[39;49m\u001b[43mgather\u001b[49m\u001b[43m(\u001b[49m\u001b[43mpacked\u001b[49m\u001b[43m,\u001b[49m\u001b[43m \u001b[49m\u001b[43masynchronous\u001b[49m\u001b[38;5;241;43m=\u001b[39;49m\u001b[43masynchronous\u001b[49m\u001b[43m,\u001b[49m\u001b[43m \u001b[49m\u001b[43mdirect\u001b[49m\u001b[38;5;241;43m=\u001b[39;49m\u001b[43mdirect\u001b[49m\u001b[43m)\u001b[49m\n\u001b[1;32m   3126\u001b[0m \u001b[38;5;28;01mfinally\u001b[39;00m:\n\u001b[1;32m   3127\u001b[0m     \u001b[38;5;28;01mfor\u001b[39;00m f \u001b[38;5;129;01min\u001b[39;00m futures\u001b[38;5;241m.\u001b[39mvalues():\n",
      "File \u001b[0;32m/usr/lib/python3.10/site-packages/distributed/client.py:2294\u001b[0m, in \u001b[0;36mClient.gather\u001b[0;34m(self, futures, errors, direct, asynchronous)\u001b[0m\n\u001b[1;32m   2292\u001b[0m \u001b[38;5;28;01melse\u001b[39;00m:\n\u001b[1;32m   2293\u001b[0m     local_worker \u001b[38;5;241m=\u001b[39m \u001b[38;5;28;01mNone\u001b[39;00m\n\u001b[0;32m-> 2294\u001b[0m \u001b[38;5;28;01mreturn\u001b[39;00m \u001b[38;5;28;43mself\u001b[39;49m\u001b[38;5;241;43m.\u001b[39;49m\u001b[43msync\u001b[49m\u001b[43m(\u001b[49m\n\u001b[1;32m   2295\u001b[0m \u001b[43m    \u001b[49m\u001b[38;5;28;43mself\u001b[39;49m\u001b[38;5;241;43m.\u001b[39;49m\u001b[43m_gather\u001b[49m\u001b[43m,\u001b[49m\n\u001b[1;32m   2296\u001b[0m \u001b[43m    \u001b[49m\u001b[43mfutures\u001b[49m\u001b[43m,\u001b[49m\n\u001b[1;32m   2297\u001b[0m \u001b[43m    \u001b[49m\u001b[43merrors\u001b[49m\u001b[38;5;241;43m=\u001b[39;49m\u001b[43merrors\u001b[49m\u001b[43m,\u001b[49m\n\u001b[1;32m   2298\u001b[0m \u001b[43m    \u001b[49m\u001b[43mdirect\u001b[49m\u001b[38;5;241;43m=\u001b[39;49m\u001b[43mdirect\u001b[49m\u001b[43m,\u001b[49m\n\u001b[1;32m   2299\u001b[0m \u001b[43m    \u001b[49m\u001b[43mlocal_worker\u001b[49m\u001b[38;5;241;43m=\u001b[39;49m\u001b[43mlocal_worker\u001b[49m\u001b[43m,\u001b[49m\n\u001b[1;32m   2300\u001b[0m \u001b[43m    \u001b[49m\u001b[43masynchronous\u001b[49m\u001b[38;5;241;43m=\u001b[39;49m\u001b[43masynchronous\u001b[49m\u001b[43m,\u001b[49m\n\u001b[1;32m   2301\u001b[0m \u001b[43m\u001b[49m\u001b[43m)\u001b[49m\n",
      "File \u001b[0;32m/usr/lib/python3.10/site-packages/distributed/utils.py:339\u001b[0m, in \u001b[0;36mSyncMethodMixin.sync\u001b[0;34m(self, func, asynchronous, callback_timeout, *args, **kwargs)\u001b[0m\n\u001b[1;32m    337\u001b[0m     \u001b[38;5;28;01mreturn\u001b[39;00m future\n\u001b[1;32m    338\u001b[0m \u001b[38;5;28;01melse\u001b[39;00m:\n\u001b[0;32m--> 339\u001b[0m     \u001b[38;5;28;01mreturn\u001b[39;00m \u001b[43msync\u001b[49m\u001b[43m(\u001b[49m\n\u001b[1;32m    340\u001b[0m \u001b[43m        \u001b[49m\u001b[38;5;28;43mself\u001b[39;49m\u001b[38;5;241;43m.\u001b[39;49m\u001b[43mloop\u001b[49m\u001b[43m,\u001b[49m\u001b[43m \u001b[49m\u001b[43mfunc\u001b[49m\u001b[43m,\u001b[49m\u001b[43m \u001b[49m\u001b[38;5;241;43m*\u001b[39;49m\u001b[43margs\u001b[49m\u001b[43m,\u001b[49m\u001b[43m \u001b[49m\u001b[43mcallback_timeout\u001b[49m\u001b[38;5;241;43m=\u001b[39;49m\u001b[43mcallback_timeout\u001b[49m\u001b[43m,\u001b[49m\u001b[43m \u001b[49m\u001b[38;5;241;43m*\u001b[39;49m\u001b[38;5;241;43m*\u001b[39;49m\u001b[43mkwargs\u001b[49m\n\u001b[1;32m    341\u001b[0m \u001b[43m    \u001b[49m\u001b[43m)\u001b[49m\n",
      "File \u001b[0;32m/usr/lib/python3.10/site-packages/distributed/utils.py:402\u001b[0m, in \u001b[0;36msync\u001b[0;34m(loop, func, callback_timeout, *args, **kwargs)\u001b[0m\n\u001b[1;32m    400\u001b[0m \u001b[38;5;28;01melse\u001b[39;00m:\n\u001b[1;32m    401\u001b[0m     \u001b[38;5;28;01mwhile\u001b[39;00m \u001b[38;5;129;01mnot\u001b[39;00m e\u001b[38;5;241m.\u001b[39mis_set():\n\u001b[0;32m--> 402\u001b[0m         \u001b[43mwait\u001b[49m\u001b[43m(\u001b[49m\u001b[38;5;241;43m10\u001b[39;49m\u001b[43m)\u001b[49m\n\u001b[1;32m    404\u001b[0m \u001b[38;5;28;01mif\u001b[39;00m error:\n\u001b[1;32m    405\u001b[0m     typ, exc, tb \u001b[38;5;241m=\u001b[39m error\n",
      "File \u001b[0;32m/usr/lib/python3.10/site-packages/distributed/utils.py:391\u001b[0m, in \u001b[0;36msync.<locals>.wait\u001b[0;34m(timeout)\u001b[0m\n\u001b[1;32m    389\u001b[0m \u001b[38;5;28;01mdef\u001b[39;00m \u001b[38;5;21mwait\u001b[39m(timeout):\n\u001b[1;32m    390\u001b[0m     \u001b[38;5;28;01mtry\u001b[39;00m:\n\u001b[0;32m--> 391\u001b[0m         \u001b[38;5;28;01mreturn\u001b[39;00m \u001b[43me\u001b[49m\u001b[38;5;241;43m.\u001b[39;49m\u001b[43mwait\u001b[49m\u001b[43m(\u001b[49m\u001b[43mtimeout\u001b[49m\u001b[43m)\u001b[49m\n\u001b[1;32m    392\u001b[0m     \u001b[38;5;28;01mexcept\u001b[39;00m \u001b[38;5;167;01mKeyboardInterrupt\u001b[39;00m:\n\u001b[1;32m    393\u001b[0m         loop\u001b[38;5;241m.\u001b[39madd_callback(cancel)\n",
      "File \u001b[0;32m/usr/lib/python3.10/threading.py:607\u001b[0m, in \u001b[0;36mEvent.wait\u001b[0;34m(self, timeout)\u001b[0m\n\u001b[1;32m    605\u001b[0m signaled \u001b[38;5;241m=\u001b[39m \u001b[38;5;28mself\u001b[39m\u001b[38;5;241m.\u001b[39m_flag\n\u001b[1;32m    606\u001b[0m \u001b[38;5;28;01mif\u001b[39;00m \u001b[38;5;129;01mnot\u001b[39;00m signaled:\n\u001b[0;32m--> 607\u001b[0m     signaled \u001b[38;5;241m=\u001b[39m \u001b[38;5;28;43mself\u001b[39;49m\u001b[38;5;241;43m.\u001b[39;49m\u001b[43m_cond\u001b[49m\u001b[38;5;241;43m.\u001b[39;49m\u001b[43mwait\u001b[49m\u001b[43m(\u001b[49m\u001b[43mtimeout\u001b[49m\u001b[43m)\u001b[49m\n\u001b[1;32m    608\u001b[0m \u001b[38;5;28;01mreturn\u001b[39;00m signaled\n",
      "File \u001b[0;32m/usr/lib/python3.10/threading.py:324\u001b[0m, in \u001b[0;36mCondition.wait\u001b[0;34m(self, timeout)\u001b[0m\n\u001b[1;32m    322\u001b[0m \u001b[38;5;28;01melse\u001b[39;00m:\n\u001b[1;32m    323\u001b[0m     \u001b[38;5;28;01mif\u001b[39;00m timeout \u001b[38;5;241m>\u001b[39m \u001b[38;5;241m0\u001b[39m:\n\u001b[0;32m--> 324\u001b[0m         gotit \u001b[38;5;241m=\u001b[39m \u001b[43mwaiter\u001b[49m\u001b[38;5;241;43m.\u001b[39;49m\u001b[43macquire\u001b[49m\u001b[43m(\u001b[49m\u001b[38;5;28;43;01mTrue\u001b[39;49;00m\u001b[43m,\u001b[49m\u001b[43m \u001b[49m\u001b[43mtimeout\u001b[49m\u001b[43m)\u001b[49m\n\u001b[1;32m    325\u001b[0m     \u001b[38;5;28;01melse\u001b[39;00m:\n\u001b[1;32m    326\u001b[0m         gotit \u001b[38;5;241m=\u001b[39m waiter\u001b[38;5;241m.\u001b[39macquire(\u001b[38;5;28;01mFalse\u001b[39;00m)\n",
      "\u001b[0;31mKeyboardInterrupt\u001b[0m: "
     ]
    }
   ],
   "source": [
    "%%prun -l 10\n",
    "\n",
    "a=get_interactions(file)"
   ]
  },
  {
   "cell_type": "code",
   "execution_count": 7,
   "id": "1398376c-bedf-4920-b843-aee48859d73a",
   "metadata": {
    "tags": []
   },
   "outputs": [
    {
     "data": {
      "text/html": [
       "<pre style=\"white-space:pre;overflow-x:auto;line-height:normal;font-family:Menlo,'DejaVu Sans Mono',consolas,'Courier New',monospace\">19:24:35.949 | <span style=\"color: #008080; text-decoration-color: #008080\">INFO</span>    | distributed.core - Connection to tcp://127.0.0.1:46904 has been closed.\n",
       "</pre>\n"
      ],
      "text/plain": [
       "19:24:35.949 | \u001b[36mINFO\u001b[0m    | distributed.core - Connection to tcp://127.0.0.1:46904 has been closed.\n"
      ]
     },
     "metadata": {},
     "output_type": "display_data"
    },
    {
     "data": {
      "text/html": [
       "<pre style=\"white-space:pre;overflow-x:auto;line-height:normal;font-family:Menlo,'DejaVu Sans Mono',consolas,'Courier New',monospace\">19:24:35.968 | <span style=\"color: #008080; text-decoration-color: #008080\">INFO</span>    | distributed.scheduler - Remove worker &lt;WorkerState 'tcp://127.0.0.1:44675', name: 1, status: running, memory: 0, processing: 0&gt;\n",
       "</pre>\n"
      ],
      "text/plain": [
       "19:24:35.968 | \u001b[36mINFO\u001b[0m    | distributed.scheduler - Remove worker <WorkerState 'tcp://127.0.0.1:44675', name: 1, status: running, memory: 0, processing: 0>\n"
      ]
     },
     "metadata": {},
     "output_type": "display_data"
    },
    {
     "data": {
      "text/html": [
       "<pre style=\"white-space:pre;overflow-x:auto;line-height:normal;font-family:Menlo,'DejaVu Sans Mono',consolas,'Courier New',monospace\">19:24:35.991 | <span style=\"color: #008080; text-decoration-color: #008080\">INFO</span>    | distributed.core - Removing comms to tcp://127.0.0.1:44675\n",
       "</pre>\n"
      ],
      "text/plain": [
       "19:24:35.991 | \u001b[36mINFO\u001b[0m    | distributed.core - Removing comms to tcp://127.0.0.1:44675\n"
      ]
     },
     "metadata": {},
     "output_type": "display_data"
    },
    {
     "data": {
      "text/html": [
       "<pre style=\"white-space:pre;overflow-x:auto;line-height:normal;font-family:Menlo,'DejaVu Sans Mono',consolas,'Courier New',monospace\">19:24:36.024 | <span style=\"color: #008080; text-decoration-color: #008080\">INFO</span>    | distributed.core - Connection to tcp://127.0.0.1:46894 has been closed.\n",
       "</pre>\n"
      ],
      "text/plain": [
       "19:24:36.024 | \u001b[36mINFO\u001b[0m    | distributed.core - Connection to tcp://127.0.0.1:46894 has been closed.\n"
      ]
     },
     "metadata": {},
     "output_type": "display_data"
    },
    {
     "data": {
      "text/html": [
       "<pre style=\"white-space:pre;overflow-x:auto;line-height:normal;font-family:Menlo,'DejaVu Sans Mono',consolas,'Courier New',monospace\">19:24:36.080 | <span style=\"color: #008080; text-decoration-color: #008080\">INFO</span>    | distributed.scheduler - Remove worker &lt;WorkerState 'tcp://127.0.0.1:44811', name: 0, status: running, memory: 0, processing: 0&gt;\n",
       "</pre>\n"
      ],
      "text/plain": [
       "19:24:36.080 | \u001b[36mINFO\u001b[0m    | distributed.scheduler - Remove worker <WorkerState 'tcp://127.0.0.1:44811', name: 0, status: running, memory: 0, processing: 0>\n"
      ]
     },
     "metadata": {},
     "output_type": "display_data"
    },
    {
     "data": {
      "text/html": [
       "<pre style=\"white-space:pre;overflow-x:auto;line-height:normal;font-family:Menlo,'DejaVu Sans Mono',consolas,'Courier New',monospace\">19:24:36.111 | <span style=\"color: #008080; text-decoration-color: #008080\">INFO</span>    | distributed.core - Removing comms to tcp://127.0.0.1:44811\n",
       "</pre>\n"
      ],
      "text/plain": [
       "19:24:36.111 | \u001b[36mINFO\u001b[0m    | distributed.core - Removing comms to tcp://127.0.0.1:44811\n"
      ]
     },
     "metadata": {},
     "output_type": "display_data"
    },
    {
     "data": {
      "text/html": [
       "<pre style=\"white-space:pre;overflow-x:auto;line-height:normal;font-family:Menlo,'DejaVu Sans Mono',consolas,'Courier New',monospace\">19:24:36.115 | <span style=\"color: #008080; text-decoration-color: #008080\">INFO</span>    | distributed.core - Connection to tcp://127.0.0.1:46922 has been closed.\n",
       "</pre>\n"
      ],
      "text/plain": [
       "19:24:36.115 | \u001b[36mINFO\u001b[0m    | distributed.core - Connection to tcp://127.0.0.1:46922 has been closed.\n"
      ]
     },
     "metadata": {},
     "output_type": "display_data"
    },
    {
     "name": "stderr",
     "output_type": "stream",
     "text": [
      "\n",
      "KeyboardInterrupt\n",
      "\n"
     ]
    },
    {
     "data": {
      "text/html": [
       "<pre style=\"white-space:pre;overflow-x:auto;line-height:normal;font-family:Menlo,'DejaVu Sans Mono',consolas,'Courier New',monospace\">19:24:36.117 | <span style=\"color: #008080; text-decoration-color: #008080\">INFO</span>    | distributed.scheduler - Remove worker &lt;WorkerState 'tcp://127.0.0.1:45287', name: 5, status: running, memory: 0, processing: 0&gt;\n",
       "</pre>\n"
      ],
      "text/plain": [
       "19:24:36.117 | \u001b[36mINFO\u001b[0m    | distributed.scheduler - Remove worker <WorkerState 'tcp://127.0.0.1:45287', name: 5, status: running, memory: 0, processing: 0>\n"
      ]
     },
     "metadata": {},
     "output_type": "display_data"
    },
    {
     "data": {
      "text/html": [
       "<pre style=\"white-space:pre;overflow-x:auto;line-height:normal;font-family:Menlo,'DejaVu Sans Mono',consolas,'Courier New',monospace\">19:24:36.119 | <span style=\"color: #008080; text-decoration-color: #008080\">INFO</span>    | distributed.core - Removing comms to tcp://127.0.0.1:45287\n",
       "</pre>\n"
      ],
      "text/plain": [
       "19:24:36.119 | \u001b[36mINFO\u001b[0m    | distributed.core - Removing comms to tcp://127.0.0.1:45287\n"
      ]
     },
     "metadata": {},
     "output_type": "display_data"
    },
    {
     "data": {
      "text/html": [
       "<pre style=\"white-space:pre;overflow-x:auto;line-height:normal;font-family:Menlo,'DejaVu Sans Mono',consolas,'Courier New',monospace\">19:24:36.123 | <span style=\"color: #008080; text-decoration-color: #008080\">INFO</span>    | distributed.core - Connection to tcp://127.0.0.1:46934 has been closed.\n",
       "</pre>\n"
      ],
      "text/plain": [
       "19:24:36.123 | \u001b[36mINFO\u001b[0m    | distributed.core - Connection to tcp://127.0.0.1:46934 has been closed.\n"
      ]
     },
     "metadata": {},
     "output_type": "display_data"
    },
    {
     "data": {
      "text/html": [
       "<pre style=\"white-space:pre;overflow-x:auto;line-height:normal;font-family:Menlo,'DejaVu Sans Mono',consolas,'Courier New',monospace\">19:24:36.125 | <span style=\"color: #008080; text-decoration-color: #008080\">INFO</span>    | distributed.scheduler - Remove worker &lt;WorkerState 'tcp://127.0.0.1:42593', name: 4, status: running, memory: 0, processing: 0&gt;\n",
       "</pre>\n"
      ],
      "text/plain": [
       "19:24:36.125 | \u001b[36mINFO\u001b[0m    | distributed.scheduler - Remove worker <WorkerState 'tcp://127.0.0.1:42593', name: 4, status: running, memory: 0, processing: 0>\n"
      ]
     },
     "metadata": {},
     "output_type": "display_data"
    },
    {
     "data": {
      "text/html": [
       "<pre style=\"white-space:pre;overflow-x:auto;line-height:normal;font-family:Menlo,'DejaVu Sans Mono',consolas,'Courier New',monospace\">19:24:36.127 | <span style=\"color: #008080; text-decoration-color: #008080\">INFO</span>    | distributed.core - Removing comms to tcp://127.0.0.1:42593\n",
       "</pre>\n"
      ],
      "text/plain": [
       "19:24:36.127 | \u001b[36mINFO\u001b[0m    | distributed.core - Removing comms to tcp://127.0.0.1:42593\n"
      ]
     },
     "metadata": {},
     "output_type": "display_data"
    },
    {
     "data": {
      "text/html": [
       "<pre style=\"white-space:pre;overflow-x:auto;line-height:normal;font-family:Menlo,'DejaVu Sans Mono',consolas,'Courier New',monospace\">19:24:36.129 | <span style=\"color: #008080; text-decoration-color: #008080\">INFO</span>    | distributed.core - Connection to tcp://127.0.0.1:46936 has been closed.\n",
       "</pre>\n"
      ],
      "text/plain": [
       "19:24:36.129 | \u001b[36mINFO\u001b[0m    | distributed.core - Connection to tcp://127.0.0.1:46936 has been closed.\n"
      ]
     },
     "metadata": {},
     "output_type": "display_data"
    },
    {
     "data": {
      "text/html": [
       "<pre style=\"white-space:pre;overflow-x:auto;line-height:normal;font-family:Menlo,'DejaVu Sans Mono',consolas,'Courier New',monospace\">19:24:36.131 | <span style=\"color: #008080; text-decoration-color: #008080\">INFO</span>    | distributed.scheduler - Remove worker &lt;WorkerState 'tcp://127.0.0.1:42225', name: 6, status: running, memory: 0, processing: 0&gt;\n",
       "</pre>\n"
      ],
      "text/plain": [
       "19:24:36.131 | \u001b[36mINFO\u001b[0m    | distributed.scheduler - Remove worker <WorkerState 'tcp://127.0.0.1:42225', name: 6, status: running, memory: 0, processing: 0>\n"
      ]
     },
     "metadata": {},
     "output_type": "display_data"
    },
    {
     "data": {
      "text/html": [
       "<pre style=\"white-space:pre;overflow-x:auto;line-height:normal;font-family:Menlo,'DejaVu Sans Mono',consolas,'Courier New',monospace\">19:24:36.132 | <span style=\"color: #008080; text-decoration-color: #008080\">INFO</span>    | distributed.core - Removing comms to tcp://127.0.0.1:42225\n",
       "</pre>\n"
      ],
      "text/plain": [
       "19:24:36.132 | \u001b[36mINFO\u001b[0m    | distributed.core - Removing comms to tcp://127.0.0.1:42225\n"
      ]
     },
     "metadata": {},
     "output_type": "display_data"
    },
    {
     "data": {
      "text/html": [
       "<pre style=\"white-space:pre;overflow-x:auto;line-height:normal;font-family:Menlo,'DejaVu Sans Mono',consolas,'Courier New',monospace\">19:24:36.134 | <span style=\"color: #008080; text-decoration-color: #008080\">INFO</span>    | distributed.core - Connection to tcp://127.0.0.1:46886 has been closed.\n",
       "</pre>\n"
      ],
      "text/plain": [
       "19:24:36.134 | \u001b[36mINFO\u001b[0m    | distributed.core - Connection to tcp://127.0.0.1:46886 has been closed.\n"
      ]
     },
     "metadata": {},
     "output_type": "display_data"
    },
    {
     "data": {
      "text/html": [
       "<pre style=\"white-space:pre;overflow-x:auto;line-height:normal;font-family:Menlo,'DejaVu Sans Mono',consolas,'Courier New',monospace\">19:24:36.136 | <span style=\"color: #008080; text-decoration-color: #008080\">INFO</span>    | distributed.scheduler - Remove worker &lt;WorkerState 'tcp://127.0.0.1:43855', name: 2, status: running, memory: 0, processing: 0&gt;\n",
       "</pre>\n"
      ],
      "text/plain": [
       "19:24:36.136 | \u001b[36mINFO\u001b[0m    | distributed.scheduler - Remove worker <WorkerState 'tcp://127.0.0.1:43855', name: 2, status: running, memory: 0, processing: 0>\n"
      ]
     },
     "metadata": {},
     "output_type": "display_data"
    },
    {
     "data": {
      "text/html": [
       "<pre style=\"white-space:pre;overflow-x:auto;line-height:normal;font-family:Menlo,'DejaVu Sans Mono',consolas,'Courier New',monospace\">19:24:36.138 | <span style=\"color: #008080; text-decoration-color: #008080\">INFO</span>    | distributed.core - Removing comms to tcp://127.0.0.1:43855\n",
       "</pre>\n"
      ],
      "text/plain": [
       "19:24:36.138 | \u001b[36mINFO\u001b[0m    | distributed.core - Removing comms to tcp://127.0.0.1:43855\n"
      ]
     },
     "metadata": {},
     "output_type": "display_data"
    },
    {
     "name": "stderr",
     "output_type": "stream",
     "text": [
      "Process Dask Worker process (from Nanny):\n",
      "Process Dask Worker process (from Nanny):\n",
      "Process Dask Worker process (from Nanny):\n",
      "2023-04-23 19:24:36,253 - distributed.nanny - ERROR - Worker process died unexpectedly\n",
      "Process Dask Worker process (from Nanny):\n",
      "Process Dask Worker process (from Nanny):\n",
      "Process Dask Worker process (from Nanny):\n",
      "Process Dask Worker process (from Nanny):\n",
      "2023-04-23 19:24:36,253 - distributed.nanny - ERROR - Worker process died unexpectedly\n",
      "Traceback (most recent call last):\n",
      "  File \"/usr/lib/python3.10/asyncio/runners.py\", line 44, in run\n",
      "    return loop.run_until_complete(main)\n",
      "  File \"/usr/lib/python3.10/asyncio/base_events.py\", line 636, in run_until_complete\n",
      "    self.run_forever()\n",
      "  File \"/usr/lib/python3.10/asyncio/base_events.py\", line 603, in run_forever\n",
      "    self._run_once()\n",
      "  File \"/usr/lib/python3.10/asyncio/base_events.py\", line 1871, in _run_once\n",
      "    event_list = self._selector.select(timeout)\n",
      "  File \"/usr/lib/python3.10/selectors.py\", line 469, in select\n",
      "    fd_event_list = self._selector.poll(timeout, max_ev)\n",
      "KeyboardInterrupt\n",
      "\n",
      "During handling of the above exception, another exception occurred:\n",
      "\n",
      "Traceback (most recent call last):\n",
      "  File \"/usr/lib/python3.10/site-packages/distributed/nanny.py\", line 981, in _run\n",
      "    asyncio.run(run())\n",
      "  File \"/usr/lib/python3.10/asyncio/runners.py\", line 47, in run\n",
      "    _cancel_all_tasks(loop)\n",
      "  File \"/usr/lib/python3.10/asyncio/runners.py\", line 63, in _cancel_all_tasks\n",
      "    loop.run_until_complete(tasks.gather(*to_cancel, return_exceptions=True))\n",
      "Traceback (most recent call last):\n",
      "  File \"/usr/lib/python3.10/asyncio/base_events.py\", line 636, in run_until_complete\n",
      "    self.run_forever()\n",
      "  File \"/usr/lib/python3.10/asyncio/base_events.py\", line 603, in run_forever\n",
      "    self._run_once()\n",
      "  File \"/usr/lib/python3.10/asyncio/base_events.py\", line 1871, in _run_once\n",
      "    event_list = self._selector.select(timeout)\n",
      "  File \"/usr/lib/python3.10/selectors.py\", line 469, in select\n",
      "    fd_event_list = self._selector.poll(timeout, max_ev)\n",
      "KeyboardInterrupt\n",
      "\n",
      "During handling of the above exception, another exception occurred:\n",
      "\n",
      "Traceback (most recent call last):\n",
      "  File \"/usr/lib/python3.10/asyncio/runners.py\", line 44, in run\n",
      "    return loop.run_until_complete(main)\n",
      "  File \"/usr/lib/python3.10/asyncio/base_events.py\", line 636, in run_until_complete\n",
      "    self.run_forever()\n",
      "  File \"/usr/lib/python3.10/multiprocessing/process.py\", line 314, in _bootstrap\n",
      "    self.run()\n",
      "  File \"/usr/lib/python3.10/multiprocessing/process.py\", line 108, in run\n",
      "    self._target(*self._args, **self._kwargs)\n",
      "  File \"/usr/lib/python3.10/asyncio/base_events.py\", line 603, in run_forever\n",
      "    self._run_once()\n",
      "  File \"/usr/lib/python3.10/site-packages/distributed/process.py\", line 188, in _run\n",
      "    target(*args, **kwargs)\n",
      "  File \"/usr/lib/python3.10/site-packages/distributed/nanny.py\", line 955, in _run\n",
      "    with contextlib.ExitStack() as stack:\n",
      "  File \"/usr/lib/python3.10/asyncio/base_events.py\", line 1871, in _run_once\n",
      "    event_list = self._selector.select(timeout)\n",
      "  File \"/usr/lib/python3.10/contextlib.py\", line 576, in __exit__\n",
      "    raise exc_details[1]\n",
      "  File \"/usr/lib/python3.10/selectors.py\", line 469, in select\n",
      "    fd_event_list = self._selector.poll(timeout, max_ev)\n",
      "  File \"/usr/lib/python3.10/contextlib.py\", line 561, in __exit__\n",
      "    if cb(*exc_details):\n",
      "  File \"/usr/lib/python3.10/contextlib.py\", line 449, in _exit_wrapper\n",
      "    callback(*args, **kwds)\n",
      "  File \"/usr/lib/python3.10/threading.py\", line 1100, in join\n",
      "    self._wait_for_tstate_lock(timeout=max(timeout, 0))\n",
      "  File \"/usr/lib/python3.10/threading.py\", line 1116, in _wait_for_tstate_lock\n",
      "    if lock.acquire(block, timeout):\n",
      "KeyboardInterrupt\n",
      "KeyboardInterrupt\n",
      "\n",
      "During handling of the above exception, another exception occurred:\n",
      "\n",
      "Traceback (most recent call last):\n",
      "  File \"/usr/lib/python3.10/site-packages/distributed/nanny.py\", line 981, in _run\n",
      "    asyncio.run(run())\n",
      "  File \"/usr/lib/python3.10/asyncio/runners.py\", line 47, in run\n",
      "    _cancel_all_tasks(loop)\n",
      "  File \"/usr/lib/python3.10/asyncio/runners.py\", line 63, in _cancel_all_tasks\n",
      "    loop.run_until_complete(tasks.gather(*to_cancel, return_exceptions=True))\n",
      "  File \"/usr/lib/python3.10/asyncio/base_events.py\", line 636, in run_until_complete\n",
      "    self.run_forever()\n",
      "  File \"/usr/lib/python3.10/asyncio/base_events.py\", line 603, in run_forever\n",
      "    self._run_once()\n",
      "  File \"/usr/lib/python3.10/asyncio/base_events.py\", line 1871, in _run_once\n",
      "    event_list = self._selector.select(timeout)\n",
      "  File \"/usr/lib/python3.10/selectors.py\", line 469, in select\n",
      "    fd_event_list = self._selector.poll(timeout, max_ev)\n",
      "KeyboardInterrupt\n",
      "\n",
      "During handling of the above exception, another exception occurred:\n",
      "\n",
      "Traceback (most recent call last):\n",
      "  File \"/usr/lib/python3.10/multiprocessing/process.py\", line 314, in _bootstrap\n",
      "    self.run()\n",
      "  File \"/usr/lib/python3.10/multiprocessing/process.py\", line 108, in run\n",
      "    self._target(*self._args, **self._kwargs)\n",
      "  File \"/usr/lib/python3.10/site-packages/distributed/process.py\", line 188, in _run\n",
      "    target(*args, **kwargs)\n",
      "  File \"/usr/lib/python3.10/site-packages/distributed/nanny.py\", line 955, in _run\n",
      "    with contextlib.ExitStack() as stack:\n",
      "  File \"/usr/lib/python3.10/contextlib.py\", line 576, in __exit__\n",
      "    raise exc_details[1]\n",
      "  File \"/usr/lib/python3.10/contextlib.py\", line 561, in __exit__\n",
      "    if cb(*exc_details):\n",
      "  File \"/usr/lib/python3.10/contextlib.py\", line 449, in _exit_wrapper\n",
      "    callback(*args, **kwds)\n",
      "  File \"/usr/lib/python3.10/threading.py\", line 1100, in join\n",
      "    self._wait_for_tstate_lock(timeout=max(timeout, 0))\n",
      "  File \"/usr/lib/python3.10/threading.py\", line 1116, in _wait_for_tstate_lock\n",
      "    if lock.acquire(block, timeout):\n",
      "KeyboardInterrupt\n",
      "Traceback (most recent call last):\n",
      "  File \"/usr/lib/python3.10/asyncio/runners.py\", line 44, in run\n",
      "    return loop.run_until_complete(main)\n",
      "  File \"/usr/lib/python3.10/asyncio/base_events.py\", line 636, in run_until_complete\n",
      "    self.run_forever()\n",
      "  File \"/usr/lib/python3.10/asyncio/base_events.py\", line 603, in run_forever\n",
      "    self._run_once()\n",
      "  File \"/usr/lib/python3.10/asyncio/base_events.py\", line 1871, in _run_once\n",
      "    event_list = self._selector.select(timeout)\n",
      "  File \"/usr/lib/python3.10/selectors.py\", line 469, in select\n",
      "    fd_event_list = self._selector.poll(timeout, max_ev)\n",
      "KeyboardInterrupt\n",
      "\n",
      "During handling of the above exception, another exception occurred:\n",
      "\n",
      "Traceback (most recent call last):\n",
      "  File \"/usr/lib/python3.10/site-packages/distributed/nanny.py\", line 981, in _run\n",
      "    asyncio.run(run())\n",
      "  File \"/usr/lib/python3.10/asyncio/runners.py\", line 47, in run\n",
      "    _cancel_all_tasks(loop)\n",
      "  File \"/usr/lib/python3.10/asyncio/runners.py\", line 63, in _cancel_all_tasks\n",
      "    loop.run_until_complete(tasks.gather(*to_cancel, return_exceptions=True))\n",
      "Traceback (most recent call last):\n",
      "  File \"/usr/lib/python3.10/asyncio/base_events.py\", line 636, in run_until_complete\n",
      "    self.run_forever()\n",
      "  File \"/usr/lib/python3.10/asyncio/base_events.py\", line 603, in run_forever\n",
      "    self._run_once()\n",
      "  File \"/usr/lib/python3.10/asyncio/base_events.py\", line 1871, in _run_once\n",
      "    event_list = self._selector.select(timeout)\n",
      "  File \"/usr/lib/python3.10/selectors.py\", line 469, in select\n",
      "    fd_event_list = self._selector.poll(timeout, max_ev)\n",
      "KeyboardInterrupt\n",
      "\n",
      "During handling of the above exception, another exception occurred:\n",
      "\n",
      "Traceback (most recent call last):\n",
      "  File \"/usr/lib/python3.10/asyncio/runners.py\", line 44, in run\n",
      "    return loop.run_until_complete(main)\n",
      "  File \"/usr/lib/python3.10/asyncio/base_events.py\", line 636, in run_until_complete\n",
      "    self.run_forever()\n",
      "  File \"/usr/lib/python3.10/asyncio/base_events.py\", line 603, in run_forever\n",
      "    self._run_once()\n",
      "  File \"/usr/lib/python3.10/asyncio/base_events.py\", line 1871, in _run_once\n",
      "    event_list = self._selector.select(timeout)\n",
      "  File \"/usr/lib/python3.10/selectors.py\", line 469, in select\n",
      "    fd_event_list = self._selector.poll(timeout, max_ev)\n",
      "KeyboardInterrupt\n",
      "\n",
      "During handling of the above exception, another exception occurred:\n",
      "\n",
      "Traceback (most recent call last):\n",
      "  File \"/usr/lib/python3.10/multiprocessing/process.py\", line 314, in _bootstrap\n",
      "    self.run()\n",
      "  File \"/usr/lib/python3.10/multiprocessing/process.py\", line 108, in run\n",
      "    self._target(*self._args, **self._kwargs)\n",
      "  File \"/usr/lib/python3.10/site-packages/distributed/process.py\", line 188, in _run\n",
      "    target(*args, **kwargs)\n",
      "  File \"/usr/lib/python3.10/site-packages/distributed/nanny.py\", line 955, in _run\n",
      "    with contextlib.ExitStack() as stack:\n",
      "  File \"/usr/lib/python3.10/contextlib.py\", line 576, in __exit__\n",
      "    raise exc_details[1]\n",
      "  File \"/usr/lib/python3.10/contextlib.py\", line 561, in __exit__\n",
      "    if cb(*exc_details):\n",
      "  File \"/usr/lib/python3.10/contextlib.py\", line 449, in _exit_wrapper\n",
      "    callback(*args, **kwds)\n",
      "  File \"/usr/lib/python3.10/threading.py\", line 1100, in join\n",
      "    self._wait_for_tstate_lock(timeout=max(timeout, 0))\n",
      "  File \"/usr/lib/python3.10/threading.py\", line 1116, in _wait_for_tstate_lock\n",
      "    if lock.acquire(block, timeout):\n",
      "  File \"/usr/lib/python3.10/site-packages/distributed/nanny.py\", line 981, in _run\n",
      "    asyncio.run(run())\n",
      "  File \"/usr/lib/python3.10/asyncio/runners.py\", line 47, in run\n",
      "    _cancel_all_tasks(loop)\n",
      "  File \"/usr/lib/python3.10/asyncio/runners.py\", line 63, in _cancel_all_tasks\n",
      "    loop.run_until_complete(tasks.gather(*to_cancel, return_exceptions=True))\n",
      "KeyboardInterrupt\n",
      "  File \"/usr/lib/python3.10/asyncio/base_events.py\", line 636, in run_until_complete\n",
      "    self.run_forever()\n",
      "  File \"/usr/lib/python3.10/asyncio/base_events.py\", line 603, in run_forever\n",
      "    self._run_once()\n",
      "  File \"/usr/lib/python3.10/asyncio/base_events.py\", line 1871, in _run_once\n",
      "    event_list = self._selector.select(timeout)\n",
      "  File \"/usr/lib/python3.10/selectors.py\", line 469, in select\n",
      "    fd_event_list = self._selector.poll(timeout, max_ev)\n",
      "KeyboardInterrupt\n",
      "\n",
      "During handling of the above exception, another exception occurred:\n",
      "\n",
      "Traceback (most recent call last):\n",
      "  File \"/usr/lib/python3.10/multiprocessing/process.py\", line 314, in _bootstrap\n",
      "    self.run()\n",
      "  File \"/usr/lib/python3.10/multiprocessing/process.py\", line 108, in run\n",
      "    self._target(*self._args, **self._kwargs)\n",
      "  File \"/usr/lib/python3.10/site-packages/distributed/process.py\", line 188, in _run\n",
      "    target(*args, **kwargs)\n",
      "  File \"/usr/lib/python3.10/site-packages/distributed/nanny.py\", line 955, in _run\n",
      "    with contextlib.ExitStack() as stack:\n",
      "  File \"/usr/lib/python3.10/contextlib.py\", line 576, in __exit__\n",
      "    raise exc_details[1]\n",
      "  File \"/usr/lib/python3.10/contextlib.py\", line 561, in __exit__\n",
      "    if cb(*exc_details):\n",
      "  File \"/usr/lib/python3.10/contextlib.py\", line 449, in _exit_wrapper\n",
      "    callback(*args, **kwds)\n",
      "  File \"/usr/lib/python3.10/threading.py\", line 1100, in join\n",
      "    self._wait_for_tstate_lock(timeout=max(timeout, 0))\n",
      "  File \"/usr/lib/python3.10/threading.py\", line 1116, in _wait_for_tstate_lock\n",
      "    if lock.acquire(block, timeout):\n",
      "KeyboardInterrupt\n",
      "Traceback (most recent call last):\n",
      "  File \"/usr/lib/python3.10/asyncio/runners.py\", line 44, in run\n",
      "    return loop.run_until_complete(main)\n",
      "  File \"/usr/lib/python3.10/asyncio/base_events.py\", line 636, in run_until_complete\n",
      "    self.run_forever()\n",
      "  File \"/usr/lib/python3.10/asyncio/base_events.py\", line 603, in run_forever\n",
      "    self._run_once()\n",
      "  File \"/usr/lib/python3.10/asyncio/base_events.py\", line 1871, in _run_once\n",
      "    event_list = self._selector.select(timeout)\n",
      "  File \"/usr/lib/python3.10/selectors.py\", line 469, in select\n",
      "    fd_event_list = self._selector.poll(timeout, max_ev)\n",
      "KeyboardInterrupt\n",
      "Traceback (most recent call last):\n",
      "\n",
      "During handling of the above exception, another exception occurred:\n",
      "\n",
      "Traceback (most recent call last):\n",
      "  File \"/usr/lib/python3.10/asyncio/runners.py\", line 44, in run\n",
      "    return loop.run_until_complete(main)\n",
      "  File \"/usr/lib/python3.10/site-packages/distributed/nanny.py\", line 981, in _run\n",
      "    asyncio.run(run())\n",
      "  File \"/usr/lib/python3.10/asyncio/base_events.py\", line 636, in run_until_complete\n",
      "    self.run_forever()\n",
      "  File \"/usr/lib/python3.10/asyncio/runners.py\", line 47, in run\n",
      "    _cancel_all_tasks(loop)\n",
      "  File \"/usr/lib/python3.10/asyncio/base_events.py\", line 603, in run_forever\n",
      "    self._run_once()\n",
      "  File \"/usr/lib/python3.10/asyncio/runners.py\", line 63, in _cancel_all_tasks\n",
      "    loop.run_until_complete(tasks.gather(*to_cancel, return_exceptions=True))\n",
      "  File \"/usr/lib/python3.10/asyncio/base_events.py\", line 1871, in _run_once\n",
      "    event_list = self._selector.select(timeout)\n",
      "  File \"/usr/lib/python3.10/asyncio/base_events.py\", line 636, in run_until_complete\n",
      "    self.run_forever()\n",
      "  File \"/usr/lib/python3.10/asyncio/base_events.py\", line 603, in run_forever\n",
      "    self._run_once()\n",
      "  File \"/usr/lib/python3.10/selectors.py\", line 469, in select\n",
      "    fd_event_list = self._selector.poll(timeout, max_ev)\n",
      "  File \"/usr/lib/python3.10/asyncio/base_events.py\", line 1871, in _run_once\n",
      "    event_list = self._selector.select(timeout)\n",
      "  File \"/usr/lib/python3.10/selectors.py\", line 469, in select\n",
      "    fd_event_list = self._selector.poll(timeout, max_ev)\n",
      "KeyboardInterrupt\n",
      "KeyboardInterrupt\n",
      "\n",
      "During handling of the above exception, another exception occurred:\n",
      "\n",
      "\n",
      "During handling of the above exception, another exception occurred:\n",
      "\n",
      "Traceback (most recent call last):\n",
      "Traceback (most recent call last):\n",
      "  File \"/usr/lib/python3.10/site-packages/distributed/nanny.py\", line 981, in _run\n",
      "    asyncio.run(run())\n",
      "  File \"/usr/lib/python3.10/asyncio/runners.py\", line 47, in run\n",
      "    _cancel_all_tasks(loop)\n",
      "  File \"/usr/lib/python3.10/asyncio/runners.py\", line 63, in _cancel_all_tasks\n",
      "    loop.run_until_complete(tasks.gather(*to_cancel, return_exceptions=True))\n",
      "  File \"/usr/lib/python3.10/multiprocessing/process.py\", line 314, in _bootstrap\n",
      "    self.run()\n",
      "  File \"/usr/lib/python3.10/asyncio/base_events.py\", line 636, in run_until_complete\n",
      "    self.run_forever()\n",
      "  File \"/usr/lib/python3.10/multiprocessing/process.py\", line 108, in run\n",
      "    self._target(*self._args, **self._kwargs)\n",
      "  File \"/usr/lib/python3.10/asyncio/base_events.py\", line 603, in run_forever\n",
      "    self._run_once()\n",
      "  File \"/usr/lib/python3.10/site-packages/distributed/process.py\", line 188, in _run\n",
      "    target(*args, **kwargs)\n",
      "  File \"/usr/lib/python3.10/asyncio/base_events.py\", line 1871, in _run_once\n",
      "    event_list = self._selector.select(timeout)\n",
      "  File \"/usr/lib/python3.10/site-packages/distributed/nanny.py\", line 955, in _run\n",
      "    with contextlib.ExitStack() as stack:\n",
      "  File \"/usr/lib/python3.10/selectors.py\", line 469, in select\n",
      "    fd_event_list = self._selector.poll(timeout, max_ev)\n",
      "  File \"/usr/lib/python3.10/contextlib.py\", line 576, in __exit__\n",
      "    raise exc_details[1]\n",
      "  File \"/usr/lib/python3.10/contextlib.py\", line 561, in __exit__\n",
      "    if cb(*exc_details):\n",
      "  File \"/usr/lib/python3.10/contextlib.py\", line 449, in _exit_wrapper\n",
      "    callback(*args, **kwds)\n",
      "KeyboardInterrupt\n",
      "  File \"/usr/lib/python3.10/threading.py\", line 1100, in join\n",
      "    self._wait_for_tstate_lock(timeout=max(timeout, 0))\n",
      "\n",
      "During handling of the above exception, another exception occurred:\n",
      "\n",
      "  File \"/usr/lib/python3.10/threading.py\", line 1116, in _wait_for_tstate_lock\n",
      "    if lock.acquire(block, timeout):\n",
      "Traceback (most recent call last):\n",
      "KeyboardInterrupt\n",
      "  File \"/usr/lib/python3.10/multiprocessing/process.py\", line 314, in _bootstrap\n",
      "    self.run()\n",
      "  File \"/usr/lib/python3.10/multiprocessing/process.py\", line 108, in run\n",
      "    self._target(*self._args, **self._kwargs)\n",
      "  File \"/usr/lib/python3.10/site-packages/distributed/process.py\", line 188, in _run\n",
      "    target(*args, **kwargs)\n",
      "  File \"/usr/lib/python3.10/site-packages/distributed/nanny.py\", line 955, in _run\n",
      "    with contextlib.ExitStack() as stack:\n",
      "  File \"/usr/lib/python3.10/contextlib.py\", line 576, in __exit__\n",
      "    raise exc_details[1]\n",
      "  File \"/usr/lib/python3.10/contextlib.py\", line 561, in __exit__\n",
      "    if cb(*exc_details):\n",
      "  File \"/usr/lib/python3.10/contextlib.py\", line 449, in _exit_wrapper\n",
      "    callback(*args, **kwds)\n",
      "  File \"/usr/lib/python3.10/threading.py\", line 1100, in join\n",
      "    self._wait_for_tstate_lock(timeout=max(timeout, 0))\n",
      "  File \"/usr/lib/python3.10/threading.py\", line 1116, in _wait_for_tstate_lock\n",
      "    if lock.acquire(block, timeout):\n",
      "KeyboardInterrupt\n",
      "Traceback (most recent call last):\n",
      "  File \"/usr/lib/python3.10/site-packages/distributed/nanny.py\", line 981, in _run\n",
      "    asyncio.run(run())\n",
      "  File \"/usr/lib/python3.10/asyncio/runners.py\", line 47, in run\n",
      "    _cancel_all_tasks(loop)\n",
      "  File \"/usr/lib/python3.10/asyncio/runners.py\", line 63, in _cancel_all_tasks\n",
      "    loop.run_until_complete(tasks.gather(*to_cancel, return_exceptions=True))\n",
      "  File \"/usr/lib/python3.10/asyncio/base_events.py\", line 636, in run_until_complete\n",
      "    self.run_forever()\n",
      "  File \"/usr/lib/python3.10/asyncio/base_events.py\", line 603, in run_forever\n",
      "    self._run_once()\n",
      "  File \"/usr/lib/python3.10/asyncio/base_events.py\", line 1909, in _run_once\n",
      "    handle._run()\n",
      "  File \"/usr/lib/python3.10/asyncio/events.py\", line 80, in _run\n",
      "    self._context.run(self._callback, *self._args)\n",
      "  File \"/usr/lib/python3.10/site-packages/tornado/ioloop.py\", line 687, in <lambda>\n",
      "    lambda f: self._run_callback(functools.partial(callback, future))\n",
      "  File \"/usr/lib/python3.10/site-packages/tornado/ioloop.py\", line 740, in _run_callback\n",
      "    ret = callback()\n",
      "  File \"/usr/lib/python3.10/site-packages/tornado/ioloop.py\", line 764, in _discard_future_result\n",
      "    future.result()\n",
      "  File \"/usr/lib/python3.10/site-packages/tornado/ioloop.py\", line 923, in _run\n",
      "    await val\n",
      "  File \"/usr/lib/python3.10/site-packages/distributed/worker.py\", line 1215, in heartbeat\n",
      "    response = await retry_operation(\n",
      "  File \"/usr/lib/python3.10/site-packages/distributed/utils_comm.py\", line 400, in retry_operation\n",
      "    return await retry(\n",
      "  File \"/usr/lib/python3.10/site-packages/distributed/utils_comm.py\", line 385, in retry\n",
      "    return await coro()\n",
      "  File \"/usr/lib/python3.10/site-packages/distributed/core.py\", line 1221, in send_recv_from_rpc\n",
      "    return await send_recv(comm=comm, op=key, **kwargs)\n",
      "  File \"/usr/lib/python3.10/site-packages/distributed/core.py\", line 984, in send_recv\n",
      "    await comm.write(msg, serializers=serializers, on_error=\"raise\")\n",
      "  File \"/usr/lib/python3.10/site-packages/distributed/comm/tcp.py\", line 323, in write\n",
      "    stream.write(b\"\")\n",
      "  File \"/usr/lib/python3.10/site-packages/tornado/iostream.py\", line 546, in write\n"
     ]
    },
    {
     "data": {
      "text/html": [
       "<pre style=\"white-space:pre;overflow-x:auto;line-height:normal;font-family:Menlo,'DejaVu Sans Mono',consolas,'Courier New',monospace\">19:24:36.553 | <span style=\"color: #008080; text-decoration-color: #008080\">INFO</span>    | distributed.nanny - Worker process 10160 exited with status 1\n",
       "</pre>\n"
      ],
      "text/plain": [
       "19:24:36.553 | \u001b[36mINFO\u001b[0m    | distributed.nanny - Worker process 10160 exited with status 1\n"
      ]
     },
     "metadata": {},
     "output_type": "display_data"
    },
    {
     "data": {
      "text/html": [
       "<pre style=\"white-space:pre;overflow-x:auto;line-height:normal;font-family:Menlo,'DejaVu Sans Mono',consolas,'Courier New',monospace\">19:24:36.557 | <span style=\"color: #008080; text-decoration-color: #008080\">INFO</span>    | distributed.comm.tcp - Connection from tcp://127.0.0.1:35964 closed before handshake completed\n",
       "</pre>\n"
      ],
      "text/plain": [
       "19:24:36.557 | \u001b[36mINFO\u001b[0m    | distributed.comm.tcp - Connection from tcp://127.0.0.1:35964 closed before handshake completed\n"
      ]
     },
     "metadata": {},
     "output_type": "display_data"
    },
    {
     "name": "stderr",
     "output_type": "stream",
     "text": [
      "2023-04-23 19:24:36,560 - distributed.nanny - WARNING - Restarting worker\n"
     ]
    },
    {
     "data": {
      "text/html": [
       "<pre style=\"white-space:pre;overflow-x:auto;line-height:normal;font-family:Menlo,'DejaVu Sans Mono',consolas,'Courier New',monospace\">19:24:36.560 | <span style=\"color: #d7d700; text-decoration-color: #d7d700\">WARNING</span> | distributed.nanny - Restarting worker\n",
       "</pre>\n"
      ],
      "text/plain": [
       "19:24:36.560 | \u001b[38;5;184mWARNING\u001b[0m | distributed.nanny - Restarting worker\n"
      ]
     },
     "metadata": {},
     "output_type": "display_data"
    },
    {
     "data": {
      "text/html": [
       "<pre style=\"white-space:pre;overflow-x:auto;line-height:normal;font-family:Menlo,'DejaVu Sans Mono',consolas,'Courier New',monospace\">19:24:36.568 | <span style=\"color: #008080; text-decoration-color: #008080\">INFO</span>    | distributed.nanny - Worker process 10155 exited with status 1\n",
       "</pre>\n"
      ],
      "text/plain": [
       "19:24:36.568 | \u001b[36mINFO\u001b[0m    | distributed.nanny - Worker process 10155 exited with status 1\n"
      ]
     },
     "metadata": {},
     "output_type": "display_data"
    },
    {
     "data": {
      "text/html": [
       "<pre style=\"white-space:pre;overflow-x:auto;line-height:normal;font-family:Menlo,'DejaVu Sans Mono',consolas,'Courier New',monospace\">19:24:36.571 | <span style=\"color: #008080; text-decoration-color: #008080\">INFO</span>    | distributed.nanny - Worker process 10169 exited with status 1\n",
       "</pre>\n"
      ],
      "text/plain": [
       "19:24:36.571 | \u001b[36mINFO\u001b[0m    | distributed.nanny - Worker process 10169 exited with status 1\n"
      ]
     },
     "metadata": {},
     "output_type": "display_data"
    },
    {
     "data": {
      "text/html": [
       "<pre style=\"white-space:pre;overflow-x:auto;line-height:normal;font-family:Menlo,'DejaVu Sans Mono',consolas,'Courier New',monospace\">19:24:36.573 | <span style=\"color: #008080; text-decoration-color: #008080\">INFO</span>    | distributed.nanny - Worker process 10164 exited with status 1\n",
       "</pre>\n"
      ],
      "text/plain": [
       "19:24:36.573 | \u001b[36mINFO\u001b[0m    | distributed.nanny - Worker process 10164 exited with status 1\n"
      ]
     },
     "metadata": {},
     "output_type": "display_data"
    },
    {
     "data": {
      "text/html": [
       "<pre style=\"white-space:pre;overflow-x:auto;line-height:normal;font-family:Menlo,'DejaVu Sans Mono',consolas,'Courier New',monospace\">19:24:36.577 | <span style=\"color: #008080; text-decoration-color: #008080\">INFO</span>    | distributed.nanny - Worker process 10158 exited with status 1\n",
       "</pre>\n"
      ],
      "text/plain": [
       "19:24:36.577 | \u001b[36mINFO\u001b[0m    | distributed.nanny - Worker process 10158 exited with status 1\n"
      ]
     },
     "metadata": {},
     "output_type": "display_data"
    },
    {
     "data": {
      "text/html": [
       "<pre style=\"white-space:pre;overflow-x:auto;line-height:normal;font-family:Menlo,'DejaVu Sans Mono',consolas,'Courier New',monospace\">19:24:36.580 | <span style=\"color: #008080; text-decoration-color: #008080\">INFO</span>    | distributed.comm.tcp - Connection from tcp://127.0.0.1:38358 closed before handshake completed\n",
       "</pre>\n"
      ],
      "text/plain": [
       "19:24:36.580 | \u001b[36mINFO\u001b[0m    | distributed.comm.tcp - Connection from tcp://127.0.0.1:38358 closed before handshake completed\n"
      ]
     },
     "metadata": {},
     "output_type": "display_data"
    },
    {
     "data": {
      "text/html": [
       "<pre style=\"white-space:pre;overflow-x:auto;line-height:normal;font-family:Menlo,'DejaVu Sans Mono',consolas,'Courier New',monospace\">19:24:36.581 | <span style=\"color: #008080; text-decoration-color: #008080\">INFO</span>    | distributed.comm.tcp - Connection from tcp://127.0.0.1:55984 closed before handshake completed\n",
       "</pre>\n"
      ],
      "text/plain": [
       "19:24:36.581 | \u001b[36mINFO\u001b[0m    | distributed.comm.tcp - Connection from tcp://127.0.0.1:55984 closed before handshake completed\n"
      ]
     },
     "metadata": {},
     "output_type": "display_data"
    },
    {
     "data": {
      "text/html": [
       "<pre style=\"white-space:pre;overflow-x:auto;line-height:normal;font-family:Menlo,'DejaVu Sans Mono',consolas,'Courier New',monospace\">19:24:36.583 | <span style=\"color: #008080; text-decoration-color: #008080\">INFO</span>    | distributed.nanny - Worker process 10172 exited with status 1\n",
       "</pre>\n"
      ],
      "text/plain": [
       "19:24:36.583 | \u001b[36mINFO\u001b[0m    | distributed.nanny - Worker process 10172 exited with status 1\n"
      ]
     },
     "metadata": {},
     "output_type": "display_data"
    },
    {
     "name": "stderr",
     "output_type": "stream",
     "text": [
      "    self._handle_write()\n"
     ]
    },
    {
     "data": {
      "text/html": [
       "<pre style=\"white-space:pre;overflow-x:auto;line-height:normal;font-family:Menlo,'DejaVu Sans Mono',consolas,'Courier New',monospace\">19:24:36.587 | <span style=\"color: #008080; text-decoration-color: #008080\">INFO</span>    | distributed.comm.tcp - Connection from tcp://127.0.0.1:58700 closed before handshake completed\n",
       "</pre>\n"
      ],
      "text/plain": [
       "19:24:36.587 | \u001b[36mINFO\u001b[0m    | distributed.comm.tcp - Connection from tcp://127.0.0.1:58700 closed before handshake completed\n"
      ]
     },
     "metadata": {},
     "output_type": "display_data"
    },
    {
     "data": {
      "text/html": [
       "<pre style=\"white-space:pre;overflow-x:auto;line-height:normal;font-family:Menlo,'DejaVu Sans Mono',consolas,'Courier New',monospace\">19:24:36.590 | <span style=\"color: #008080; text-decoration-color: #008080\">INFO</span>    | distributed.comm.tcp - Connection from tcp://127.0.0.1:34446 closed before handshake completed\n",
       "</pre>\n"
      ],
      "text/plain": [
       "19:24:36.590 | \u001b[36mINFO\u001b[0m    | distributed.comm.tcp - Connection from tcp://127.0.0.1:34446 closed before handshake completed\n"
      ]
     },
     "metadata": {},
     "output_type": "display_data"
    },
    {
     "data": {
      "text/html": [
       "<pre style=\"white-space:pre;overflow-x:auto;line-height:normal;font-family:Menlo,'DejaVu Sans Mono',consolas,'Courier New',monospace\">19:24:36.592 | <span style=\"color: #008080; text-decoration-color: #008080\">INFO</span>    | distributed.comm.tcp - Connection from tcp://127.0.0.1:47674 closed before handshake completed\n",
       "</pre>\n"
      ],
      "text/plain": [
       "19:24:36.592 | \u001b[36mINFO\u001b[0m    | distributed.comm.tcp - Connection from tcp://127.0.0.1:47674 closed before handshake completed\n"
      ]
     },
     "metadata": {},
     "output_type": "display_data"
    },
    {
     "name": "stderr",
     "output_type": "stream",
     "text": [
      "2023-04-23 19:24:36,595 - distributed.nanny - WARNING - Restarting worker\n"
     ]
    },
    {
     "data": {
      "text/html": [
       "<pre style=\"white-space:pre;overflow-x:auto;line-height:normal;font-family:Menlo,'DejaVu Sans Mono',consolas,'Courier New',monospace\">19:24:36.595 | <span style=\"color: #d7d700; text-decoration-color: #d7d700\">WARNING</span> | distributed.nanny - Restarting worker\n",
       "</pre>\n"
      ],
      "text/plain": [
       "19:24:36.595 | \u001b[38;5;184mWARNING\u001b[0m | distributed.nanny - Restarting worker\n"
      ]
     },
     "metadata": {},
     "output_type": "display_data"
    },
    {
     "name": "stderr",
     "output_type": "stream",
     "text": [
      "2023-04-23 19:24:36,598 - distributed.nanny - WARNING - Restarting worker\n",
      "  File \"/usr/lib/python3.10/site-packages/tornado/iostream.py\", line 973, in _handle_write\n"
     ]
    },
    {
     "data": {
      "text/html": [
       "<pre style=\"white-space:pre;overflow-x:auto;line-height:normal;font-family:Menlo,'DejaVu Sans Mono',consolas,'Courier New',monospace\">19:24:36.598 | <span style=\"color: #d7d700; text-decoration-color: #d7d700\">WARNING</span> | distributed.nanny - Restarting worker\n",
       "</pre>\n"
      ],
      "text/plain": [
       "19:24:36.598 | \u001b[38;5;184mWARNING\u001b[0m | distributed.nanny - Restarting worker\n"
      ]
     },
     "metadata": {},
     "output_type": "display_data"
    },
    {
     "name": "stderr",
     "output_type": "stream",
     "text": [
      "2023-04-23 19:24:36,604 - distributed.nanny - WARNING - Restarting worker\n"
     ]
    },
    {
     "data": {
      "text/html": [
       "<pre style=\"white-space:pre;overflow-x:auto;line-height:normal;font-family:Menlo,'DejaVu Sans Mono',consolas,'Courier New',monospace\">19:24:36.604 | <span style=\"color: #d7d700; text-decoration-color: #d7d700\">WARNING</span> | distributed.nanny - Restarting worker\n",
       "</pre>\n"
      ],
      "text/plain": [
       "19:24:36.604 | \u001b[38;5;184mWARNING\u001b[0m | distributed.nanny - Restarting worker\n"
      ]
     },
     "metadata": {},
     "output_type": "display_data"
    },
    {
     "name": "stderr",
     "output_type": "stream",
     "text": [
      "2023-04-23 19:24:36,610 - distributed.nanny - WARNING - Restarting worker\n"
     ]
    },
    {
     "data": {
      "text/html": [
       "<pre style=\"white-space:pre;overflow-x:auto;line-height:normal;font-family:Menlo,'DejaVu Sans Mono',consolas,'Courier New',monospace\">19:24:36.610 | <span style=\"color: #d7d700; text-decoration-color: #d7d700\">WARNING</span> | distributed.nanny - Restarting worker\n",
       "</pre>\n"
      ],
      "text/plain": [
       "19:24:36.610 | \u001b[38;5;184mWARNING\u001b[0m | distributed.nanny - Restarting worker\n"
      ]
     },
     "metadata": {},
     "output_type": "display_data"
    },
    {
     "name": "stderr",
     "output_type": "stream",
     "text": [
      "2023-04-23 19:24:36,617 - distributed.nanny - WARNING - Restarting worker\n"
     ]
    },
    {
     "data": {
      "text/html": [
       "<pre style=\"white-space:pre;overflow-x:auto;line-height:normal;font-family:Menlo,'DejaVu Sans Mono',consolas,'Courier New',monospace\">19:24:36.617 | <span style=\"color: #d7d700; text-decoration-color: #d7d700\">WARNING</span> | distributed.nanny - Restarting worker\n",
       "</pre>\n"
      ],
      "text/plain": [
       "19:24:36.617 | \u001b[38;5;184mWARNING\u001b[0m | distributed.nanny - Restarting worker\n"
      ]
     },
     "metadata": {},
     "output_type": "display_data"
    },
    {
     "name": "stderr",
     "output_type": "stream",
     "text": [
      "    num_bytes = self.write_to_fd(self._write_buffer.peek(size))\n",
      "  File \"/usr/lib/python3.10/site-packages/tornado/iostream.py\", line 1146, in write_to_fd\n",
      "    return self.socket.send(data)  # type: ignore\n",
      "KeyboardInterrupt\n",
      "\n",
      "During handling of the above exception, another exception occurred:\n",
      "\n",
      "Traceback (most recent call last):\n",
      "  File \"/usr/lib/python3.10/multiprocessing/process.py\", line 314, in _bootstrap\n",
      "    self.run()\n",
      "  File \"/usr/lib/python3.10/multiprocessing/process.py\", line 108, in run\n",
      "    self._target(*self._args, **self._kwargs)\n",
      "  File \"/usr/lib/python3.10/site-packages/distributed/process.py\", line 188, in _run\n",
      "    target(*args, **kwargs)\n",
      "  File \"/usr/lib/python3.10/site-packages/distributed/nanny.py\", line 955, in _run\n",
      "    with contextlib.ExitStack() as stack:\n",
      "  File \"/usr/lib/python3.10/contextlib.py\", line 576, in __exit__\n",
      "    raise exc_details[1]\n",
      "  File \"/usr/lib/python3.10/contextlib.py\", line 561, in __exit__\n",
      "    if cb(*exc_details):\n",
      "  File \"/usr/lib/python3.10/contextlib.py\", line 449, in _exit_wrapper\n",
      "    callback(*args, **kwds)\n",
      "  File \"/usr/lib/python3.10/threading.py\", line 1100, in join\n"
     ]
    },
    {
     "data": {
      "text/html": [
       "<pre style=\"white-space:pre;overflow-x:auto;line-height:normal;font-family:Menlo,'DejaVu Sans Mono',consolas,'Courier New',monospace\">19:24:37.329 | <span style=\"color: #008080; text-decoration-color: #008080\">INFO</span>    | distributed.scheduler - Register worker &lt;WorkerState 'tcp://127.0.0.1:44131', name: 2, status: init, memory: 0, processing: 0&gt;\n",
       "</pre>\n"
      ],
      "text/plain": [
       "19:24:37.329 | \u001b[36mINFO\u001b[0m    | distributed.scheduler - Register worker <WorkerState 'tcp://127.0.0.1:44131', name: 2, status: init, memory: 0, processing: 0>\n"
      ]
     },
     "metadata": {},
     "output_type": "display_data"
    },
    {
     "data": {
      "text/html": [
       "<pre style=\"white-space:pre;overflow-x:auto;line-height:normal;font-family:Menlo,'DejaVu Sans Mono',consolas,'Courier New',monospace\">19:24:37.333 | <span style=\"color: #008080; text-decoration-color: #008080\">INFO</span>    | distributed.scheduler - Starting worker compute stream, tcp://127.0.0.1:44131\n",
       "</pre>\n"
      ],
      "text/plain": [
       "19:24:37.333 | \u001b[36mINFO\u001b[0m    | distributed.scheduler - Starting worker compute stream, tcp://127.0.0.1:44131\n"
      ]
     },
     "metadata": {},
     "output_type": "display_data"
    },
    {
     "data": {
      "text/html": [
       "<pre style=\"white-space:pre;overflow-x:auto;line-height:normal;font-family:Menlo,'DejaVu Sans Mono',consolas,'Courier New',monospace\">19:24:37.336 | <span style=\"color: #008080; text-decoration-color: #008080\">INFO</span>    | distributed.core - Starting established connection to tcp://127.0.0.1:35650\n",
       "</pre>\n"
      ],
      "text/plain": [
       "19:24:37.336 | \u001b[36mINFO\u001b[0m    | distributed.core - Starting established connection to tcp://127.0.0.1:35650\n"
      ]
     },
     "metadata": {},
     "output_type": "display_data"
    },
    {
     "data": {
      "text/html": [
       "<pre style=\"white-space:pre;overflow-x:auto;line-height:normal;font-family:Menlo,'DejaVu Sans Mono',consolas,'Courier New',monospace\">19:24:37.381 | <span style=\"color: #008080; text-decoration-color: #008080\">INFO</span>    | distributed.scheduler - Register worker &lt;WorkerState 'tcp://127.0.0.1:34975', name: 5, status: init, memory: 0, processing: 0&gt;\n",
       "</pre>\n"
      ],
      "text/plain": [
       "19:24:37.381 | \u001b[36mINFO\u001b[0m    | distributed.scheduler - Register worker <WorkerState 'tcp://127.0.0.1:34975', name: 5, status: init, memory: 0, processing: 0>\n"
      ]
     },
     "metadata": {},
     "output_type": "display_data"
    },
    {
     "data": {
      "text/html": [
       "<pre style=\"white-space:pre;overflow-x:auto;line-height:normal;font-family:Menlo,'DejaVu Sans Mono',consolas,'Courier New',monospace\">19:24:37.383 | <span style=\"color: #008080; text-decoration-color: #008080\">INFO</span>    | distributed.scheduler - Starting worker compute stream, tcp://127.0.0.1:34975\n",
       "</pre>\n"
      ],
      "text/plain": [
       "19:24:37.383 | \u001b[36mINFO\u001b[0m    | distributed.scheduler - Starting worker compute stream, tcp://127.0.0.1:34975\n"
      ]
     },
     "metadata": {},
     "output_type": "display_data"
    },
    {
     "data": {
      "text/html": [
       "<pre style=\"white-space:pre;overflow-x:auto;line-height:normal;font-family:Menlo,'DejaVu Sans Mono',consolas,'Courier New',monospace\">19:24:37.384 | <span style=\"color: #008080; text-decoration-color: #008080\">INFO</span>    | distributed.core - Starting established connection to tcp://127.0.0.1:35668\n",
       "</pre>\n"
      ],
      "text/plain": [
       "19:24:37.384 | \u001b[36mINFO\u001b[0m    | distributed.core - Starting established connection to tcp://127.0.0.1:35668\n"
      ]
     },
     "metadata": {},
     "output_type": "display_data"
    },
    {
     "name": "stderr",
     "output_type": "stream",
     "text": [
      "    self._wait_for_tstate_lock(timeout=max(timeout, 0))\n",
      "  File \"/usr/lib/python3.10/threading.py\", line 1116, in _wait_for_tstate_lock\n"
     ]
    },
    {
     "data": {
      "text/html": [
       "<pre style=\"white-space:pre;overflow-x:auto;line-height:normal;font-family:Menlo,'DejaVu Sans Mono',consolas,'Courier New',monospace\">19:24:37.402 | <span style=\"color: #008080; text-decoration-color: #008080\">INFO</span>    | distributed.scheduler - Register worker &lt;WorkerState 'tcp://127.0.0.1:42881', name: 1, status: init, memory: 0, processing: 0&gt;\n",
       "</pre>\n"
      ],
      "text/plain": [
       "19:24:37.402 | \u001b[36mINFO\u001b[0m    | distributed.scheduler - Register worker <WorkerState 'tcp://127.0.0.1:42881', name: 1, status: init, memory: 0, processing: 0>\n"
      ]
     },
     "metadata": {},
     "output_type": "display_data"
    },
    {
     "data": {
      "text/html": [
       "<pre style=\"white-space:pre;overflow-x:auto;line-height:normal;font-family:Menlo,'DejaVu Sans Mono',consolas,'Courier New',monospace\">19:24:37.405 | <span style=\"color: #008080; text-decoration-color: #008080\">INFO</span>    | distributed.scheduler - Starting worker compute stream, tcp://127.0.0.1:42881\n",
       "</pre>\n"
      ],
      "text/plain": [
       "19:24:37.405 | \u001b[36mINFO\u001b[0m    | distributed.scheduler - Starting worker compute stream, tcp://127.0.0.1:42881\n"
      ]
     },
     "metadata": {},
     "output_type": "display_data"
    },
    {
     "data": {
      "text/html": [
       "<pre style=\"white-space:pre;overflow-x:auto;line-height:normal;font-family:Menlo,'DejaVu Sans Mono',consolas,'Courier New',monospace\">19:24:37.407 | <span style=\"color: #008080; text-decoration-color: #008080\">INFO</span>    | distributed.core - Starting established connection to tcp://127.0.0.1:35674\n",
       "</pre>\n"
      ],
      "text/plain": [
       "19:24:37.407 | \u001b[36mINFO\u001b[0m    | distributed.core - Starting established connection to tcp://127.0.0.1:35674\n"
      ]
     },
     "metadata": {},
     "output_type": "display_data"
    },
    {
     "data": {
      "text/html": [
       "<pre style=\"white-space:pre;overflow-x:auto;line-height:normal;font-family:Menlo,'DejaVu Sans Mono',consolas,'Courier New',monospace\">19:24:37.410 | <span style=\"color: #008080; text-decoration-color: #008080\">INFO</span>    | distributed.scheduler - Register worker &lt;WorkerState 'tcp://127.0.0.1:46511', name: 0, status: init, memory: 0, processing: 0&gt;\n",
       "</pre>\n"
      ],
      "text/plain": [
       "19:24:37.410 | \u001b[36mINFO\u001b[0m    | distributed.scheduler - Register worker <WorkerState 'tcp://127.0.0.1:46511', name: 0, status: init, memory: 0, processing: 0>\n"
      ]
     },
     "metadata": {},
     "output_type": "display_data"
    },
    {
     "data": {
      "text/html": [
       "<pre style=\"white-space:pre;overflow-x:auto;line-height:normal;font-family:Menlo,'DejaVu Sans Mono',consolas,'Courier New',monospace\">19:24:37.412 | <span style=\"color: #008080; text-decoration-color: #008080\">INFO</span>    | distributed.scheduler - Starting worker compute stream, tcp://127.0.0.1:46511\n",
       "</pre>\n"
      ],
      "text/plain": [
       "19:24:37.412 | \u001b[36mINFO\u001b[0m    | distributed.scheduler - Starting worker compute stream, tcp://127.0.0.1:46511\n"
      ]
     },
     "metadata": {},
     "output_type": "display_data"
    },
    {
     "data": {
      "text/html": [
       "<pre style=\"white-space:pre;overflow-x:auto;line-height:normal;font-family:Menlo,'DejaVu Sans Mono',consolas,'Courier New',monospace\">19:24:37.413 | <span style=\"color: #008080; text-decoration-color: #008080\">INFO</span>    | distributed.core - Starting established connection to tcp://127.0.0.1:35652\n",
       "</pre>\n"
      ],
      "text/plain": [
       "19:24:37.413 | \u001b[36mINFO\u001b[0m    | distributed.core - Starting established connection to tcp://127.0.0.1:35652\n"
      ]
     },
     "metadata": {},
     "output_type": "display_data"
    },
    {
     "data": {
      "text/html": [
       "<pre style=\"white-space:pre;overflow-x:auto;line-height:normal;font-family:Menlo,'DejaVu Sans Mono',consolas,'Courier New',monospace\">19:24:37.414 | <span style=\"color: #008080; text-decoration-color: #008080\">INFO</span>    | distributed.scheduler - Register worker &lt;WorkerState 'tcp://127.0.0.1:43795', name: 4, status: init, memory: 0, processing: 0&gt;\n",
       "</pre>\n"
      ],
      "text/plain": [
       "19:24:37.414 | \u001b[36mINFO\u001b[0m    | distributed.scheduler - Register worker <WorkerState 'tcp://127.0.0.1:43795', name: 4, status: init, memory: 0, processing: 0>\n"
      ]
     },
     "metadata": {},
     "output_type": "display_data"
    },
    {
     "data": {
      "text/html": [
       "<pre style=\"white-space:pre;overflow-x:auto;line-height:normal;font-family:Menlo,'DejaVu Sans Mono',consolas,'Courier New',monospace\">19:24:37.416 | <span style=\"color: #008080; text-decoration-color: #008080\">INFO</span>    | distributed.scheduler - Starting worker compute stream, tcp://127.0.0.1:43795\n",
       "</pre>\n"
      ],
      "text/plain": [
       "19:24:37.416 | \u001b[36mINFO\u001b[0m    | distributed.scheduler - Starting worker compute stream, tcp://127.0.0.1:43795\n"
      ]
     },
     "metadata": {},
     "output_type": "display_data"
    },
    {
     "data": {
      "text/html": [
       "<pre style=\"white-space:pre;overflow-x:auto;line-height:normal;font-family:Menlo,'DejaVu Sans Mono',consolas,'Courier New',monospace\">19:24:37.417 | <span style=\"color: #008080; text-decoration-color: #008080\">INFO</span>    | distributed.core - Starting established connection to tcp://127.0.0.1:35690\n",
       "</pre>\n"
      ],
      "text/plain": [
       "19:24:37.417 | \u001b[36mINFO\u001b[0m    | distributed.core - Starting established connection to tcp://127.0.0.1:35690\n"
      ]
     },
     "metadata": {},
     "output_type": "display_data"
    },
    {
     "data": {
      "text/html": [
       "<pre style=\"white-space:pre;overflow-x:auto;line-height:normal;font-family:Menlo,'DejaVu Sans Mono',consolas,'Courier New',monospace\">19:24:37.424 | <span style=\"color: #008080; text-decoration-color: #008080\">INFO</span>    | distributed.scheduler - Register worker &lt;WorkerState 'tcp://127.0.0.1:35423', name: 6, status: init, memory: 0, processing: 0&gt;\n",
       "</pre>\n"
      ],
      "text/plain": [
       "19:24:37.424 | \u001b[36mINFO\u001b[0m    | distributed.scheduler - Register worker <WorkerState 'tcp://127.0.0.1:35423', name: 6, status: init, memory: 0, processing: 0>\n"
      ]
     },
     "metadata": {},
     "output_type": "display_data"
    },
    {
     "data": {
      "text/html": [
       "<pre style=\"white-space:pre;overflow-x:auto;line-height:normal;font-family:Menlo,'DejaVu Sans Mono',consolas,'Courier New',monospace\">19:24:37.425 | <span style=\"color: #008080; text-decoration-color: #008080\">INFO</span>    | distributed.scheduler - Starting worker compute stream, tcp://127.0.0.1:35423\n",
       "</pre>\n"
      ],
      "text/plain": [
       "19:24:37.425 | \u001b[36mINFO\u001b[0m    | distributed.scheduler - Starting worker compute stream, tcp://127.0.0.1:35423\n"
      ]
     },
     "metadata": {},
     "output_type": "display_data"
    },
    {
     "data": {
      "text/html": [
       "<pre style=\"white-space:pre;overflow-x:auto;line-height:normal;font-family:Menlo,'DejaVu Sans Mono',consolas,'Courier New',monospace\">19:24:37.426 | <span style=\"color: #008080; text-decoration-color: #008080\">INFO</span>    | distributed.core - Starting established connection to tcp://127.0.0.1:35670\n",
       "</pre>\n"
      ],
      "text/plain": [
       "19:24:37.426 | \u001b[36mINFO\u001b[0m    | distributed.core - Starting established connection to tcp://127.0.0.1:35670\n"
      ]
     },
     "metadata": {},
     "output_type": "display_data"
    },
    {
     "name": "stderr",
     "output_type": "stream",
     "text": [
      "    if lock.acquire(block, timeout):\n",
      "KeyboardInterrupt\n",
      "\n",
      "During handling of the above exception, another exception occurred:\n",
      "\n",
      "Traceback (most recent call last):\n",
      "  File \"<string>\", line 1, in <module>\n",
      "  File \"/usr/lib/python3.10/multiprocessing/spawn.py\", line 116, in spawn_main\n",
      "    exitcode = _main(fd, parent_sentinel)\n",
      "  File \"/usr/lib/python3.10/multiprocessing/spawn.py\", line 129, in _main\n",
      "    return self._bootstrap(parent_sentinel)\n",
      "  File \"/usr/lib/python3.10/multiprocessing/process.py\", line 330, in _bootstrap\n",
      "    traceback.print_exc()\n",
      "  File \"/usr/lib/python3.10/traceback.py\", line 179, in print_exc\n",
      "    print_exception(*sys.exc_info(), limit=limit, file=file, chain=chain)\n",
      "  File \"/usr/lib/python3.10/traceback.py\", line 119, in print_exception\n",
      "    te = TracebackException(type(value), value, tb, limit=limit, compact=True)\n",
      "  File \"/usr/lib/python3.10/traceback.py\", line 502, in __init__\n",
      "    self.stack = StackSummary.extract(\n",
      "  File \"/usr/lib/python3.10/traceback.py\", line 383, in extract\n",
      "    f.line\n",
      "  File \"/usr/lib/python3.10/traceback.py\", line 306, in line\n",
      "    self._line = linecache.getline(self.filename, self.lineno)\n",
      "  File \"/usr/lib/python3.10/linecache.py\", line 30, in getline\n",
      "    lines = getlines(filename, module_globals)\n",
      "  File \"/usr/lib/python3.10/linecache.py\", line 46, in getlines\n",
      "    return updatecache(filename, module_globals)\n",
      "  File \"/usr/lib/python3.10/linecache.py\", line 136, in updatecache\n",
      "    with tokenize.open(fullname) as fp:\n",
      "  File \"/usr/lib/python3.10/tokenize.py\", line 394, in open\n",
      "    buffer = _builtin_open(filename, 'rb')\n",
      "KeyboardInterrupt\n"
     ]
    },
    {
     "data": {
      "text/html": [
       "<pre style=\"white-space:pre;overflow-x:auto;line-height:normal;font-family:Menlo,'DejaVu Sans Mono',consolas,'Courier New',monospace\">19:24:48.703 | <span style=\"color: #008080; text-decoration-color: #008080\">INFO</span>    | distributed.nanny - Worker process 10165 was killed by signal 2\n",
       "</pre>\n"
      ],
      "text/plain": [
       "19:24:48.703 | \u001b[36mINFO\u001b[0m    | distributed.nanny - Worker process 10165 was killed by signal 2\n"
      ]
     },
     "metadata": {},
     "output_type": "display_data"
    },
    {
     "data": {
      "text/html": [
       "<pre style=\"white-space:pre;overflow-x:auto;line-height:normal;font-family:Menlo,'DejaVu Sans Mono',consolas,'Courier New',monospace\">19:24:48.706 | <span style=\"color: #008080; text-decoration-color: #008080\">INFO</span>    | distributed.core - Connection to tcp://127.0.0.1:46920 has been closed.\n",
       "</pre>\n"
      ],
      "text/plain": [
       "19:24:48.706 | \u001b[36mINFO\u001b[0m    | distributed.core - Connection to tcp://127.0.0.1:46920 has been closed.\n"
      ]
     },
     "metadata": {},
     "output_type": "display_data"
    },
    {
     "data": {
      "text/html": [
       "<pre style=\"white-space:pre;overflow-x:auto;line-height:normal;font-family:Menlo,'DejaVu Sans Mono',consolas,'Courier New',monospace\">19:24:48.708 | <span style=\"color: #008080; text-decoration-color: #008080\">INFO</span>    | distributed.scheduler - Remove worker &lt;WorkerState 'tcp://127.0.0.1:38121', name: 3, status: running, memory: 0, processing: 0&gt;\n",
       "</pre>\n"
      ],
      "text/plain": [
       "19:24:48.708 | \u001b[36mINFO\u001b[0m    | distributed.scheduler - Remove worker <WorkerState 'tcp://127.0.0.1:38121', name: 3, status: running, memory: 0, processing: 0>\n"
      ]
     },
     "metadata": {},
     "output_type": "display_data"
    },
    {
     "data": {
      "text/html": [
       "<pre style=\"white-space:pre;overflow-x:auto;line-height:normal;font-family:Menlo,'DejaVu Sans Mono',consolas,'Courier New',monospace\">19:24:48.710 | <span style=\"color: #008080; text-decoration-color: #008080\">INFO</span>    | distributed.core - Removing comms to tcp://127.0.0.1:38121\n",
       "</pre>\n"
      ],
      "text/plain": [
       "19:24:48.710 | \u001b[36mINFO\u001b[0m    | distributed.core - Removing comms to tcp://127.0.0.1:38121\n"
      ]
     },
     "metadata": {},
     "output_type": "display_data"
    },
    {
     "name": "stderr",
     "output_type": "stream",
     "text": [
      "2023-04-23 19:24:48,713 - distributed.nanny - WARNING - Restarting worker\n"
     ]
    },
    {
     "data": {
      "text/html": [
       "<pre style=\"white-space:pre;overflow-x:auto;line-height:normal;font-family:Menlo,'DejaVu Sans Mono',consolas,'Courier New',monospace\">19:24:48.713 | <span style=\"color: #d7d700; text-decoration-color: #d7d700\">WARNING</span> | distributed.nanny - Restarting worker\n",
       "</pre>\n"
      ],
      "text/plain": [
       "19:24:48.713 | \u001b[38;5;184mWARNING\u001b[0m | distributed.nanny - Restarting worker\n"
      ]
     },
     "metadata": {},
     "output_type": "display_data"
    },
    {
     "data": {
      "text/html": [
       "<pre style=\"white-space:pre;overflow-x:auto;line-height:normal;font-family:Menlo,'DejaVu Sans Mono',consolas,'Courier New',monospace\">19:24:49.243 | <span style=\"color: #008080; text-decoration-color: #008080\">INFO</span>    | distributed.scheduler - Register worker &lt;WorkerState 'tcp://127.0.0.1:45139', name: 3, status: init, memory: 0, processing: 0&gt;\n",
       "</pre>\n"
      ],
      "text/plain": [
       "19:24:49.243 | \u001b[36mINFO\u001b[0m    | distributed.scheduler - Register worker <WorkerState 'tcp://127.0.0.1:45139', name: 3, status: init, memory: 0, processing: 0>\n"
      ]
     },
     "metadata": {},
     "output_type": "display_data"
    },
    {
     "data": {
      "text/html": [
       "<pre style=\"white-space:pre;overflow-x:auto;line-height:normal;font-family:Menlo,'DejaVu Sans Mono',consolas,'Courier New',monospace\">19:24:49.246 | <span style=\"color: #008080; text-decoration-color: #008080\">INFO</span>    | distributed.scheduler - Starting worker compute stream, tcp://127.0.0.1:45139\n",
       "</pre>\n"
      ],
      "text/plain": [
       "19:24:49.246 | \u001b[36mINFO\u001b[0m    | distributed.scheduler - Starting worker compute stream, tcp://127.0.0.1:45139\n"
      ]
     },
     "metadata": {},
     "output_type": "display_data"
    },
    {
     "data": {
      "text/html": [
       "<pre style=\"white-space:pre;overflow-x:auto;line-height:normal;font-family:Menlo,'DejaVu Sans Mono',consolas,'Courier New',monospace\">19:24:49.248 | <span style=\"color: #008080; text-decoration-color: #008080\">INFO</span>    | distributed.core - Starting established connection to tcp://127.0.0.1:56988\n",
       "</pre>\n"
      ],
      "text/plain": [
       "19:24:49.248 | \u001b[36mINFO\u001b[0m    | distributed.core - Starting established connection to tcp://127.0.0.1:56988\n"
      ]
     },
     "metadata": {},
     "output_type": "display_data"
    }
   ],
   "source": [
    "%%prun -l 10\n",
    "\n",
    "a.head()"
   ]
  },
  {
   "cell_type": "code",
   "execution_count": null,
   "id": "d5cd6c3a-c8cf-4362-9e4d-012271f75397",
   "metadata": {
    "tags": []
   },
   "outputs": [],
   "source": [
    "a.energy.compute()"
   ]
  },
  {
   "cell_type": "code",
   "execution_count": 35,
   "id": "2e5f358c-151c-4ee0-a135-d4be46fe886d",
   "metadata": {
    "tags": []
   },
   "outputs": [
    {
     "name": "stdout",
     "output_type": "stream",
     "text": [
      "<class 'dask.dataframe.core.DataFrame'>\n",
      "Columns: 5 entries, time_first_event to energy\n",
      "dtypes: float32(1), int64(2), int8(2)"
     ]
    }
   ],
   "source": [
    "a.info()"
   ]
  },
  {
   "cell_type": "code",
   "execution_count": 7,
   "id": "26b36ea3-79d1-4fe8-8562-7d4197ec64e9",
   "metadata": {
    "tags": []
   },
   "outputs": [
    {
     "data": {
      "text/html": [
       "<pre style=\"white-space:pre;overflow-x:auto;line-height:normal;font-family:Menlo,'DejaVu Sans Mono',consolas,'Courier New',monospace\">19:28:27.010 | <span style=\"color: #008080; text-decoration-color: #008080\">INFO</span>    | distributed.core - Connection to tcp://127.0.0.1:45614 has been closed.\n",
       "</pre>\n"
      ],
      "text/plain": [
       "19:28:27.010 | \u001b[36mINFO\u001b[0m    | distributed.core - Connection to tcp://127.0.0.1:45614 has been closed.\n"
      ]
     },
     "metadata": {},
     "output_type": "display_data"
    },
    {
     "data": {
      "text/html": [
       "<pre style=\"white-space:pre;overflow-x:auto;line-height:normal;font-family:Menlo,'DejaVu Sans Mono',consolas,'Courier New',monospace\">19:28:27.054 | <span style=\"color: #008080; text-decoration-color: #008080\">INFO</span>    | distributed.scheduler - Remove worker &lt;WorkerState 'tcp://127.0.0.1:39807', name: 4, status: running, memory: 0, processing: 0&gt;\n",
       "</pre>\n"
      ],
      "text/plain": [
       "19:28:27.054 | \u001b[36mINFO\u001b[0m    | distributed.scheduler - Remove worker <WorkerState 'tcp://127.0.0.1:39807', name: 4, status: running, memory: 0, processing: 0>\n"
      ]
     },
     "metadata": {},
     "output_type": "display_data"
    },
    {
     "data": {
      "text/html": [
       "<pre style=\"white-space:pre;overflow-x:auto;line-height:normal;font-family:Menlo,'DejaVu Sans Mono',consolas,'Courier New',monospace\">19:28:27.124 | <span style=\"color: #008080; text-decoration-color: #008080\">INFO</span>    | distributed.core - Removing comms to tcp://127.0.0.1:39807\n",
       "</pre>\n"
      ],
      "text/plain": [
       "19:28:27.124 | \u001b[36mINFO\u001b[0m    | distributed.core - Removing comms to tcp://127.0.0.1:39807\n"
      ]
     },
     "metadata": {},
     "output_type": "display_data"
    },
    {
     "data": {
      "text/html": [
       "<pre style=\"white-space:pre;overflow-x:auto;line-height:normal;font-family:Menlo,'DejaVu Sans Mono',consolas,'Courier New',monospace\">19:28:27.147 | <span style=\"color: #008080; text-decoration-color: #008080\">INFO</span>    | distributed.core - Connection to tcp://127.0.0.1:45604 has been closed.\n",
       "</pre>\n"
      ],
      "text/plain": [
       "19:28:27.147 | \u001b[36mINFO\u001b[0m    | distributed.core - Connection to tcp://127.0.0.1:45604 has been closed.\n"
      ]
     },
     "metadata": {},
     "output_type": "display_data"
    },
    {
     "data": {
      "text/html": [
       "<pre style=\"white-space:pre;overflow-x:auto;line-height:normal;font-family:Menlo,'DejaVu Sans Mono',consolas,'Courier New',monospace\">19:28:27.155 | <span style=\"color: #008080; text-decoration-color: #008080\">INFO</span>    | distributed.scheduler - Remove worker &lt;WorkerState 'tcp://127.0.0.1:45055', name: 3, status: running, memory: 0, processing: 0&gt;\n",
       "</pre>\n"
      ],
      "text/plain": [
       "19:28:27.155 | \u001b[36mINFO\u001b[0m    | distributed.scheduler - Remove worker <WorkerState 'tcp://127.0.0.1:45055', name: 3, status: running, memory: 0, processing: 0>\n"
      ]
     },
     "metadata": {},
     "output_type": "display_data"
    },
    {
     "data": {
      "text/html": [
       "<pre style=\"white-space:pre;overflow-x:auto;line-height:normal;font-family:Menlo,'DejaVu Sans Mono',consolas,'Courier New',monospace\">19:28:27.166 | <span style=\"color: #008080; text-decoration-color: #008080\">INFO</span>    | distributed.core - Removing comms to tcp://127.0.0.1:45055\n",
       "</pre>\n"
      ],
      "text/plain": [
       "19:28:27.166 | \u001b[36mINFO\u001b[0m    | distributed.core - Removing comms to tcp://127.0.0.1:45055\n"
      ]
     },
     "metadata": {},
     "output_type": "display_data"
    },
    {
     "data": {
      "text/html": [
       "<pre style=\"white-space:pre;overflow-x:auto;line-height:normal;font-family:Menlo,'DejaVu Sans Mono',consolas,'Courier New',monospace\">19:28:27.207 | <span style=\"color: #008080; text-decoration-color: #008080\">INFO</span>    | distributed.core - Connection to tcp://127.0.0.1:45630 has been closed.\n",
       "</pre>\n"
      ],
      "text/plain": [
       "19:28:27.207 | \u001b[36mINFO\u001b[0m    | distributed.core - Connection to tcp://127.0.0.1:45630 has been closed.\n"
      ]
     },
     "metadata": {},
     "output_type": "display_data"
    },
    {
     "data": {
      "text/html": [
       "<pre style=\"white-space:pre;overflow-x:auto;line-height:normal;font-family:Menlo,'DejaVu Sans Mono',consolas,'Courier New',monospace\">19:28:27.258 | <span style=\"color: #008080; text-decoration-color: #008080\">INFO</span>    | distributed.scheduler - Remove worker &lt;WorkerState 'tcp://127.0.0.1:39167', name: 6, status: running, memory: 0, processing: 0&gt;\n",
       "</pre>\n"
      ],
      "text/plain": [
       "19:28:27.258 | \u001b[36mINFO\u001b[0m    | distributed.scheduler - Remove worker <WorkerState 'tcp://127.0.0.1:39167', name: 6, status: running, memory: 0, processing: 0>\n"
      ]
     },
     "metadata": {},
     "output_type": "display_data"
    },
    {
     "data": {
      "text/html": [
       "<pre style=\"white-space:pre;overflow-x:auto;line-height:normal;font-family:Menlo,'DejaVu Sans Mono',consolas,'Courier New',monospace\">19:28:27.299 | <span style=\"color: #008080; text-decoration-color: #008080\">INFO</span>    | distributed.core - Removing comms to tcp://127.0.0.1:39167\n",
       "</pre>\n"
      ],
      "text/plain": [
       "19:28:27.299 | \u001b[36mINFO\u001b[0m    | distributed.core - Removing comms to tcp://127.0.0.1:39167\n"
      ]
     },
     "metadata": {},
     "output_type": "display_data"
    },
    {
     "data": {
      "text/html": [
       "<pre style=\"white-space:pre;overflow-x:auto;line-height:normal;font-family:Menlo,'DejaVu Sans Mono',consolas,'Courier New',monospace\">19:28:27.324 | <span style=\"color: #008080; text-decoration-color: #008080\">INFO</span>    | distributed.core - Connection to tcp://127.0.0.1:45606 has been closed.\n",
       "</pre>\n"
      ],
      "text/plain": [
       "19:28:27.324 | \u001b[36mINFO\u001b[0m    | distributed.core - Connection to tcp://127.0.0.1:45606 has been closed.\n"
      ]
     },
     "metadata": {},
     "output_type": "display_data"
    },
    {
     "data": {
      "text/html": [
       "<pre style=\"white-space:pre;overflow-x:auto;line-height:normal;font-family:Menlo,'DejaVu Sans Mono',consolas,'Courier New',monospace\">19:28:27.508 | <span style=\"color: #008080; text-decoration-color: #008080\">INFO</span>    | distributed.scheduler - Remove worker &lt;WorkerState 'tcp://127.0.0.1:45291', name: 5, status: running, memory: 0, processing: 0&gt;\n",
       "</pre>\n"
      ],
      "text/plain": [
       "19:28:27.508 | \u001b[36mINFO\u001b[0m    | distributed.scheduler - Remove worker <WorkerState 'tcp://127.0.0.1:45291', name: 5, status: running, memory: 0, processing: 0>\n"
      ]
     },
     "metadata": {},
     "output_type": "display_data"
    },
    {
     "data": {
      "text/html": [
       "<pre style=\"white-space:pre;overflow-x:auto;line-height:normal;font-family:Menlo,'DejaVu Sans Mono',consolas,'Courier New',monospace\">19:28:27.551 | <span style=\"color: #008080; text-decoration-color: #008080\">INFO</span>    | distributed.core - Removing comms to tcp://127.0.0.1:45291\n",
       "</pre>\n"
      ],
      "text/plain": [
       "19:28:27.551 | \u001b[36mINFO\u001b[0m    | distributed.core - Removing comms to tcp://127.0.0.1:45291\n"
      ]
     },
     "metadata": {},
     "output_type": "display_data"
    },
    {
     "data": {
      "text/html": [
       "<pre style=\"white-space:pre;overflow-x:auto;line-height:normal;font-family:Menlo,'DejaVu Sans Mono',consolas,'Courier New',monospace\">19:28:27.578 | <span style=\"color: #008080; text-decoration-color: #008080\">INFO</span>    | distributed.core - Connection to tcp://127.0.0.1:45594 has been closed.\n",
       "</pre>\n"
      ],
      "text/plain": [
       "19:28:27.578 | \u001b[36mINFO\u001b[0m    | distributed.core - Connection to tcp://127.0.0.1:45594 has been closed.\n"
      ]
     },
     "metadata": {},
     "output_type": "display_data"
    },
    {
     "data": {
      "text/html": [
       "<pre style=\"white-space:pre;overflow-x:auto;line-height:normal;font-family:Menlo,'DejaVu Sans Mono',consolas,'Courier New',monospace\">19:28:27.617 | <span style=\"color: #008080; text-decoration-color: #008080\">INFO</span>    | distributed.scheduler - Remove worker &lt;WorkerState 'tcp://127.0.0.1:42095', name: 2, status: running, memory: 0, processing: 0&gt;\n",
       "</pre>\n"
      ],
      "text/plain": [
       "19:28:27.617 | \u001b[36mINFO\u001b[0m    | distributed.scheduler - Remove worker <WorkerState 'tcp://127.0.0.1:42095', name: 2, status: running, memory: 0, processing: 0>\n"
      ]
     },
     "metadata": {},
     "output_type": "display_data"
    },
    {
     "data": {
      "text/html": [
       "<pre style=\"white-space:pre;overflow-x:auto;line-height:normal;font-family:Menlo,'DejaVu Sans Mono',consolas,'Courier New',monospace\">19:28:27.660 | <span style=\"color: #008080; text-decoration-color: #008080\">INFO</span>    | distributed.core - Removing comms to tcp://127.0.0.1:42095\n",
       "</pre>\n"
      ],
      "text/plain": [
       "19:28:27.660 | \u001b[36mINFO\u001b[0m    | distributed.core - Removing comms to tcp://127.0.0.1:42095\n"
      ]
     },
     "metadata": {},
     "output_type": "display_data"
    },
    {
     "data": {
      "text/html": [
       "<pre style=\"white-space:pre;overflow-x:auto;line-height:normal;font-family:Menlo,'DejaVu Sans Mono',consolas,'Courier New',monospace\">19:28:27.707 | <span style=\"color: #008080; text-decoration-color: #008080\">INFO</span>    | distributed.core - Connection to tcp://127.0.0.1:45582 has been closed.\n",
       "</pre>\n"
      ],
      "text/plain": [
       "19:28:27.707 | \u001b[36mINFO\u001b[0m    | distributed.core - Connection to tcp://127.0.0.1:45582 has been closed.\n"
      ]
     },
     "metadata": {},
     "output_type": "display_data"
    },
    {
     "data": {
      "text/html": [
       "<pre style=\"white-space:pre;overflow-x:auto;line-height:normal;font-family:Menlo,'DejaVu Sans Mono',consolas,'Courier New',monospace\">19:28:27.737 | <span style=\"color: #008080; text-decoration-color: #008080\">INFO</span>    | distributed.scheduler - Remove worker &lt;WorkerState 'tcp://127.0.0.1:37699', name: 1, status: running, memory: 0, processing: 0&gt;\n",
       "</pre>\n"
      ],
      "text/plain": [
       "19:28:27.737 | \u001b[36mINFO\u001b[0m    | distributed.scheduler - Remove worker <WorkerState 'tcp://127.0.0.1:37699', name: 1, status: running, memory: 0, processing: 0>\n"
      ]
     },
     "metadata": {},
     "output_type": "display_data"
    },
    {
     "data": {
      "text/html": [
       "<pre style=\"white-space:pre;overflow-x:auto;line-height:normal;font-family:Menlo,'DejaVu Sans Mono',consolas,'Courier New',monospace\">19:28:27.790 | <span style=\"color: #008080; text-decoration-color: #008080\">INFO</span>    | distributed.core - Removing comms to tcp://127.0.0.1:37699\n",
       "</pre>\n"
      ],
      "text/plain": [
       "19:28:27.790 | \u001b[36mINFO\u001b[0m    | distributed.core - Removing comms to tcp://127.0.0.1:37699\n"
      ]
     },
     "metadata": {},
     "output_type": "display_data"
    },
    {
     "ename": "KeyboardInterrupt",
     "evalue": "",
     "output_type": "error",
     "traceback": [
      "\u001b[0;31m---------------------------------------------------------------------------\u001b[0m",
      "\u001b[0;31mKeyboardInterrupt\u001b[0m                         Traceback (most recent call last)",
      "Cell \u001b[0;32mIn[7], line 1\u001b[0m\n\u001b[0;32m----> 1\u001b[0m \u001b[43mget_interactions\u001b[49m\u001b[43m(\u001b[49m\u001b[43mfile\u001b[49m\u001b[43m)\u001b[49m\u001b[38;5;241;43m.\u001b[39;49m\u001b[43mhead\u001b[49m\u001b[43m(\u001b[49m\u001b[43m)\u001b[49m\u001b[38;5;241m.\u001b[39mvisualize(filename\u001b[38;5;241m=\u001b[39m\u001b[38;5;124m'\u001b[39m\u001b[38;5;124mtest.svg\u001b[39m\u001b[38;5;124m'\u001b[39m, optimize_graph\u001b[38;5;241m=\u001b[39m\u001b[38;5;28;01mTrue\u001b[39;00m)\n",
      "File \u001b[0;32m~/.local/lib/python3.10/site-packages/dask/dataframe/core.py:1265\u001b[0m, in \u001b[0;36m_Frame.head\u001b[0;34m(self, n, npartitions, compute)\u001b[0m\n\u001b[1;32m   1263\u001b[0m \u001b[38;5;66;03m# No need to warn if we're already looking at all partitions\u001b[39;00m\n\u001b[1;32m   1264\u001b[0m safe \u001b[38;5;241m=\u001b[39m npartitions \u001b[38;5;241m!=\u001b[39m \u001b[38;5;28mself\u001b[39m\u001b[38;5;241m.\u001b[39mnpartitions\n\u001b[0;32m-> 1265\u001b[0m \u001b[38;5;28;01mreturn\u001b[39;00m \u001b[38;5;28;43mself\u001b[39;49m\u001b[38;5;241;43m.\u001b[39;49m\u001b[43m_head\u001b[49m\u001b[43m(\u001b[49m\u001b[43mn\u001b[49m\u001b[38;5;241;43m=\u001b[39;49m\u001b[43mn\u001b[49m\u001b[43m,\u001b[49m\u001b[43m \u001b[49m\u001b[43mnpartitions\u001b[49m\u001b[38;5;241;43m=\u001b[39;49m\u001b[43mnpartitions\u001b[49m\u001b[43m,\u001b[49m\u001b[43m \u001b[49m\u001b[43mcompute\u001b[49m\u001b[38;5;241;43m=\u001b[39;49m\u001b[43mcompute\u001b[49m\u001b[43m,\u001b[49m\u001b[43m \u001b[49m\u001b[43msafe\u001b[49m\u001b[38;5;241;43m=\u001b[39;49m\u001b[43msafe\u001b[49m\u001b[43m)\u001b[49m\n",
      "File \u001b[0;32m~/.local/lib/python3.10/site-packages/dask/dataframe/core.py:1299\u001b[0m, in \u001b[0;36m_Frame._head\u001b[0;34m(self, n, npartitions, compute, safe)\u001b[0m\n\u001b[1;32m   1294\u001b[0m result \u001b[38;5;241m=\u001b[39m new_dd_object(\n\u001b[1;32m   1295\u001b[0m     graph, name, \u001b[38;5;28mself\u001b[39m\u001b[38;5;241m.\u001b[39m_meta, [\u001b[38;5;28mself\u001b[39m\u001b[38;5;241m.\u001b[39mdivisions[\u001b[38;5;241m0\u001b[39m], \u001b[38;5;28mself\u001b[39m\u001b[38;5;241m.\u001b[39mdivisions[npartitions]]\n\u001b[1;32m   1296\u001b[0m )\n\u001b[1;32m   1298\u001b[0m \u001b[38;5;28;01mif\u001b[39;00m compute:\n\u001b[0;32m-> 1299\u001b[0m     result \u001b[38;5;241m=\u001b[39m \u001b[43mresult\u001b[49m\u001b[38;5;241;43m.\u001b[39;49m\u001b[43mcompute\u001b[49m\u001b[43m(\u001b[49m\u001b[43m)\u001b[49m\n\u001b[1;32m   1300\u001b[0m \u001b[38;5;28;01mreturn\u001b[39;00m result\n",
      "File \u001b[0;32m~/.local/lib/python3.10/site-packages/dask/base.py:315\u001b[0m, in \u001b[0;36mDaskMethodsMixin.compute\u001b[0;34m(self, **kwargs)\u001b[0m\n\u001b[1;32m    291\u001b[0m \u001b[38;5;28;01mdef\u001b[39;00m \u001b[38;5;21mcompute\u001b[39m(\u001b[38;5;28mself\u001b[39m, \u001b[38;5;241m*\u001b[39m\u001b[38;5;241m*\u001b[39mkwargs):\n\u001b[1;32m    292\u001b[0m \u001b[38;5;250m    \u001b[39m\u001b[38;5;124;03m\"\"\"Compute this dask collection\u001b[39;00m\n\u001b[1;32m    293\u001b[0m \n\u001b[1;32m    294\u001b[0m \u001b[38;5;124;03m    This turns a lazy Dask collection into its in-memory equivalent.\u001b[39;00m\n\u001b[0;32m   (...)\u001b[0m\n\u001b[1;32m    313\u001b[0m \u001b[38;5;124;03m    dask.base.compute\u001b[39;00m\n\u001b[1;32m    314\u001b[0m \u001b[38;5;124;03m    \"\"\"\u001b[39;00m\n\u001b[0;32m--> 315\u001b[0m     (result,) \u001b[38;5;241m=\u001b[39m \u001b[43mcompute\u001b[49m\u001b[43m(\u001b[49m\u001b[38;5;28;43mself\u001b[39;49m\u001b[43m,\u001b[49m\u001b[43m \u001b[49m\u001b[43mtraverse\u001b[49m\u001b[38;5;241;43m=\u001b[39;49m\u001b[38;5;28;43;01mFalse\u001b[39;49;00m\u001b[43m,\u001b[49m\u001b[43m \u001b[49m\u001b[38;5;241;43m*\u001b[39;49m\u001b[38;5;241;43m*\u001b[39;49m\u001b[43mkwargs\u001b[49m\u001b[43m)\u001b[49m\n\u001b[1;32m    316\u001b[0m     \u001b[38;5;28;01mreturn\u001b[39;00m result\n",
      "File \u001b[0;32m~/.local/lib/python3.10/site-packages/dask/base.py:600\u001b[0m, in \u001b[0;36mcompute\u001b[0;34m(traverse, optimize_graph, scheduler, get, *args, **kwargs)\u001b[0m\n\u001b[1;32m    597\u001b[0m     keys\u001b[38;5;241m.\u001b[39mappend(x\u001b[38;5;241m.\u001b[39m__dask_keys__())\n\u001b[1;32m    598\u001b[0m     postcomputes\u001b[38;5;241m.\u001b[39mappend(x\u001b[38;5;241m.\u001b[39m__dask_postcompute__())\n\u001b[0;32m--> 600\u001b[0m results \u001b[38;5;241m=\u001b[39m \u001b[43mschedule\u001b[49m\u001b[43m(\u001b[49m\u001b[43mdsk\u001b[49m\u001b[43m,\u001b[49m\u001b[43m \u001b[49m\u001b[43mkeys\u001b[49m\u001b[43m,\u001b[49m\u001b[43m \u001b[49m\u001b[38;5;241;43m*\u001b[39;49m\u001b[38;5;241;43m*\u001b[39;49m\u001b[43mkwargs\u001b[49m\u001b[43m)\u001b[49m\n\u001b[1;32m    601\u001b[0m \u001b[38;5;28;01mreturn\u001b[39;00m repack([f(r, \u001b[38;5;241m*\u001b[39ma) \u001b[38;5;28;01mfor\u001b[39;00m r, (f, a) \u001b[38;5;129;01min\u001b[39;00m \u001b[38;5;28mzip\u001b[39m(results, postcomputes)])\n",
      "File \u001b[0;32m/usr/lib/python3.10/site-packages/distributed/client.py:3125\u001b[0m, in \u001b[0;36mClient.get\u001b[0;34m(self, dsk, keys, workers, allow_other_workers, resources, sync, asynchronous, direct, retries, priority, fifo_timeout, actors, **kwargs)\u001b[0m\n\u001b[1;32m   3123\u001b[0m         should_rejoin \u001b[38;5;241m=\u001b[39m \u001b[38;5;28;01mFalse\u001b[39;00m\n\u001b[1;32m   3124\u001b[0m \u001b[38;5;28;01mtry\u001b[39;00m:\n\u001b[0;32m-> 3125\u001b[0m     results \u001b[38;5;241m=\u001b[39m \u001b[38;5;28;43mself\u001b[39;49m\u001b[38;5;241;43m.\u001b[39;49m\u001b[43mgather\u001b[49m\u001b[43m(\u001b[49m\u001b[43mpacked\u001b[49m\u001b[43m,\u001b[49m\u001b[43m \u001b[49m\u001b[43masynchronous\u001b[49m\u001b[38;5;241;43m=\u001b[39;49m\u001b[43masynchronous\u001b[49m\u001b[43m,\u001b[49m\u001b[43m \u001b[49m\u001b[43mdirect\u001b[49m\u001b[38;5;241;43m=\u001b[39;49m\u001b[43mdirect\u001b[49m\u001b[43m)\u001b[49m\n\u001b[1;32m   3126\u001b[0m \u001b[38;5;28;01mfinally\u001b[39;00m:\n\u001b[1;32m   3127\u001b[0m     \u001b[38;5;28;01mfor\u001b[39;00m f \u001b[38;5;129;01min\u001b[39;00m futures\u001b[38;5;241m.\u001b[39mvalues():\n",
      "File \u001b[0;32m/usr/lib/python3.10/site-packages/distributed/client.py:2294\u001b[0m, in \u001b[0;36mClient.gather\u001b[0;34m(self, futures, errors, direct, asynchronous)\u001b[0m\n\u001b[1;32m   2292\u001b[0m \u001b[38;5;28;01melse\u001b[39;00m:\n\u001b[1;32m   2293\u001b[0m     local_worker \u001b[38;5;241m=\u001b[39m \u001b[38;5;28;01mNone\u001b[39;00m\n\u001b[0;32m-> 2294\u001b[0m \u001b[38;5;28;01mreturn\u001b[39;00m \u001b[38;5;28;43mself\u001b[39;49m\u001b[38;5;241;43m.\u001b[39;49m\u001b[43msync\u001b[49m\u001b[43m(\u001b[49m\n\u001b[1;32m   2295\u001b[0m \u001b[43m    \u001b[49m\u001b[38;5;28;43mself\u001b[39;49m\u001b[38;5;241;43m.\u001b[39;49m\u001b[43m_gather\u001b[49m\u001b[43m,\u001b[49m\n\u001b[1;32m   2296\u001b[0m \u001b[43m    \u001b[49m\u001b[43mfutures\u001b[49m\u001b[43m,\u001b[49m\n\u001b[1;32m   2297\u001b[0m \u001b[43m    \u001b[49m\u001b[43merrors\u001b[49m\u001b[38;5;241;43m=\u001b[39;49m\u001b[43merrors\u001b[49m\u001b[43m,\u001b[49m\n\u001b[1;32m   2298\u001b[0m \u001b[43m    \u001b[49m\u001b[43mdirect\u001b[49m\u001b[38;5;241;43m=\u001b[39;49m\u001b[43mdirect\u001b[49m\u001b[43m,\u001b[49m\n\u001b[1;32m   2299\u001b[0m \u001b[43m    \u001b[49m\u001b[43mlocal_worker\u001b[49m\u001b[38;5;241;43m=\u001b[39;49m\u001b[43mlocal_worker\u001b[49m\u001b[43m,\u001b[49m\n\u001b[1;32m   2300\u001b[0m \u001b[43m    \u001b[49m\u001b[43masynchronous\u001b[49m\u001b[38;5;241;43m=\u001b[39;49m\u001b[43masynchronous\u001b[49m\u001b[43m,\u001b[49m\n\u001b[1;32m   2301\u001b[0m \u001b[43m\u001b[49m\u001b[43m)\u001b[49m\n",
      "File \u001b[0;32m/usr/lib/python3.10/site-packages/distributed/utils.py:339\u001b[0m, in \u001b[0;36mSyncMethodMixin.sync\u001b[0;34m(self, func, asynchronous, callback_timeout, *args, **kwargs)\u001b[0m\n\u001b[1;32m    337\u001b[0m     \u001b[38;5;28;01mreturn\u001b[39;00m future\n\u001b[1;32m    338\u001b[0m \u001b[38;5;28;01melse\u001b[39;00m:\n\u001b[0;32m--> 339\u001b[0m     \u001b[38;5;28;01mreturn\u001b[39;00m \u001b[43msync\u001b[49m\u001b[43m(\u001b[49m\n\u001b[1;32m    340\u001b[0m \u001b[43m        \u001b[49m\u001b[38;5;28;43mself\u001b[39;49m\u001b[38;5;241;43m.\u001b[39;49m\u001b[43mloop\u001b[49m\u001b[43m,\u001b[49m\u001b[43m \u001b[49m\u001b[43mfunc\u001b[49m\u001b[43m,\u001b[49m\u001b[43m \u001b[49m\u001b[38;5;241;43m*\u001b[39;49m\u001b[43margs\u001b[49m\u001b[43m,\u001b[49m\u001b[43m \u001b[49m\u001b[43mcallback_timeout\u001b[49m\u001b[38;5;241;43m=\u001b[39;49m\u001b[43mcallback_timeout\u001b[49m\u001b[43m,\u001b[49m\u001b[43m \u001b[49m\u001b[38;5;241;43m*\u001b[39;49m\u001b[38;5;241;43m*\u001b[39;49m\u001b[43mkwargs\u001b[49m\n\u001b[1;32m    341\u001b[0m \u001b[43m    \u001b[49m\u001b[43m)\u001b[49m\n",
      "File \u001b[0;32m/usr/lib/python3.10/site-packages/distributed/utils.py:402\u001b[0m, in \u001b[0;36msync\u001b[0;34m(loop, func, callback_timeout, *args, **kwargs)\u001b[0m\n\u001b[1;32m    400\u001b[0m \u001b[38;5;28;01melse\u001b[39;00m:\n\u001b[1;32m    401\u001b[0m     \u001b[38;5;28;01mwhile\u001b[39;00m \u001b[38;5;129;01mnot\u001b[39;00m e\u001b[38;5;241m.\u001b[39mis_set():\n\u001b[0;32m--> 402\u001b[0m         \u001b[43mwait\u001b[49m\u001b[43m(\u001b[49m\u001b[38;5;241;43m10\u001b[39;49m\u001b[43m)\u001b[49m\n\u001b[1;32m    404\u001b[0m \u001b[38;5;28;01mif\u001b[39;00m error:\n\u001b[1;32m    405\u001b[0m     typ, exc, tb \u001b[38;5;241m=\u001b[39m error\n",
      "File \u001b[0;32m/usr/lib/python3.10/site-packages/distributed/utils.py:391\u001b[0m, in \u001b[0;36msync.<locals>.wait\u001b[0;34m(timeout)\u001b[0m\n\u001b[1;32m    389\u001b[0m \u001b[38;5;28;01mdef\u001b[39;00m \u001b[38;5;21mwait\u001b[39m(timeout):\n\u001b[1;32m    390\u001b[0m     \u001b[38;5;28;01mtry\u001b[39;00m:\n\u001b[0;32m--> 391\u001b[0m         \u001b[38;5;28;01mreturn\u001b[39;00m \u001b[43me\u001b[49m\u001b[38;5;241;43m.\u001b[39;49m\u001b[43mwait\u001b[49m\u001b[43m(\u001b[49m\u001b[43mtimeout\u001b[49m\u001b[43m)\u001b[49m\n\u001b[1;32m    392\u001b[0m     \u001b[38;5;28;01mexcept\u001b[39;00m \u001b[38;5;167;01mKeyboardInterrupt\u001b[39;00m:\n\u001b[1;32m    393\u001b[0m         loop\u001b[38;5;241m.\u001b[39madd_callback(cancel)\n",
      "File \u001b[0;32m/usr/lib/python3.10/threading.py:607\u001b[0m, in \u001b[0;36mEvent.wait\u001b[0;34m(self, timeout)\u001b[0m\n\u001b[1;32m    605\u001b[0m signaled \u001b[38;5;241m=\u001b[39m \u001b[38;5;28mself\u001b[39m\u001b[38;5;241m.\u001b[39m_flag\n\u001b[1;32m    606\u001b[0m \u001b[38;5;28;01mif\u001b[39;00m \u001b[38;5;129;01mnot\u001b[39;00m signaled:\n\u001b[0;32m--> 607\u001b[0m     signaled \u001b[38;5;241m=\u001b[39m \u001b[38;5;28;43mself\u001b[39;49m\u001b[38;5;241;43m.\u001b[39;49m\u001b[43m_cond\u001b[49m\u001b[38;5;241;43m.\u001b[39;49m\u001b[43mwait\u001b[49m\u001b[43m(\u001b[49m\u001b[43mtimeout\u001b[49m\u001b[43m)\u001b[49m\n\u001b[1;32m    608\u001b[0m \u001b[38;5;28;01mreturn\u001b[39;00m signaled\n",
      "File \u001b[0;32m/usr/lib/python3.10/threading.py:324\u001b[0m, in \u001b[0;36mCondition.wait\u001b[0;34m(self, timeout)\u001b[0m\n\u001b[1;32m    322\u001b[0m \u001b[38;5;28;01melse\u001b[39;00m:\n\u001b[1;32m    323\u001b[0m     \u001b[38;5;28;01mif\u001b[39;00m timeout \u001b[38;5;241m>\u001b[39m \u001b[38;5;241m0\u001b[39m:\n\u001b[0;32m--> 324\u001b[0m         gotit \u001b[38;5;241m=\u001b[39m \u001b[43mwaiter\u001b[49m\u001b[38;5;241;43m.\u001b[39;49m\u001b[43macquire\u001b[49m\u001b[43m(\u001b[49m\u001b[38;5;28;43;01mTrue\u001b[39;49;00m\u001b[43m,\u001b[49m\u001b[43m \u001b[49m\u001b[43mtimeout\u001b[49m\u001b[43m)\u001b[49m\n\u001b[1;32m    325\u001b[0m     \u001b[38;5;28;01melse\u001b[39;00m:\n\u001b[1;32m    326\u001b[0m         gotit \u001b[38;5;241m=\u001b[39m waiter\u001b[38;5;241m.\u001b[39macquire(\u001b[38;5;28;01mFalse\u001b[39;00m)\n",
      "\u001b[0;31mKeyboardInterrupt\u001b[0m: "
     ]
    },
    {
     "data": {
      "text/html": [
       "<pre style=\"white-space:pre;overflow-x:auto;line-height:normal;font-family:Menlo,'DejaVu Sans Mono',consolas,'Courier New',monospace\">19:28:27.822 | <span style=\"color: #008080; text-decoration-color: #008080\">INFO</span>    | distributed.nanny - Closing Nanny gracefully at 'tcp://127.0.0.1:37037'. Reason: worker-handle-scheduler-connection-broken\n",
       "</pre>\n"
      ],
      "text/plain": [
       "19:28:27.822 | \u001b[36mINFO\u001b[0m    | distributed.nanny - Closing Nanny gracefully at 'tcp://127.0.0.1:37037'. Reason: worker-handle-scheduler-connection-broken\n"
      ]
     },
     "metadata": {},
     "output_type": "display_data"
    },
    {
     "data": {
      "text/html": [
       "<pre style=\"white-space:pre;overflow-x:auto;line-height:normal;font-family:Menlo,'DejaVu Sans Mono',consolas,'Courier New',monospace\">19:28:27.826 | <span style=\"color: #008080; text-decoration-color: #008080\">INFO</span>    | distributed.nanny - Closing Nanny gracefully at 'tcp://127.0.0.1:42823'. Reason: worker-handle-scheduler-connection-broken\n",
       "</pre>\n"
      ],
      "text/plain": [
       "19:28:27.826 | \u001b[36mINFO\u001b[0m    | distributed.nanny - Closing Nanny gracefully at 'tcp://127.0.0.1:42823'. Reason: worker-handle-scheduler-connection-broken\n"
      ]
     },
     "metadata": {},
     "output_type": "display_data"
    },
    {
     "data": {
      "text/html": [
       "<pre style=\"white-space:pre;overflow-x:auto;line-height:normal;font-family:Menlo,'DejaVu Sans Mono',consolas,'Courier New',monospace\">19:28:27.828 | <span style=\"color: #008080; text-decoration-color: #008080\">INFO</span>    | distributed.nanny - Closing Nanny gracefully at 'tcp://127.0.0.1:39055'. Reason: worker-handle-scheduler-connection-broken\n",
       "</pre>\n"
      ],
      "text/plain": [
       "19:28:27.828 | \u001b[36mINFO\u001b[0m    | distributed.nanny - Closing Nanny gracefully at 'tcp://127.0.0.1:39055'. Reason: worker-handle-scheduler-connection-broken\n"
      ]
     },
     "metadata": {},
     "output_type": "display_data"
    },
    {
     "data": {
      "text/html": [
       "<pre style=\"white-space:pre;overflow-x:auto;line-height:normal;font-family:Menlo,'DejaVu Sans Mono',consolas,'Courier New',monospace\">19:28:27.830 | <span style=\"color: #008080; text-decoration-color: #008080\">INFO</span>    | distributed.nanny - Closing Nanny gracefully at 'tcp://127.0.0.1:42321'. Reason: worker-handle-scheduler-connection-broken\n",
       "</pre>\n"
      ],
      "text/plain": [
       "19:28:27.830 | \u001b[36mINFO\u001b[0m    | distributed.nanny - Closing Nanny gracefully at 'tcp://127.0.0.1:42321'. Reason: worker-handle-scheduler-connection-broken\n"
      ]
     },
     "metadata": {},
     "output_type": "display_data"
    },
    {
     "data": {
      "text/html": [
       "<pre style=\"white-space:pre;overflow-x:auto;line-height:normal;font-family:Menlo,'DejaVu Sans Mono',consolas,'Courier New',monospace\">19:28:27.832 | <span style=\"color: #008080; text-decoration-color: #008080\">INFO</span>    | distributed.nanny - Closing Nanny gracefully at 'tcp://127.0.0.1:42917'. Reason: worker-handle-scheduler-connection-broken\n",
       "</pre>\n"
      ],
      "text/plain": [
       "19:28:27.832 | \u001b[36mINFO\u001b[0m    | distributed.nanny - Closing Nanny gracefully at 'tcp://127.0.0.1:42917'. Reason: worker-handle-scheduler-connection-broken\n"
      ]
     },
     "metadata": {},
     "output_type": "display_data"
    },
    {
     "data": {
      "text/html": [
       "<pre style=\"white-space:pre;overflow-x:auto;line-height:normal;font-family:Menlo,'DejaVu Sans Mono',consolas,'Courier New',monospace\">19:28:27.834 | <span style=\"color: #008080; text-decoration-color: #008080\">INFO</span>    | distributed.nanny - Closing Nanny gracefully at 'tcp://127.0.0.1:45241'. Reason: worker-handle-scheduler-connection-broken\n",
       "</pre>\n"
      ],
      "text/plain": [
       "19:28:27.834 | \u001b[36mINFO\u001b[0m    | distributed.nanny - Closing Nanny gracefully at 'tcp://127.0.0.1:45241'. Reason: worker-handle-scheduler-connection-broken\n"
      ]
     },
     "metadata": {},
     "output_type": "display_data"
    },
    {
     "name": "stderr",
     "output_type": "stream",
     "text": [
      "2023-04-23 19:28:29,829 - distributed.nanny - ERROR - Worker process died unexpectedly\n",
      "Process Dask Worker process (from Nanny):\n",
      "Traceback (most recent call last):\n",
      "2023-04-23 19:28:29,830 - distributed.nanny - ERROR - Worker process died unexpectedly\n",
      "  File \"/usr/lib/python3.10/multiprocessing/process.py\", line 314, in _bootstrap\n",
      "    self.run()\n",
      "  File \"/usr/lib/python3.10/multiprocessing/process.py\", line 108, in run\n",
      "    self._target(*self._args, **self._kwargs)\n",
      "  File \"/usr/lib/python3.10/site-packages/distributed/process.py\", line 188, in _run\n",
      "    target(*args, **kwargs)\n",
      "  File \"/usr/lib/python3.10/site-packages/distributed/nanny.py\", line 981, in _run\n",
      "    asyncio.run(run())\n",
      "  File \"/usr/lib/python3.10/asyncio/runners.py\", line 44, in run\n",
      "    return loop.run_until_complete(main)\n",
      "  File \"/usr/lib/python3.10/asyncio/base_events.py\", line 636, in run_until_complete\n",
      "    self.run_forever()\n",
      "  File \"/usr/lib/python3.10/asyncio/base_events.py\", line 603, in run_forever\n",
      "    self._run_once()\n",
      "  File \"/usr/lib/python3.10/asyncio/base_events.py\", line 1871, in _run_once\n",
      "    event_list = self._selector.select(timeout)\n",
      "  File \"/usr/lib/python3.10/selectors.py\", line 469, in select\n",
      "    fd_event_list = self._selector.poll(timeout, max_ev)\n",
      "KeyboardInterrupt\n",
      "Process Dask Worker process (from Nanny):\n",
      "Traceback (most recent call last):\n",
      "  File \"/usr/lib/python3.10/multiprocessing/process.py\", line 314, in _bootstrap\n",
      "    self.run()\n",
      "  File \"/usr/lib/python3.10/multiprocessing/process.py\", line 108, in run\n",
      "    self._target(*self._args, **self._kwargs)\n",
      "  File \"/usr/lib/python3.10/site-packages/distributed/process.py\", line 188, in _run\n",
      "    target(*args, **kwargs)\n",
      "  File \"/usr/lib/python3.10/site-packages/distributed/nanny.py\", line 981, in _run\n",
      "    asyncio.run(run())\n",
      "  File \"/usr/lib/python3.10/asyncio/runners.py\", line 44, in run\n",
      "    return loop.run_until_complete(main)\n",
      "  File \"/usr/lib/python3.10/asyncio/base_events.py\", line 636, in run_until_complete\n",
      "    self.run_forever()\n",
      "  File \"/usr/lib/python3.10/asyncio/base_events.py\", line 603, in run_forever\n",
      "    self._run_once()\n",
      "  File \"/usr/lib/python3.10/asyncio/base_events.py\", line 1871, in _run_once\n",
      "    event_list = self._selector.select(timeout)\n",
      "  File \"/usr/lib/python3.10/selectors.py\", line 469, in select\n",
      "    fd_event_list = self._selector.poll(timeout, max_ev)\n",
      "KeyboardInterrupt\n",
      "2023-04-23 19:28:29,832 - distributed.nanny - ERROR - Worker process died unexpectedly\n",
      "Process Dask Worker process (from Nanny):\n",
      "Traceback (most recent call last):\n",
      "  File \"/usr/lib/python3.10/multiprocessing/process.py\", line 314, in _bootstrap\n",
      "    self.run()\n",
      "  File \"/usr/lib/python3.10/multiprocessing/process.py\", line 108, in run\n",
      "    self._target(*self._args, **self._kwargs)\n",
      "  File \"/usr/lib/python3.10/site-packages/distributed/process.py\", line 188, in _run\n",
      "    target(*args, **kwargs)\n",
      "  File \"/usr/lib/python3.10/site-packages/distributed/nanny.py\", line 981, in _run\n",
      "    asyncio.run(run())\n",
      "  File \"/usr/lib/python3.10/asyncio/runners.py\", line 44, in run\n",
      "    return loop.run_until_complete(main)\n",
      "  File \"/usr/lib/python3.10/asyncio/base_events.py\", line 636, in run_until_complete\n",
      "    self.run_forever()\n",
      "  File \"/usr/lib/python3.10/asyncio/base_events.py\", line 603, in run_forever\n",
      "    self._run_once()\n",
      "  File \"/usr/lib/python3.10/asyncio/base_events.py\", line 1871, in _run_once\n",
      "    event_list = self._selector.select(timeout)\n",
      "  File \"/usr/lib/python3.10/selectors.py\", line 469, in select\n",
      "    fd_event_list = self._selector.poll(timeout, max_ev)\n",
      "KeyboardInterrupt\n",
      "2023-04-23 19:28:29,835 - distributed.nanny - ERROR - Worker process died unexpectedly\n",
      "Process Dask Worker process (from Nanny):\n",
      "Traceback (most recent call last):\n",
      "  File \"/usr/lib/python3.10/multiprocessing/process.py\", line 314, in _bootstrap\n",
      "    self.run()\n",
      "  File \"/usr/lib/python3.10/multiprocessing/process.py\", line 108, in run\n",
      "    self._target(*self._args, **self._kwargs)\n",
      "  File \"/usr/lib/python3.10/site-packages/distributed/process.py\", line 188, in _run\n",
      "    target(*args, **kwargs)\n",
      "  File \"/usr/lib/python3.10/site-packages/distributed/nanny.py\", line 981, in _run\n",
      "    asyncio.run(run())\n",
      "  File \"/usr/lib/python3.10/asyncio/runners.py\", line 44, in run\n",
      "    return loop.run_until_complete(main)\n",
      "  File \"/usr/lib/python3.10/asyncio/base_events.py\", line 636, in run_until_complete\n",
      "    self.run_forever()\n",
      "  File \"/usr/lib/python3.10/asyncio/base_events.py\", line 603, in run_forever\n",
      "    self._run_once()\n",
      "  File \"/usr/lib/python3.10/asyncio/base_events.py\", line 1871, in _run_once\n",
      "    event_list = self._selector.select(timeout)\n",
      "  File \"/usr/lib/python3.10/selectors.py\", line 469, in select\n",
      "    fd_event_list = self._selector.poll(timeout, max_ev)\n",
      "KeyboardInterrupt\n",
      "2023-04-23 19:28:29,837 - distributed.nanny - ERROR - Worker process died unexpectedly\n",
      "Process Dask Worker process (from Nanny):\n",
      "Traceback (most recent call last):\n",
      "  File \"/usr/lib/python3.10/multiprocessing/process.py\", line 314, in _bootstrap\n",
      "    self.run()\n",
      "  File \"/usr/lib/python3.10/multiprocessing/process.py\", line 108, in run\n",
      "    self._target(*self._args, **self._kwargs)\n",
      "  File \"/usr/lib/python3.10/site-packages/distributed/process.py\", line 188, in _run\n",
      "    target(*args, **kwargs)\n",
      "  File \"/usr/lib/python3.10/site-packages/distributed/nanny.py\", line 981, in _run\n",
      "    asyncio.run(run())\n",
      "  File \"/usr/lib/python3.10/asyncio/runners.py\", line 44, in run\n",
      "    return loop.run_until_complete(main)\n",
      "  File \"/usr/lib/python3.10/asyncio/base_events.py\", line 636, in run_until_complete\n",
      "    self.run_forever()\n",
      "  File \"/usr/lib/python3.10/asyncio/base_events.py\", line 603, in run_forever\n",
      "    self._run_once()\n",
      "  File \"/usr/lib/python3.10/asyncio/base_events.py\", line 1871, in _run_once\n",
      "    event_list = self._selector.select(timeout)\n",
      "  File \"/usr/lib/python3.10/selectors.py\", line 469, in select\n",
      "    fd_event_list = self._selector.poll(timeout, max_ev)\n",
      "KeyboardInterrupt\n",
      "2023-04-23 19:28:29,839 - distributed.nanny - ERROR - Worker process died unexpectedly\n",
      "Process Dask Worker process (from Nanny):\n",
      "Traceback (most recent call last):\n",
      "  File \"/usr/lib/python3.10/multiprocessing/process.py\", line 314, in _bootstrap\n",
      "    self.run()\n",
      "  File \"/usr/lib/python3.10/multiprocessing/process.py\", line 108, in run\n",
      "    self._target(*self._args, **self._kwargs)\n",
      "  File \"/usr/lib/python3.10/site-packages/distributed/process.py\", line 188, in _run\n",
      "    target(*args, **kwargs)\n",
      "  File \"/usr/lib/python3.10/site-packages/distributed/nanny.py\", line 981, in _run\n",
      "    asyncio.run(run())\n",
      "  File \"/usr/lib/python3.10/asyncio/runners.py\", line 44, in run\n",
      "    return loop.run_until_complete(main)\n",
      "  File \"/usr/lib/python3.10/asyncio/base_events.py\", line 636, in run_until_complete\n",
      "    self.run_forever()\n",
      "  File \"/usr/lib/python3.10/asyncio/base_events.py\", line 603, in run_forever\n",
      "    self._run_once()\n",
      "  File \"/usr/lib/python3.10/asyncio/base_events.py\", line 1871, in _run_once\n",
      "    event_list = self._selector.select(timeout)\n",
      "  File \"/usr/lib/python3.10/selectors.py\", line 469, in select\n",
      "    fd_event_list = self._selector.poll(timeout, max_ev)\n",
      "KeyboardInterrupt\n"
     ]
    },
    {
     "data": {
      "text/html": [
       "<pre style=\"white-space:pre;overflow-x:auto;line-height:normal;font-family:Menlo,'DejaVu Sans Mono',consolas,'Courier New',monospace\">19:28:30.083 | <span style=\"color: #008080; text-decoration-color: #008080\">INFO</span>    | distributed.nanny - Worker process 10798 exited with status 1\n",
       "</pre>\n"
      ],
      "text/plain": [
       "19:28:30.083 | \u001b[36mINFO\u001b[0m    | distributed.nanny - Worker process 10798 exited with status 1\n"
      ]
     },
     "metadata": {},
     "output_type": "display_data"
    },
    {
     "data": {
      "text/html": [
       "<pre style=\"white-space:pre;overflow-x:auto;line-height:normal;font-family:Menlo,'DejaVu Sans Mono',consolas,'Courier New',monospace\">19:28:30.086 | <span style=\"color: #008080; text-decoration-color: #008080\">INFO</span>    | distributed.nanny - Closing Nanny at 'tcp://127.0.0.1:37037'. Reason: nanny-close-gracefully\n",
       "</pre>\n"
      ],
      "text/plain": [
       "19:28:30.086 | \u001b[36mINFO\u001b[0m    | distributed.nanny - Closing Nanny at 'tcp://127.0.0.1:37037'. Reason: nanny-close-gracefully\n"
      ]
     },
     "metadata": {},
     "output_type": "display_data"
    },
    {
     "data": {
      "text/html": [
       "<pre style=\"white-space:pre;overflow-x:auto;line-height:normal;font-family:Menlo,'DejaVu Sans Mono',consolas,'Courier New',monospace\">19:28:30.093 | <span style=\"color: #008080; text-decoration-color: #008080\">INFO</span>    | distributed.nanny - Worker process 10810 exited with status 1\n",
       "</pre>\n"
      ],
      "text/plain": [
       "19:28:30.093 | \u001b[36mINFO\u001b[0m    | distributed.nanny - Worker process 10810 exited with status 1\n"
      ]
     },
     "metadata": {},
     "output_type": "display_data"
    },
    {
     "data": {
      "text/html": [
       "<pre style=\"white-space:pre;overflow-x:auto;line-height:normal;font-family:Menlo,'DejaVu Sans Mono',consolas,'Courier New',monospace\">19:28:30.096 | <span style=\"color: #008080; text-decoration-color: #008080\">INFO</span>    | distributed.nanny - Closing Nanny at 'tcp://127.0.0.1:39055'. Reason: nanny-close-gracefully\n",
       "</pre>\n"
      ],
      "text/plain": [
       "19:28:30.096 | \u001b[36mINFO\u001b[0m    | distributed.nanny - Closing Nanny at 'tcp://127.0.0.1:39055'. Reason: nanny-close-gracefully\n"
      ]
     },
     "metadata": {},
     "output_type": "display_data"
    },
    {
     "data": {
      "text/html": [
       "<pre style=\"white-space:pre;overflow-x:auto;line-height:normal;font-family:Menlo,'DejaVu Sans Mono',consolas,'Courier New',monospace\">19:28:30.097 | <span style=\"color: #008080; text-decoration-color: #008080\">INFO</span>    | distributed.nanny - Worker process 10805 exited with status 1\n",
       "</pre>\n"
      ],
      "text/plain": [
       "19:28:30.097 | \u001b[36mINFO\u001b[0m    | distributed.nanny - Worker process 10805 exited with status 1\n"
      ]
     },
     "metadata": {},
     "output_type": "display_data"
    },
    {
     "data": {
      "text/html": [
       "<pre style=\"white-space:pre;overflow-x:auto;line-height:normal;font-family:Menlo,'DejaVu Sans Mono',consolas,'Courier New',monospace\">19:28:30.100 | <span style=\"color: #008080; text-decoration-color: #008080\">INFO</span>    | distributed.nanny - Worker process 10801 exited with status 1\n",
       "</pre>\n"
      ],
      "text/plain": [
       "19:28:30.100 | \u001b[36mINFO\u001b[0m    | distributed.nanny - Worker process 10801 exited with status 1\n"
      ]
     },
     "metadata": {},
     "output_type": "display_data"
    },
    {
     "data": {
      "text/html": [
       "<pre style=\"white-space:pre;overflow-x:auto;line-height:normal;font-family:Menlo,'DejaVu Sans Mono',consolas,'Courier New',monospace\">19:28:30.102 | <span style=\"color: #008080; text-decoration-color: #008080\">INFO</span>    | distributed.nanny - Closing Nanny at 'tcp://127.0.0.1:42823'. Reason: nanny-close-gracefully\n",
       "</pre>\n"
      ],
      "text/plain": [
       "19:28:30.102 | \u001b[36mINFO\u001b[0m    | distributed.nanny - Closing Nanny at 'tcp://127.0.0.1:42823'. Reason: nanny-close-gracefully\n"
      ]
     },
     "metadata": {},
     "output_type": "display_data"
    },
    {
     "data": {
      "text/html": [
       "<pre style=\"white-space:pre;overflow-x:auto;line-height:normal;font-family:Menlo,'DejaVu Sans Mono',consolas,'Courier New',monospace\">19:28:30.103 | <span style=\"color: #008080; text-decoration-color: #008080\">INFO</span>    | distributed.nanny - Closing Nanny at 'tcp://127.0.0.1:45241'. Reason: nanny-close-gracefully\n",
       "</pre>\n"
      ],
      "text/plain": [
       "19:28:30.103 | \u001b[36mINFO\u001b[0m    | distributed.nanny - Closing Nanny at 'tcp://127.0.0.1:45241'. Reason: nanny-close-gracefully\n"
      ]
     },
     "metadata": {},
     "output_type": "display_data"
    },
    {
     "data": {
      "text/html": [
       "<pre style=\"white-space:pre;overflow-x:auto;line-height:normal;font-family:Menlo,'DejaVu Sans Mono',consolas,'Courier New',monospace\">19:28:30.113 | <span style=\"color: #008080; text-decoration-color: #008080\">INFO</span>    | distributed.nanny - Worker process 10812 exited with status 1\n",
       "</pre>\n"
      ],
      "text/plain": [
       "19:28:30.113 | \u001b[36mINFO\u001b[0m    | distributed.nanny - Worker process 10812 exited with status 1\n"
      ]
     },
     "metadata": {},
     "output_type": "display_data"
    },
    {
     "data": {
      "text/html": [
       "<pre style=\"white-space:pre;overflow-x:auto;line-height:normal;font-family:Menlo,'DejaVu Sans Mono',consolas,'Courier New',monospace\">19:28:30.116 | <span style=\"color: #008080; text-decoration-color: #008080\">INFO</span>    | distributed.nanny - Closing Nanny at 'tcp://127.0.0.1:42917'. Reason: nanny-close-gracefully\n",
       "</pre>\n"
      ],
      "text/plain": [
       "19:28:30.116 | \u001b[36mINFO\u001b[0m    | distributed.nanny - Closing Nanny at 'tcp://127.0.0.1:42917'. Reason: nanny-close-gracefully\n"
      ]
     },
     "metadata": {},
     "output_type": "display_data"
    },
    {
     "data": {
      "text/html": [
       "<pre style=\"white-space:pre;overflow-x:auto;line-height:normal;font-family:Menlo,'DejaVu Sans Mono',consolas,'Courier New',monospace\">19:28:30.129 | <span style=\"color: #008080; text-decoration-color: #008080\">INFO</span>    | distributed.nanny - Worker process 10804 exited with status 1\n",
       "</pre>\n"
      ],
      "text/plain": [
       "19:28:30.129 | \u001b[36mINFO\u001b[0m    | distributed.nanny - Worker process 10804 exited with status 1\n"
      ]
     },
     "metadata": {},
     "output_type": "display_data"
    },
    {
     "data": {
      "text/html": [
       "<pre style=\"white-space:pre;overflow-x:auto;line-height:normal;font-family:Menlo,'DejaVu Sans Mono',consolas,'Courier New',monospace\">19:28:30.131 | <span style=\"color: #008080; text-decoration-color: #008080\">INFO</span>    | distributed.nanny - Closing Nanny at 'tcp://127.0.0.1:42321'. Reason: nanny-close-gracefully\n",
       "</pre>\n"
      ],
      "text/plain": [
       "19:28:30.131 | \u001b[36mINFO\u001b[0m    | distributed.nanny - Closing Nanny at 'tcp://127.0.0.1:42321'. Reason: nanny-close-gracefully\n"
      ]
     },
     "metadata": {},
     "output_type": "display_data"
    },
    {
     "name": "stderr",
     "output_type": "stream",
     "text": [
      "2023-04-23 19:29:15,441 - distributed.nanny.memory - WARNING - Worker tcp://127.0.0.1:33973 (pid=10795) exceeded 95% memory budget. Restarting...\n"
     ]
    },
    {
     "data": {
      "text/html": [
       "<pre style=\"white-space:pre;overflow-x:auto;line-height:normal;font-family:Menlo,'DejaVu Sans Mono',consolas,'Courier New',monospace\">19:29:15.441 | <span style=\"color: #d7d700; text-decoration-color: #d7d700\">WARNING</span> | distributed.nanny.memory - Worker tcp://127.0.0.1:33973 (pid=10795) exceeded 95% memory budget. Restarting...\n",
       "</pre>\n"
      ],
      "text/plain": [
       "19:29:15.441 | \u001b[38;5;184mWARNING\u001b[0m | distributed.nanny.memory - Worker tcp://127.0.0.1:33973 (pid=10795) exceeded 95% memory budget. Restarting...\n"
      ]
     },
     "metadata": {},
     "output_type": "display_data"
    },
    {
     "data": {
      "text/html": [
       "<pre style=\"white-space:pre;overflow-x:auto;line-height:normal;font-family:Menlo,'DejaVu Sans Mono',consolas,'Courier New',monospace\">19:29:15.567 | <span style=\"color: #008080; text-decoration-color: #008080\">INFO</span>    | distributed.core - Connection to tcp://127.0.0.1:45580 has been closed.\n",
       "</pre>\n"
      ],
      "text/plain": [
       "19:29:15.567 | \u001b[36mINFO\u001b[0m    | distributed.core - Connection to tcp://127.0.0.1:45580 has been closed.\n"
      ]
     },
     "metadata": {},
     "output_type": "display_data"
    },
    {
     "data": {
      "text/html": [
       "<pre style=\"white-space:pre;overflow-x:auto;line-height:normal;font-family:Menlo,'DejaVu Sans Mono',consolas,'Courier New',monospace\">19:29:15.569 | <span style=\"color: #008080; text-decoration-color: #008080\">INFO</span>    | distributed.scheduler - Remove worker &lt;WorkerState 'tcp://127.0.0.1:33973', name: 0, status: running, memory: 0, processing: 0&gt;\n",
       "</pre>\n"
      ],
      "text/plain": [
       "19:29:15.569 | \u001b[36mINFO\u001b[0m    | distributed.scheduler - Remove worker <WorkerState 'tcp://127.0.0.1:33973', name: 0, status: running, memory: 0, processing: 0>\n"
      ]
     },
     "metadata": {},
     "output_type": "display_data"
    },
    {
     "data": {
      "text/html": [
       "<pre style=\"white-space:pre;overflow-x:auto;line-height:normal;font-family:Menlo,'DejaVu Sans Mono',consolas,'Courier New',monospace\">19:29:15.571 | <span style=\"color: #008080; text-decoration-color: #008080\">INFO</span>    | distributed.core - Removing comms to tcp://127.0.0.1:33973\n",
       "</pre>\n"
      ],
      "text/plain": [
       "19:29:15.571 | \u001b[36mINFO\u001b[0m    | distributed.core - Removing comms to tcp://127.0.0.1:33973\n"
      ]
     },
     "metadata": {},
     "output_type": "display_data"
    },
    {
     "data": {
      "text/html": [
       "<pre style=\"white-space:pre;overflow-x:auto;line-height:normal;font-family:Menlo,'DejaVu Sans Mono',consolas,'Courier New',monospace\">19:29:15.573 | <span style=\"color: #008080; text-decoration-color: #008080\">INFO</span>    | distributed.scheduler - Lost all workers\n",
       "</pre>\n"
      ],
      "text/plain": [
       "19:29:15.573 | \u001b[36mINFO\u001b[0m    | distributed.scheduler - Lost all workers\n"
      ]
     },
     "metadata": {},
     "output_type": "display_data"
    },
    {
     "data": {
      "text/html": [
       "<pre style=\"white-space:pre;overflow-x:auto;line-height:normal;font-family:Menlo,'DejaVu Sans Mono',consolas,'Courier New',monospace\">19:29:15.575 | <span style=\"color: #008080; text-decoration-color: #008080\">INFO</span>    | distributed.nanny - Worker process 10795 was killed by signal 15\n",
       "</pre>\n"
      ],
      "text/plain": [
       "19:29:15.575 | \u001b[36mINFO\u001b[0m    | distributed.nanny - Worker process 10795 was killed by signal 15\n"
      ]
     },
     "metadata": {},
     "output_type": "display_data"
    },
    {
     "name": "stderr",
     "output_type": "stream",
     "text": [
      "2023-04-23 19:29:15,581 - distributed.nanny - WARNING - Restarting worker\n"
     ]
    },
    {
     "data": {
      "text/html": [
       "<pre style=\"white-space:pre;overflow-x:auto;line-height:normal;font-family:Menlo,'DejaVu Sans Mono',consolas,'Courier New',monospace\">19:29:15.581 | <span style=\"color: #d7d700; text-decoration-color: #d7d700\">WARNING</span> | distributed.nanny - Restarting worker\n",
       "</pre>\n"
      ],
      "text/plain": [
       "19:29:15.581 | \u001b[38;5;184mWARNING\u001b[0m | distributed.nanny - Restarting worker\n"
      ]
     },
     "metadata": {},
     "output_type": "display_data"
    },
    {
     "data": {
      "text/html": [
       "<pre style=\"white-space:pre;overflow-x:auto;line-height:normal;font-family:Menlo,'DejaVu Sans Mono',consolas,'Courier New',monospace\">19:29:16.092 | <span style=\"color: #008080; text-decoration-color: #008080\">INFO</span>    | distributed.scheduler - Register worker &lt;WorkerState 'tcp://127.0.0.1:43953', name: 0, status: init, memory: 0, processing: 0&gt;\n",
       "</pre>\n"
      ],
      "text/plain": [
       "19:29:16.092 | \u001b[36mINFO\u001b[0m    | distributed.scheduler - Register worker <WorkerState 'tcp://127.0.0.1:43953', name: 0, status: init, memory: 0, processing: 0>\n"
      ]
     },
     "metadata": {},
     "output_type": "display_data"
    },
    {
     "data": {
      "text/html": [
       "<pre style=\"white-space:pre;overflow-x:auto;line-height:normal;font-family:Menlo,'DejaVu Sans Mono',consolas,'Courier New',monospace\">19:29:16.095 | <span style=\"color: #008080; text-decoration-color: #008080\">INFO</span>    | distributed.scheduler - Starting worker compute stream, tcp://127.0.0.1:43953\n",
       "</pre>\n"
      ],
      "text/plain": [
       "19:29:16.095 | \u001b[36mINFO\u001b[0m    | distributed.scheduler - Starting worker compute stream, tcp://127.0.0.1:43953\n"
      ]
     },
     "metadata": {},
     "output_type": "display_data"
    },
    {
     "data": {
      "text/html": [
       "<pre style=\"white-space:pre;overflow-x:auto;line-height:normal;font-family:Menlo,'DejaVu Sans Mono',consolas,'Courier New',monospace\">19:29:16.097 | <span style=\"color: #008080; text-decoration-color: #008080\">INFO</span>    | distributed.core - Starting established connection to tcp://127.0.0.1:38130\n",
       "</pre>\n"
      ],
      "text/plain": [
       "19:29:16.097 | \u001b[36mINFO\u001b[0m    | distributed.core - Starting established connection to tcp://127.0.0.1:38130\n"
      ]
     },
     "metadata": {},
     "output_type": "display_data"
    }
   ],
   "source": [
    "get_interactions(file).head().visualize(filename='test.svg', optimize_graph=True)"
   ]
  },
  {
   "cell_type": "code",
   "execution_count": 37,
   "id": "c34ee44c-893a-4148-af60-e46f7470c41e",
   "metadata": {
    "tags": []
   },
   "outputs": [
    {
     "data": {
      "text/html": [
       "<div>\n",
       "    <div>\n",
       "        <div style=\"width: 52px; height: 52px; position: absolute;\">\n",
       "            <svg width=\"76\" height=\"71\" viewBox=\"0 0 76 71\" fill=\"none\" xmlns=\"http://www.w3.org/2000/svg\">\n",
       "                <circle cx=\"61.5\" cy=\"36.5\" r=\"13.5\" style=\"stroke: var(--jp-ui-font-color2, #1D1D1D); fill: var(--jp-layout-color1, #F2F2F2);\" stroke-width=\"2\"/>\n",
       "                <circle cx=\"14.5\" cy=\"14.5\" r=\"13.5\" style=\"stroke: var(--jp-ui-font-color2, #1D1D1D); fill: var(--jp-layout-color1, #F2F2F2);\" stroke-width=\"2\"/>\n",
       "                <circle cx=\"14.5\" cy=\"56.5\" r=\"13.5\" style=\"stroke: var(--jp-ui-font-color2, #1D1D1D); fill: var(--jp-layout-color1, #F2F2F2);\" stroke-width=\"2\"/>\n",
       "                <path d=\"M28 16L30.5 16C33.2614 16 35.5 18.2386 35.5 21L35.5 32.0001C35.5 34.7615 37.7386 37.0001 40.5 37.0001L43 37.0001\" style=\"stroke: var(--jp-ui-font-color2, #1D1D1D);\" stroke-width=\"1.5\"/>\n",
       "                <path d=\"M40.5 37L40.5 37.75L40.5 37.75L40.5 37ZM35.5 42L36.25 42L35.5 42ZM35.5 52L34.75 52L35.5 52ZM30.5 57L30.5 57.75L30.5 57ZM41.5001 36.25L40.5 36.25L40.5 37.75L41.5001 37.75L41.5001 36.25ZM34.75 42L34.75 52L36.25 52L36.25 42L34.75 42ZM30.5 56.25L28.0001 56.25L28.0001 57.75L30.5 57.75L30.5 56.25ZM34.75 52C34.75 54.3472 32.8472 56.25 30.5 56.25L30.5 57.75C33.6756 57.75 36.25 55.1756 36.25 52L34.75 52ZM40.5 36.25C37.3244 36.25 34.75 38.8243 34.75 42L36.25 42C36.25 39.6528 38.1528 37.75 40.5 37.75L40.5 36.25Z\" style=\"fill: var(--jp-ui-font-color2, #1D1D1D);\"/>\n",
       "                <circle cx=\"28\" cy=\"16\" r=\"2.25\" fill=\"#E5E5E5\" style=\"stroke: var(--jp-ui-font-color2, #1D1D1D);\" stroke-width=\"1.5\"/>\n",
       "                <circle cx=\"28\" cy=\"57\" r=\"2.25\" fill=\"#E5E5E5\" style=\"stroke: var(--jp-ui-font-color2, #1D1D1D);\" stroke-width=\"1.5\"/>\n",
       "                <path d=\"M45.25 36.567C45.5833 36.7594 45.5833 37.2406 45.25 37.433L42.25 39.1651C41.9167 39.3575 41.5 39.117 41.5 38.7321V35.2679C41.5 34.883 41.9167 34.6425 42.25 34.8349L45.25 36.567Z\" style=\"fill: var(--jp-ui-font-color2, #1D1D1D);\"/>\n",
       "            </svg>\n",
       "        </div>\n",
       "        <div style=\"margin-left: 64px;\">\n",
       "            <h3 style=\"margin-bottom: 0px;\">HighLevelGraph</h3>\n",
       "            <p style=\"color: var(--jp-ui-font-color2, #5D5851); margin-bottom:0px;\">\n",
       "                HighLevelGraph with 1 layers and 38 keys from all layers.\n",
       "            </p>\n",
       "            \n",
       "            <div style=\"\">\n",
       "    <svg width=\"24\" height=\"24\" viewBox=\"0 0 32 32\" fill=\"none\" xmlns=\"http://www.w3.org/2000/svg\" style=\"position: absolute;\">\n",
       "        \n",
       "        <circle cx=\"16\" cy=\"16\" r=\"14\" fill=\"#8F8F8F\" style=\"stroke: var(--jp-ui-font-color2, #1D1D1D);\" stroke-width=\"2\"/>\n",
       "        \n",
       "    </svg>\n",
       "\n",
       "    <details style=\"margin-left: 32px;\">\n",
       "        <summary style=\"margin-bottom: 10px; margin-top: 10px;\">\n",
       "            <h4 style=\"display: inline;\">Layer1: to_dataframe</h4>\n",
       "        </summary>\n",
       "        <p style=\"color: var(--jp-ui-font-color2, #5D5851); margin: -0.25em 0px 0px 0px;\">\n",
       "            to_dataframe-5501d2b9417211ea4323936141106d1d\n",
       "        </p>\n",
       "\n",
       "        <table>\n",
       "        <tr>\n",
       "            <td>\n",
       "                <table>\n",
       "                \n",
       "                    <tr>\n",
       "                        <th style=\"text-align: left; width: 150px;\">layer_type</th>\n",
       "                        <td style=\"text-align: left;\">MaterializedLayer</td>\n",
       "                    </tr>\n",
       "                \n",
       "                    <tr>\n",
       "                        <th style=\"text-align: left; width: 150px;\">is_materialized</th>\n",
       "                        <td style=\"text-align: left;\">True</td>\n",
       "                    </tr>\n",
       "                \n",
       "                    <tr>\n",
       "                        <th style=\"text-align: left; width: 150px;\">number of outputs</th>\n",
       "                        <td style=\"text-align: left;\">38</td>\n",
       "                    </tr>\n",
       "                \n",
       "                    <tr>\n",
       "                        <th style=\"text-align: left; width: 150px;\">npartitions</th>\n",
       "                        <td style=\"text-align: left;\">19</td>\n",
       "                    </tr>\n",
       "                \n",
       "                    <tr>\n",
       "                        <th style=\"text-align: left; width: 150px;\">columns</th>\n",
       "                        <td style=\"text-align: left;\">[&#x27;time_first_event&#x27;, &#x27;timestamp&#x27;, &#x27;iTED&#x27;, &#x27;crystal&#x27;, &#x27;energy&#x27;]</td>\n",
       "                    </tr>\n",
       "                \n",
       "                    <tr>\n",
       "                        <th style=\"text-align: left; width: 150px;\">type</th>\n",
       "                        <td style=\"text-align: left;\">dask.dataframe.core.DataFrame</td>\n",
       "                    </tr>\n",
       "                \n",
       "                    <tr>\n",
       "                        <th style=\"text-align: left; width: 150px;\">dataframe_type</th>\n",
       "                        <td style=\"text-align: left;\">pandas.core.frame.DataFrame</td>\n",
       "                    </tr>\n",
       "                \n",
       "                    <tr>\n",
       "                        <th style=\"text-align: left; width: 150px;\">series_dtypes</th>\n",
       "                        <td style=\"text-align: left;\">{&#x27;time_first_event&#x27;: dtype(&#x27;int64&#x27;), &#x27;timestamp&#x27;: dtype(&#x27;int64&#x27;), &#x27;iTED&#x27;: dtype(&#x27;int8&#x27;), &#x27;crystal&#x27;: dtype(&#x27;int8&#x27;), &#x27;energy&#x27;: dtype(&#x27;float32&#x27;)}</td>\n",
       "                    </tr>\n",
       "                \n",
       "                \n",
       "                </table>\n",
       "            </td>\n",
       "            <td>\n",
       "                \n",
       "            </td>\n",
       "        </tr>\n",
       "        </table>\n",
       "\n",
       "    </details>\n",
       "</div>\n",
       "            \n",
       "        </div>\n",
       "    </div>\n",
       "</div>"
      ],
      "text/plain": [
       "HighLevelGraph with 1 layers.\n",
       "<dask.highlevelgraph.HighLevelGraph object at 0x7fef883baad0>\n",
       " 0. to_dataframe-5501d2b9417211ea4323936141106d1d"
      ]
     },
     "execution_count": 37,
     "metadata": {},
     "output_type": "execute_result"
    }
   ],
   "source": [
    "a.dask"
   ]
  },
  {
   "cell_type": "code",
   "execution_count": null,
   "id": "56ce961a-79f1-46cc-a5a8-94a91bd9eb54",
   "metadata": {},
   "outputs": [],
   "source": []
  }
 ],
 "metadata": {
  "kernelspec": {
   "display_name": "Python 3 (ipykernel)",
   "language": "python",
   "name": "python3"
  },
  "language_info": {
   "codemirror_mode": {
    "name": "ipython",
    "version": 3
   },
   "file_extension": ".py",
   "mimetype": "text/x-python",
   "name": "python",
   "nbconvert_exporter": "python",
   "pygments_lexer": "ipython3",
   "version": "3.10.10"
  }
 },
 "nbformat": 4,
 "nbformat_minor": 5
}
