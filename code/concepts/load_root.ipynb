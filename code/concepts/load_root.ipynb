{
 "cells": [
  {
   "cell_type": "code",
   "execution_count": 1,
   "id": "17f6fa13-8962-4f8c-81e5-1bac23eae574",
   "metadata": {
    "tags": []
   },
   "outputs": [
    {
     "name": "stdout",
     "output_type": "stream",
     "text": [
      "uproot              4.3.5\n",
      "Welcome to JupyROOT 6.26/10\n",
      "sklearn             1.2.0\n",
      "torch               1.13.1\n",
      "scipy               1.10.1\n",
      "numpy               1.24.2\n",
      "pandas              1.5.3\n",
      "modin               0.18.1\n",
      "uncertainties       3.1.7\n",
      "dexplot             0.1.4\n",
      "matplotlib          3.6.2\n",
      "tqdm                4.62.3\n"
     ]
    }
   ],
   "source": [
    "pkg_ver = lambda pkg: \"{:<20}{:}\".format(pkg.__name__,pkg.__version__)\n",
    "\n",
    "# ROOT\n",
    "import uproot\n",
    "print(pkg_ver(uproot))\n",
    "import ROOT\n",
    "#print(pkg_ver(ROOT))\n",
    "\n",
    "# Machine Learning\n",
    "import sklearn\n",
    "print(pkg_ver(sklearn))\n",
    "import torch\n",
    "print(pkg_ver(torch))\n",
    "\n",
    "# Data science\n",
    "import scipy\n",
    "print(pkg_ver(scipy))\n",
    "import numpy\n",
    "print(pkg_ver(numpy))\n",
    "import pandas\n",
    "print(pkg_ver(pandas))\n",
    "import modin\n",
    "from modin import pandas as ppandas\n",
    "print(pkg_ver(modin))\n",
    "\n",
    "# Uncertainty support\n",
    "import uncertainties\n",
    "print(pkg_ver(uncertainties))\n",
    "\n",
    "# Visualizations\n",
    "import dexplot\n",
    "print(pkg_ver(dexplot))\n",
    "import matplotlib\n",
    "print(pkg_ver(matplotlib))\n",
    "plt = matplotlib.pyplot\n",
    "\n",
    "import tqdm\n",
    "print(pkg_ver(tqdm))"
   ]
  },
  {
   "cell_type": "code",
   "execution_count": 2,
   "id": "62418106-d1c6-4725-b5fe-1bded40c0b2f",
   "metadata": {
    "tags": []
   },
   "outputs": [
    {
     "data": {
      "text/html": [
       "<div>\n",
       "<style scoped>\n",
       "    .dataframe tbody tr th:only-of-type {\n",
       "        vertical-align: middle;\n",
       "    }\n",
       "\n",
       "    .dataframe tbody tr th {\n",
       "        vertical-align: top;\n",
       "    }\n",
       "\n",
       "    .dataframe thead th {\n",
       "        text-align: right;\n",
       "    }\n",
       "</style>\n",
       "<table border=\"1\" class=\"dataframe\">\n",
       "  <thead>\n",
       "    <tr style=\"text-align: right;\">\n",
       "      <th></th>\n",
       "      <th>Name</th>\n",
       "      <th>Type</th>\n",
       "    </tr>\n",
       "  </thead>\n",
       "  <tbody>\n",
       "    <tr>\n",
       "      <th>44</th>\n",
       "      <td>SCATTERER_A;1</td>\n",
       "      <td>TTree</td>\n",
       "    </tr>\n",
       "    <tr>\n",
       "      <th>45</th>\n",
       "      <td>ABSORBER_A_1;1</td>\n",
       "      <td>TTree</td>\n",
       "    </tr>\n",
       "    <tr>\n",
       "      <th>46</th>\n",
       "      <td>ABSORBER_A_2;1</td>\n",
       "      <td>TTree</td>\n",
       "    </tr>\n",
       "    <tr>\n",
       "      <th>47</th>\n",
       "      <td>ABSORBER_A_3;1</td>\n",
       "      <td>TTree</td>\n",
       "    </tr>\n",
       "    <tr>\n",
       "      <th>48</th>\n",
       "      <td>ABSORBER_A_4;1</td>\n",
       "      <td>TTree</td>\n",
       "    </tr>\n",
       "  </tbody>\n",
       "</table>\n",
       "</div>"
      ],
      "text/plain": [
       "              Name   Type\n",
       "44   SCATTERER_A;1  TTree\n",
       "45  ABSORBER_A_1;1  TTree\n",
       "46  ABSORBER_A_2;1  TTree\n",
       "47  ABSORBER_A_3;1  TTree\n",
       "48  ABSORBER_A_4;1  TTree"
      ]
     },
     "execution_count": 2,
     "metadata": {},
     "output_type": "execute_result"
    }
   ],
   "source": [
    "file = uproot.open(\"../../data/2023-02-23/8811/CW100ns/Cs137-iTEDA-A2_D.2023_02_23_T.12_21_13_C.itedABCD_lab_2023.02.22_4.0v_8811_300s.root\")\n",
    "pandas.DataFrame(file.classnames().items(),columns=['Name','Type']).query('(Type == \"TTree\") & (Name.str.contains(\"_A\"))')"
   ]
  },
  {
   "cell_type": "code",
   "execution_count": 3,
   "id": "e3554fc8-3fea-4560-a845-daf029ababd2",
   "metadata": {},
   "outputs": [
    {
     "name": "stdout",
     "output_type": "stream",
     "text": [
      "name                 | typename                 | interpretation                \n",
      "---------------------+--------------------------+-------------------------------\n",
      "TimeStamp            | int64_t                  | AsDtype('>i8')\n",
      "Total_Deposited_E... | float                    | AsDtype('>f4')\n",
      "I0                   | float                    | AsDtype('>f4')\n",
      "Pixel_multiplicity   | int32_t                  | AsDtype('>i4')\n",
      "Shannon_Entropy      | float                    | AsDtype('>f4')\n",
      "x_pos_interaction    | float                    | AsDtype('>f4')\n",
      "y_pos_interaction    | float                    | AsDtype('>f4')\n",
      "x_anger              | float                    | AsDtype('>f4')\n",
      "y_anger              | float                    | AsDtype('>f4')\n",
      "x_var                | float                    | AsDtype('>f4')\n",
      "y_var                | float                    | AsDtype('>f4')\n",
      "N_over_I             | float                    | AsDtype('>f4')\n",
      "doi_interaction      | float                    | AsDtype('>f4')\n",
      "xi2_interaction      | float                    | AsDtype('>f4')\n",
      "tau_interaction      | float                    | AsDtype('>f4')\n",
      "A0                   | float                    | AsDtype('>f4')\n",
      "fit_status           | int32_t                  | AsDtype('>i4')\n"
     ]
    }
   ],
   "source": [
    "A_A1 = file[\"ABSORBER_A_1;1\"]\n",
    "A_A1.show()"
   ]
  },
  {
   "cell_type": "code",
   "execution_count": 4,
   "id": "ddc75fda-4b0c-4b0c-89eb-348d0db4f75e",
   "metadata": {
    "tags": []
   },
   "outputs": [],
   "source": [
    "A_A1_df = A_A1.arrays(library=\"pd\")"
   ]
  },
  {
   "cell_type": "code",
   "execution_count": 5,
   "id": "44b488fd-f982-4105-b31d-80d2cd876a8e",
   "metadata": {
    "tags": []
   },
   "outputs": [
    {
     "data": {
      "text/html": [
       "<div>\n",
       "<style scoped>\n",
       "    .dataframe tbody tr th:only-of-type {\n",
       "        vertical-align: middle;\n",
       "    }\n",
       "\n",
       "    .dataframe tbody tr th {\n",
       "        vertical-align: top;\n",
       "    }\n",
       "\n",
       "    .dataframe thead th {\n",
       "        text-align: right;\n",
       "    }\n",
       "</style>\n",
       "<table border=\"1\" class=\"dataframe\">\n",
       "  <thead>\n",
       "    <tr style=\"text-align: right;\">\n",
       "      <th></th>\n",
       "      <th>TimeStamp</th>\n",
       "      <th>Total_Deposited_Energy</th>\n",
       "      <th>I0</th>\n",
       "      <th>Pixel_multiplicity</th>\n",
       "      <th>Shannon_Entropy</th>\n",
       "      <th>x_pos_interaction</th>\n",
       "      <th>y_pos_interaction</th>\n",
       "      <th>x_anger</th>\n",
       "      <th>y_anger</th>\n",
       "      <th>x_var</th>\n",
       "      <th>y_var</th>\n",
       "      <th>N_over_I</th>\n",
       "      <th>doi_interaction</th>\n",
       "      <th>xi2_interaction</th>\n",
       "      <th>tau_interaction</th>\n",
       "      <th>A0</th>\n",
       "      <th>fit_status</th>\n",
       "    </tr>\n",
       "  </thead>\n",
       "  <tbody>\n",
       "    <tr>\n",
       "      <th>count</th>\n",
       "      <td>1.566220e+05</td>\n",
       "      <td>156622.000000</td>\n",
       "      <td>156622.000000</td>\n",
       "      <td>156622.000000</td>\n",
       "      <td>156622.000000</td>\n",
       "      <td>156622.000000</td>\n",
       "      <td>156622.000000</td>\n",
       "      <td>156622.000000</td>\n",
       "      <td>156622.000000</td>\n",
       "      <td>156618.000000</td>\n",
       "      <td>156622.000000</td>\n",
       "      <td>156622.000000</td>\n",
       "      <td>156622.000000</td>\n",
       "      <td>156622.000000</td>\n",
       "      <td>156622.000000</td>\n",
       "      <td>156622.000000</td>\n",
       "      <td>156622.0</td>\n",
       "    </tr>\n",
       "    <tr>\n",
       "      <th>mean</th>\n",
       "      <td>1.520233e+14</td>\n",
       "      <td>414.198547</td>\n",
       "      <td>0.795237</td>\n",
       "      <td>44.175793</td>\n",
       "      <td>3.104213</td>\n",
       "      <td>20.809126</td>\n",
       "      <td>22.080181</td>\n",
       "      <td>-0.986707</td>\n",
       "      <td>-0.999990</td>\n",
       "      <td>28.202785</td>\n",
       "      <td>28.225887</td>\n",
       "      <td>0.428840</td>\n",
       "      <td>0.345202</td>\n",
       "      <td>-0.937184</td>\n",
       "      <td>-0.938795</td>\n",
       "      <td>2.864311</td>\n",
       "      <td>0.0</td>\n",
       "    </tr>\n",
       "    <tr>\n",
       "      <th>std</th>\n",
       "      <td>8.655854e+13</td>\n",
       "      <td>403.046783</td>\n",
       "      <td>0.078679</td>\n",
       "      <td>23.065524</td>\n",
       "      <td>1.287168</td>\n",
       "      <td>15.733519</td>\n",
       "      <td>15.191613</td>\n",
       "      <td>0.272358</td>\n",
       "      <td>0.256073</td>\n",
       "      <td>6.940028</td>\n",
       "      <td>7.089231</td>\n",
       "      <td>1.119781</td>\n",
       "      <td>58.583881</td>\n",
       "      <td>0.246185</td>\n",
       "      <td>0.239706</td>\n",
       "      <td>479.374329</td>\n",
       "      <td>0.0</td>\n",
       "    </tr>\n",
       "    <tr>\n",
       "      <th>min</th>\n",
       "      <td>1.851504e+12</td>\n",
       "      <td>4.000347</td>\n",
       "      <td>0.171008</td>\n",
       "      <td>1.000000</td>\n",
       "      <td>-0.000344</td>\n",
       "      <td>-349.694885</td>\n",
       "      <td>-100.533539</td>\n",
       "      <td>-2.040520</td>\n",
       "      <td>-1.941667</td>\n",
       "      <td>3.333333</td>\n",
       "      <td>3.333333</td>\n",
       "      <td>0.000835</td>\n",
       "      <td>-1.000000</td>\n",
       "      <td>-1.000000</td>\n",
       "      <td>-1.000000</td>\n",
       "      <td>0.000000</td>\n",
       "      <td>0.0</td>\n",
       "    </tr>\n",
       "    <tr>\n",
       "      <th>25%</th>\n",
       "      <td>7.707357e+13</td>\n",
       "      <td>52.281919</td>\n",
       "      <td>0.751971</td>\n",
       "      <td>22.000000</td>\n",
       "      <td>2.375707</td>\n",
       "      <td>9.400000</td>\n",
       "      <td>9.400000</td>\n",
       "      <td>-1.165352</td>\n",
       "      <td>-1.148832</td>\n",
       "      <td>25.345581</td>\n",
       "      <td>25.307722</td>\n",
       "      <td>0.019888</td>\n",
       "      <td>-1.000000</td>\n",
       "      <td>-1.000000</td>\n",
       "      <td>-1.000000</td>\n",
       "      <td>0.000000</td>\n",
       "      <td>0.0</td>\n",
       "    </tr>\n",
       "    <tr>\n",
       "      <th>50%</th>\n",
       "      <td>1.521295e+14</td>\n",
       "      <td>260.267517</td>\n",
       "      <td>0.778480</td>\n",
       "      <td>58.000000</td>\n",
       "      <td>3.858521</td>\n",
       "      <td>21.799999</td>\n",
       "      <td>21.799999</td>\n",
       "      <td>-0.974668</td>\n",
       "      <td>-0.999509</td>\n",
       "      <td>28.529472</td>\n",
       "      <td>28.561758</td>\n",
       "      <td>0.056094</td>\n",
       "      <td>-1.000000</td>\n",
       "      <td>-1.000000</td>\n",
       "      <td>-1.000000</td>\n",
       "      <td>0.000000</td>\n",
       "      <td>0.0</td>\n",
       "    </tr>\n",
       "    <tr>\n",
       "      <th>75%</th>\n",
       "      <td>2.271842e+14</td>\n",
       "      <td>862.237106</td>\n",
       "      <td>0.832388</td>\n",
       "      <td>64.000000</td>\n",
       "      <td>4.030318</td>\n",
       "      <td>34.200001</td>\n",
       "      <td>34.200001</td>\n",
       "      <td>-0.860617</td>\n",
       "      <td>-0.869188</td>\n",
       "      <td>32.158566</td>\n",
       "      <td>32.238092</td>\n",
       "      <td>0.261050</td>\n",
       "      <td>-1.000000</td>\n",
       "      <td>-1.000000</td>\n",
       "      <td>-1.000000</td>\n",
       "      <td>0.000000</td>\n",
       "      <td>0.0</td>\n",
       "    </tr>\n",
       "    <tr>\n",
       "      <th>max</th>\n",
       "      <td>3.018430e+14</td>\n",
       "      <td>2979.447266</td>\n",
       "      <td>1.086637</td>\n",
       "      <td>64.000000</td>\n",
       "      <td>7.807259</td>\n",
       "      <td>105.003372</td>\n",
       "      <td>127.616699</td>\n",
       "      <td>-0.133333</td>\n",
       "      <td>-0.123824</td>\n",
       "      <td>48.541668</td>\n",
       "      <td>51.758175</td>\n",
       "      <td>16.649151</td>\n",
       "      <td>18520.664062</td>\n",
       "      <td>0.304755</td>\n",
       "      <td>0.000000</td>\n",
       "      <td>149152.031250</td>\n",
       "      <td>0.0</td>\n",
       "    </tr>\n",
       "  </tbody>\n",
       "</table>\n",
       "</div>"
      ],
      "text/plain": [
       "          TimeStamp  Total_Deposited_Energy             I0  \\\n",
       "count  1.566220e+05           156622.000000  156622.000000   \n",
       "mean   1.520233e+14              414.198547       0.795237   \n",
       "std    8.655854e+13              403.046783       0.078679   \n",
       "min    1.851504e+12                4.000347       0.171008   \n",
       "25%    7.707357e+13               52.281919       0.751971   \n",
       "50%    1.521295e+14              260.267517       0.778480   \n",
       "75%    2.271842e+14              862.237106       0.832388   \n",
       "max    3.018430e+14             2979.447266       1.086637   \n",
       "\n",
       "       Pixel_multiplicity  Shannon_Entropy  x_pos_interaction  \\\n",
       "count       156622.000000    156622.000000      156622.000000   \n",
       "mean            44.175793         3.104213          20.809126   \n",
       "std             23.065524         1.287168          15.733519   \n",
       "min              1.000000        -0.000344        -349.694885   \n",
       "25%             22.000000         2.375707           9.400000   \n",
       "50%             58.000000         3.858521          21.799999   \n",
       "75%             64.000000         4.030318          34.200001   \n",
       "max             64.000000         7.807259         105.003372   \n",
       "\n",
       "       y_pos_interaction        x_anger        y_anger          x_var  \\\n",
       "count      156622.000000  156622.000000  156622.000000  156618.000000   \n",
       "mean           22.080181      -0.986707      -0.999990      28.202785   \n",
       "std            15.191613       0.272358       0.256073       6.940028   \n",
       "min          -100.533539      -2.040520      -1.941667       3.333333   \n",
       "25%             9.400000      -1.165352      -1.148832      25.345581   \n",
       "50%            21.799999      -0.974668      -0.999509      28.529472   \n",
       "75%            34.200001      -0.860617      -0.869188      32.158566   \n",
       "max           127.616699      -0.133333      -0.123824      48.541668   \n",
       "\n",
       "               y_var       N_over_I  doi_interaction  xi2_interaction  \\\n",
       "count  156622.000000  156622.000000    156622.000000    156622.000000   \n",
       "mean       28.225887       0.428840         0.345202        -0.937184   \n",
       "std         7.089231       1.119781        58.583881         0.246185   \n",
       "min         3.333333       0.000835        -1.000000        -1.000000   \n",
       "25%        25.307722       0.019888        -1.000000        -1.000000   \n",
       "50%        28.561758       0.056094        -1.000000        -1.000000   \n",
       "75%        32.238092       0.261050        -1.000000        -1.000000   \n",
       "max        51.758175      16.649151     18520.664062         0.304755   \n",
       "\n",
       "       tau_interaction             A0  fit_status  \n",
       "count    156622.000000  156622.000000    156622.0  \n",
       "mean         -0.938795       2.864311         0.0  \n",
       "std           0.239706     479.374329         0.0  \n",
       "min          -1.000000       0.000000         0.0  \n",
       "25%          -1.000000       0.000000         0.0  \n",
       "50%          -1.000000       0.000000         0.0  \n",
       "75%          -1.000000       0.000000         0.0  \n",
       "max           0.000000  149152.031250         0.0  "
      ]
     },
     "execution_count": 5,
     "metadata": {},
     "output_type": "execute_result"
    }
   ],
   "source": [
    "A_A1_df.describe()"
   ]
  },
  {
   "cell_type": "code",
   "execution_count": 6,
   "id": "c0b7f079-a00c-4486-8000-a16b0900be33",
   "metadata": {
    "tags": []
   },
   "outputs": [
    {
     "data": {
      "image/png": "[encoded data removed]",
      "text/plain": [
       "<Figure size 640x480 with 1 Axes>"
      ]
     },
     "metadata": {},
     "output_type": "display_data"
    }
   ],
   "source": [
    "A_A1_df.Total_Deposited_Energy.hist(bins=2000)\n",
    "plt.show()"
   ]
  },
  {
   "cell_type": "code",
   "execution_count": 7,
   "id": "bca33135-689b-46e7-8ee1-8b6df9ad6052",
   "metadata": {
    "tags": []
   },
   "outputs": [
    {
     "data": {
      "text/html": [
       "<div>\n",
       "<style scoped>\n",
       "    .dataframe tbody tr th:only-of-type {\n",
       "        vertical-align: middle;\n",
       "    }\n",
       "\n",
       "    .dataframe tbody tr th {\n",
       "        vertical-align: top;\n",
       "    }\n",
       "\n",
       "    .dataframe thead th {\n",
       "        text-align: right;\n",
       "    }\n",
       "</style>\n",
       "<table border=\"1\" class=\"dataframe\">\n",
       "  <thead>\n",
       "    <tr style=\"text-align: right;\">\n",
       "      <th></th>\n",
       "      <th>Name</th>\n",
       "      <th>Type</th>\n",
       "    </tr>\n",
       "  </thead>\n",
       "  <tbody>\n",
       "    <tr>\n",
       "      <th>0</th>\n",
       "      <td>SCATTERER_A_amplitude_spectra;1</td>\n",
       "      <td>TH1D</td>\n",
       "    </tr>\n",
       "    <tr>\n",
       "      <th>2</th>\n",
       "      <td>ABSORBER_A_1_amplitude_spectra;1</td>\n",
       "      <td>TH1D</td>\n",
       "    </tr>\n",
       "    <tr>\n",
       "      <th>4</th>\n",
       "      <td>ABSORBER_A_2_amplitude_spectra;1</td>\n",
       "      <td>TH1D</td>\n",
       "    </tr>\n",
       "    <tr>\n",
       "      <th>6</th>\n",
       "      <td>ABSORBER_A_3_amplitude_spectra;1</td>\n",
       "      <td>TH1D</td>\n",
       "    </tr>\n",
       "    <tr>\n",
       "      <th>8</th>\n",
       "      <td>ABSORBER_A_4_amplitude_spectra;1</td>\n",
       "      <td>TH1D</td>\n",
       "    </tr>\n",
       "  </tbody>\n",
       "</table>\n",
       "</div>"
      ],
      "text/plain": [
       "                               Name  Type\n",
       "0   SCATTERER_A_amplitude_spectra;1  TH1D\n",
       "2  ABSORBER_A_1_amplitude_spectra;1  TH1D\n",
       "4  ABSORBER_A_2_amplitude_spectra;1  TH1D\n",
       "6  ABSORBER_A_3_amplitude_spectra;1  TH1D\n",
       "8  ABSORBER_A_4_amplitude_spectra;1  TH1D"
      ]
     },
     "execution_count": 7,
     "metadata": {},
     "output_type": "execute_result"
    }
   ],
   "source": [
    "pandas.DataFrame(file.classnames().items(),columns=['Name','Type']).query('(Type == \"TH1D\") & (Name.str.contains(\"_A\")) & (Name.str.contains(\"_amplitude_spectra;1\"))')"
   ]
  },
  {
   "cell_type": "code",
   "execution_count": 8,
   "id": "f7c36d3f-6a39-45ff-8b17-ae867d421fef",
   "metadata": {
    "tags": []
   },
   "outputs": [
    {
     "data": {
      "image/png": "[encoded data removed]",
      "text/plain": [
       "<Figure size 640x480 with 1 Axes>"
      ]
     },
     "metadata": {},
     "output_type": "display_data"
    }
   ],
   "source": [
    "plt.stairs(*file[\"ABSORBER_A_2_amplitude_spectra;1\"].to_numpy())\n",
    "plt.show()"
   ]
  },
  {
   "cell_type": "code",
   "execution_count": 9,
   "id": "82fa32f1-4f9b-4645-81e8-05b958c1053d",
   "metadata": {
    "tags": []
   },
   "outputs": [
    {
     "name": "stdout",
     "output_type": "stream",
     "text": [
      "Time of acquisition: 300s\n"
     ]
    }
   ],
   "source": [
    "print(\"Time of acquisition: {}s\".format(round((A_A1_df.TimeStamp.max()-A_A1_df.TimeStamp.min())/10**12)))"
   ]
  },
  {
   "cell_type": "code",
   "execution_count": 12,
   "id": "d9485380-fbfb-4359-8edb-5b2236c7a9ea",
   "metadata": {
    "tags": []
   },
   "outputs": [
    {
     "data": {
      "text/plain": [
       "1851504061147"
      ]
     },
     "execution_count": 12,
     "metadata": {},
     "output_type": "execute_result"
    }
   ],
   "source": [
    "A_A1_df.TimeStamp.min()"
   ]
  },
  {
   "cell_type": "code",
   "execution_count": 13,
   "id": "376f9295-f62f-4e98-804f-ab3a57de8226",
   "metadata": {
    "tags": []
   },
   "outputs": [
    {
     "data": {
      "text/plain": [
       "301843026696794"
      ]
     },
     "execution_count": 13,
     "metadata": {},
     "output_type": "execute_result"
    }
   ],
   "source": [
    "A_A1_df.TimeStamp.max()"
   ]
  },
  {
   "cell_type": "code",
   "execution_count": null,
   "id": "6f9079c0-2402-4965-a37e-0941d30f671e",
   "metadata": {},
   "outputs": [],
   "source": []
  }
 ],
 "metadata": {
  "kernelspec": {
   "display_name": "Python 3 (ipykernel)",
   "language": "python",
   "name": "python3"
  },
  "language_info": {
   "codemirror_mode": {
    "name": "ipython",
    "version": 3
   },
   "file_extension": ".py",
   "mimetype": "text/x-python",
   "name": "python",
   "nbconvert_exporter": "python",
   "pygments_lexer": "ipython3",
   "version": "3.10.9"
  }
 },
 "nbformat": 4,
 "nbformat_minor": 5
}
