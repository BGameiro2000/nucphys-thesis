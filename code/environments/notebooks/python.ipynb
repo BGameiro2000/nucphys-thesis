{
 "cells": [
  {
   "cell_type": "code",
   "execution_count": 1,
   "id": "1f3478ed-24d8-44f8-8bd6-d2d22e93d06f",
   "metadata": {
    "tags": []
   },
   "outputs": [
    {
     "name": "stdout",
     "output_type": "stream",
     "text": [
      "uproot              4.3.5\n",
      "Welcome to JupyROOT 6.26/10\n",
      "sklearn             1.2.0\n",
      "torch               1.13.1\n",
      "scipy               1.10.1\n",
      "numpy               1.24.2\n",
      "pandas              1.5.3\n",
      "modin               0.18.1\n",
      "uncertainties       3.1.7\n",
      "dexplot             0.1.4\n",
      "matplotlib          3.6.2\n",
      "tqdm                4.62.3\n"
     ]
    }
   ],
   "source": [
    "pkg_ver = lambda pkg: \"{:<20}{:}\".format(pkg.__name__,pkg.__version__)\n",
    "\n",
    "# ROOT\n",
    "import uproot\n",
    "print(pkg_ver(uproot))\n",
    "import ROOT\n",
    "\n",
    "# Machine Learning\n",
    "import sklearn\n",
    "print(pkg_ver(sklearn))\n",
    "import torch\n",
    "print(pkg_ver(torch))\n",
    "\n",
    "# Data science\n",
    "import scipy\n",
    "print(pkg_ver(scipy))\n",
    "import numpy\n",
    "print(pkg_ver(numpy))\n",
    "import pandas\n",
    "print(pkg_ver(pandas))\n",
    "import modin\n",
    "from modin import pandas as ppandas\n",
    "print(pkg_ver(modin))\n",
    "\n",
    "# Uncertainty support\n",
    "import uncertainties\n",
    "print(pkg_ver(uncertainties))\n",
    "\n",
    "# Visualizations\n",
    "import dexplot\n",
    "print(pkg_ver(dexplot))\n",
    "import matplotlib\n",
    "print(pkg_ver(matplotlib))\n",
    "plt = matplotlib.pyplot\n",
    "\n",
    "import tqdm\n",
    "print(pkg_ver(tqdm))"
   ]
  },
  {
   "cell_type": "code",
   "execution_count": null,
   "id": "172af1eb-f62b-4473-8499-db563d4b98ae",
   "metadata": {},
   "outputs": [],
   "source": []
  }
 ],
 "metadata": {
  "kernelspec": {
   "display_name": "Python 3 (ipykernel)",
   "language": "python",
   "name": "python3"
  },
  "language_info": {
   "codemirror_mode": {
    "name": "ipython",
    "version": 3
   },
   "file_extension": ".py",
   "mimetype": "text/x-python",
   "name": "python",
   "nbconvert_exporter": "python",
   "pygments_lexer": "ipython3",
   "version": "3.10.9"
  }
 },
 "nbformat": 4,
 "nbformat_minor": 5
}
