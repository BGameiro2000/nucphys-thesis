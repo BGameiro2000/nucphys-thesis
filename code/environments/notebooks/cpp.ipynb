{
 "cells": [
  {
   "cell_type": "code",
   "execution_count": 1,
   "id": "d6ab424a-5fbb-40d2-9a42-0f5dc85e2edd",
   "metadata": {
    "tags": []
   },
   "outputs": [
    {
     "name": "stdout",
     "output_type": "stream",
     "text": [
      "C++  201703\n",
      "ROOT 399882\n"
     ]
    }
   ],
   "source": [
    "%jsroot\n",
    "cout << \"C++  \" << __cplusplus << endl;\n",
    "cout << \"ROOT \" << ROOT_VERSION_CODE << endl;"
   ]
  }
 ],
 "metadata": {
  "kernelspec": {
   "display_name": "ROOT C++",
   "language": "c++",
   "name": "root"
  },
  "language_info": {
   "codemirror_mode": "text/x-c++src",
   "file_extension": ".C",
   "mimetype": " text/x-c++src",
   "name": "c++"
  }
 },
 "nbformat": 4,
 "nbformat_minor": 5
}
