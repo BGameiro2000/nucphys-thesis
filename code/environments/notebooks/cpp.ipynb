{
 "cells": [
  {
   "cell_type": "code",
   "execution_count": 1,
   "id": "d6ab424a-5fbb-40d2-9a42-0f5dc85e2edd",
   "metadata": {
    "tags": []
   },
   "outputs": [
    {
     "name": "stdout",
     "output_type": "stream",
     "text": [
      "C++  201703\n",
      "ROOT 6.26/10\n"
     ]
    }
   ],
   "source": [
    "%jsroot\n",
    "cout << \"C++  \" << __cplusplus << endl;\n",
    "cout << \"ROOT \" << ROOT_RELEASE << endl;"
   ]
  },
  {
   "cell_type": "code",
   "execution_count": 2,
   "id": "a5bf0f72-7d55-4fa9-ba3a-47f99c5f82a2",
   "metadata": {
    "tags": []
   },
   "outputs": [],
   "source": [
    ".L ../../../code/macros/macros.C"
   ]
  },
  {
   "cell_type": "code",
   "execution_count": null,
   "id": "e1cb0343-6dde-41d0-bdb6-939d908e4b81",
   "metadata": {
    "tags": []
   },
   "outputs": [],
   "source": [
    "TFile *f_measure = TFile::Open(\"../../../data/2023-02-23/8811/CW100ns/Cs137-iTEDA-A2_D.2023_02_23_T.12_21_13_C.itedABCD_lab_2023.02.22_4.0v_8811_300s.root\");"
   ]
  },
  {
   "cell_type": "code",
   "execution_count": 4,
   "id": "c9259e44-280a-4a5e-af9e-e2b0a4857a3f",
   "metadata": {
    "tags": []
   },
   "outputs": [
    {
     "name": "stderr",
     "output_type": "stream",
     "text": [
      "\u001b[1minput_line_159:2:12: \u001b[0m\u001b[0;1;31merror: \u001b[0m\u001b[1muse of undeclared identifier 'f_measure'\u001b[0m\n",
      " ((TTree *)f_measure->Get(\"SCATTERER_A;1\"))\n",
      "\u001b[0;1;32m           ^\n",
      "\u001b[0mError in <HandleInterpreterException>: Error evaluating expression ((TTree *)f_measure->Get(\"SCATTERER_A;1\")).\n",
      "Execution of your code was aborted.\n"
     ]
    }
   ],
   "source": [
    "TTree *ttree = (TTree*)f_measure->Get(\"SCATTERER_A;1\");"
   ]
  },
  {
   "cell_type": "code",
   "execution_count": null,
   "id": "c95c0422-6064-4c24-affc-59dd2093f851",
   "metadata": {
    "tags": []
   },
   "outputs": [],
   "source": [
    "Acquisition_Time(ttree)"
   ]
  },
  {
   "cell_type": "code",
   "execution_count": null,
   "id": "8881c677-12e2-4a13-b2da-7d8e0e3c541d",
   "metadata": {},
   "outputs": [],
   "source": []
  }
 ],
 "metadata": {
  "kernelspec": {
   "display_name": "ROOT C++",
   "language": "c++",
   "name": "root"
  },
  "language_info": {
   "codemirror_mode": "text/x-c++src",
   "file_extension": ".C",
   "mimetype": " text/x-c++src",
   "name": "c++"
  }
 },
 "nbformat": 4,
 "nbformat_minor": 5
}
