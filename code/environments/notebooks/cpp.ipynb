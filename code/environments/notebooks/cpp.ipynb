{
 "cells": [
  {
   "cell_type": "code",
   "execution_count": 12,
   "id": "d6ab424a-5fbb-40d2-9a42-0f5dc85e2edd",
   "metadata": {
    "tags": []
   },
   "outputs": [
    {
     "name": "stdout",
     "output_type": "stream",
     "text": [
      "C++  201703\n",
      "ROOT 399882\n"
     ]
    }
   ],
   "source": [
    "%jsroot\n",
    "cout << \"C++  \" << __cplusplus << endl;\n",
    "cout << \"ROOT \" << ROOT_VERSION_CODE << endl;"
   ]
  },
  {
   "cell_type": "code",
   "execution_count": null,
   "id": "f9216e3e-ee4b-4f49-91c1-f88f8c1df4d4",
   "metadata": {
    "tags": []
   },
   "outputs": [
    {
     "name": "stdout",
     "output_type": "stream",
     "text": [
      "   ------------------------------------------------------------------\n",
      "\n",
      "\n",
      "  | Welcome to ROOT 6.26/10                        https://root.cern |\n",
      "\n",
      "\n",
      "  | (c) 1995-2021, The ROOT Team; conception: R. Brun, F. Rademakers |\n",
      "\n",
      "\n",
      "  | Built for linuxx8664gcc on Nov 16 2022, 10:42:54                 |\n",
      "\n",
      "\n",
      "  | From tags/v6-26-10@v6-26-10                                      |\n",
      "\n",
      "\n",
      "  | With c++ (GCC) 12.2.0                                            |\n",
      "\n",
      "\n",
      "  | Try '.help', '.demo', '.license', '.credits', '.quit'/'.q'       |\n",
      "\n",
      "\n",
      "   ------------------------------------------------------------------\n",
      "\n",
      "\n",
      "\n"
     ]
    }
   ],
   "source": [
    "!root"
   ]
  },
  {
   "cell_type": "code",
   "execution_count": null,
   "id": "af5e228c-b366-4031-8c42-87d0822dc820",
   "metadata": {
    "tags": []
   },
   "outputs": [
    {
     "name": "stderr",
     "output_type": "stream",
     "text": [
      "\u001b[1minput_line_69:2:3: \u001b[0m\u001b[0;1;31merror: \u001b[0m\u001b[1muse of undeclared identifier 'd'\u001b[0m\n",
      " (d)\n",
      "\u001b[0;1;32m  ^\n",
      "\u001b[0mError in <HandleInterpreterException>: Error evaluating expression (d).\n",
      "Execution of your code was aborted.\n"
     ]
    }
   ],
   "source": [
    "d"
   ]
  },
  {
   "cell_type": "code",
   "execution_count": null,
   "id": "65394f5e-3fdd-4a35-8682-8714f776b62f",
   "metadata": {},
   "outputs": [],
   "source": []
  }
 ],
 "metadata": {
  "kernelspec": {
   "display_name": "ROOT C++",
   "language": "c++",
   "name": "root"
  },
  "language_info": {
   "codemirror_mode": "text/x-c++src",
   "file_extension": ".C",
   "mimetype": " text/x-c++src",
   "name": "c++"
  }
 },
 "nbformat": 4,
 "nbformat_minor": 5
}
